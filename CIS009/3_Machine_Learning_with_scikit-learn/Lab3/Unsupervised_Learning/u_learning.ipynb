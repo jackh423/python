{
 "cells": [
  {
   "cell_type": "markdown",
   "metadata": {},
   "source": [
    "CIS 9 - Lab 3: Unsupervised learning"
   ]
  },
  {
   "cell_type": "code",
   "execution_count": 149,
   "metadata": {},
   "outputs": [],
   "source": [
    "# Name: Srinivas Jakkula"
   ]
  },
  {
   "cell_type": "code",
   "execution_count": 150,
   "metadata": {},
   "outputs": [],
   "source": [
    "# import modules\n",
    "import pandas as pd\n",
    "import matplotlib.pyplot as plt\n",
    "import matplotlib\n",
    "%matplotlib inline\n",
    "import numpy as np\n",
    "from sklearn.cluster import KMeans"
   ]
  },
  {
   "cell_type": "markdown",
   "metadata": {},
   "source": [
    "Create a k-means clustering model to find patterns of Amazon Prime TV shows. The input file is _tv.xlsx_, from [source](https://www.kaggle.com/nilimajauhari/amazon-prime-tv-shows)"
   ]
  },
  {
   "cell_type": "code",
   "execution_count": 151,
   "metadata": {},
   "outputs": [
    {
     "name": "stdout",
     "output_type": "stream",
     "text": [
      "(404, 8)\n",
      "     S.no.           Name of the show  Year of release  \\\n",
      "0        1                 Pataal Lok           2020.0   \n",
      "1        2                     Upload           2020.0   \n",
      "2        3  The Marvelous Mrs. Maisel           2017.0   \n",
      "3        4     Four More Shots Please           2019.0   \n",
      "4        5                    Fleabag           2016.0   \n",
      "..     ...                        ...              ...   \n",
      "399    400                        NaN              NaN   \n",
      "400    401                        NaN              NaN   \n",
      "401    402                        NaN              NaN   \n",
      "402    403                        NaN              NaN   \n",
      "403    404                        NaN              NaN   \n",
      "\n",
      "     No of seasons available Language          Genre  IMDb rating  \\\n",
      "0                        1.0    Hindi          Drama          7.5   \n",
      "1                        1.0  English  Sci-fi comedy          8.1   \n",
      "2                        3.0  English  Drama, Comedy          8.7   \n",
      "3                        2.0    Hindi  Drama, Comedy          5.3   \n",
      "4                        2.0  English         Comedy          8.7   \n",
      "..                       ...      ...            ...          ...   \n",
      "399                      NaN      NaN            NaN          NaN   \n",
      "400                      NaN      NaN            NaN          NaN   \n",
      "401                      NaN      NaN            NaN          NaN   \n",
      "402                      NaN      NaN            NaN          NaN   \n",
      "403                      NaN      NaN            NaN          NaN   \n",
      "\n",
      "    Age of viewers  \n",
      "0              18+  \n",
      "1              16+  \n",
      "2              16+  \n",
      "3              18+  \n",
      "4              18+  \n",
      "..             ...  \n",
      "399            NaN  \n",
      "400            NaN  \n",
      "401            NaN  \n",
      "402            NaN  \n",
      "403            NaN  \n",
      "\n",
      "[404 rows x 8 columns]\n"
     ]
    }
   ],
   "source": [
    "#1. Read data from tv.xlsx, print the DataFrame\n",
    "data = pd.read_excel(\"tv.xlsx\")\n",
    "# data\n",
    "print(data.shape)\n",
    "# data.head()\n",
    "print(data)"
   ]
  },
  {
   "cell_type": "code",
   "execution_count": 152,
   "metadata": {},
   "outputs": [
    {
     "name": "stdout",
     "output_type": "stream",
     "text": [
      "     S.no.                       Name of the show  Year of release  \\\n",
      "0        1                             Pataal Lok           2020.0   \n",
      "1        2                                 Upload           2020.0   \n",
      "2        3              The Marvelous Mrs. Maisel           2017.0   \n",
      "3        4                 Four More Shots Please           2019.0   \n",
      "4        5                                Fleabag           2016.0   \n",
      "..     ...                                    ...              ...   \n",
      "373    374                  The Danny Thomas Show           1958.0   \n",
      "374    375  Hitoshi Matsumoto Presents Documental           2018.0   \n",
      "375    376                  Businessmen VS Aliens           2018.0   \n",
      "379    380                  Scooter: Secret Agent           2003.0   \n",
      "383    384                        The Real McCoys           1958.0   \n",
      "\n",
      "     No of seasons available  Language          Genre  IMDb rating  \\\n",
      "0                        1.0     Hindi          Drama          7.5   \n",
      "1                        1.0   English  Sci-fi comedy          8.1   \n",
      "2                        3.0   English  Drama, Comedy          8.7   \n",
      "3                        2.0     Hindi  Drama, Comedy          5.3   \n",
      "4                        2.0   English         Comedy          8.7   \n",
      "..                       ...       ...            ...          ...   \n",
      "373                      3.0   English         Comedy          7.2   \n",
      "374                      3.0  Japanese         Comedy          8.0   \n",
      "375                      1.0  Japanese         Comedy          4.5   \n",
      "379                      1.0   English         Comedy          6.8   \n",
      "383                      6.0   English         Comedy          7.5   \n",
      "\n",
      "    Age of viewers  \n",
      "0              18+  \n",
      "1              16+  \n",
      "2              16+  \n",
      "3              18+  \n",
      "4              18+  \n",
      "..             ...  \n",
      "373            All  \n",
      "374            18+  \n",
      "375            13+  \n",
      "379            All  \n",
      "383            All  \n",
      "\n",
      "[182 rows x 8 columns] \n",
      "\n"
     ]
    }
   ],
   "source": [
    "# 2. Remove lines with NaN\n",
    "# Print the DataFrame\n",
    "\n",
    "# remove data records (rows) with NaN\n",
    "cleanedData = data.dropna()\n",
    "print(cleanedData, '\\n')\n",
    "# print(cleanedData.shape)"
   ]
  },
  {
   "cell_type": "code",
   "execution_count": 153,
   "metadata": {},
   "outputs": [
    {
     "name": "stdout",
     "output_type": "stream",
     "text": [
      "     Year of release  No of seasons available                   Genre  \\\n",
      "1             2020.0                      1.0           Sci-fi comedy   \n",
      "2             2017.0                      3.0           Drama, Comedy   \n",
      "4             2016.0                      2.0                  Comedy   \n",
      "6             2018.0                      2.0                   Drama   \n",
      "9             2019.0                      1.0  Drama, Romance, Comedy   \n",
      "..               ...                      ...                     ...   \n",
      "369           2017.0                      1.0                  Comedy   \n",
      "371           2019.0                      1.0                  Comedy   \n",
      "373           1958.0                      3.0                  Comedy   \n",
      "379           2003.0                      1.0                  Comedy   \n",
      "383           1958.0                      6.0                  Comedy   \n",
      "\n",
      "     IMDb rating Age of viewers  \n",
      "1            8.1            16+  \n",
      "2            8.7            16+  \n",
      "4            8.7            18+  \n",
      "6            7.5            16+  \n",
      "9            8.0            16+  \n",
      "..           ...            ...  \n",
      "369          7.2            All  \n",
      "371          7.2             7+  \n",
      "373          7.2            All  \n",
      "379          6.8            All  \n",
      "383          7.5            All  \n",
      "\n",
      "[155 rows x 5 columns]\n"
     ]
    },
    {
     "data": {
      "text/html": [
       "<div>\n",
       "<style scoped>\n",
       "    .dataframe tbody tr th:only-of-type {\n",
       "        vertical-align: middle;\n",
       "    }\n",
       "\n",
       "    .dataframe tbody tr th {\n",
       "        vertical-align: top;\n",
       "    }\n",
       "\n",
       "    .dataframe thead th {\n",
       "        text-align: right;\n",
       "    }\n",
       "</style>\n",
       "<table border=\"1\" class=\"dataframe\">\n",
       "  <thead>\n",
       "    <tr style=\"text-align: right;\">\n",
       "      <th></th>\n",
       "      <th>Year of release</th>\n",
       "      <th>No of seasons available</th>\n",
       "      <th>Genre</th>\n",
       "      <th>IMDb rating</th>\n",
       "      <th>Age of viewers</th>\n",
       "    </tr>\n",
       "  </thead>\n",
       "  <tbody>\n",
       "    <tr>\n",
       "      <th>1</th>\n",
       "      <td>2020.0</td>\n",
       "      <td>1.0</td>\n",
       "      <td>Sci-fi comedy</td>\n",
       "      <td>8.1</td>\n",
       "      <td>16+</td>\n",
       "    </tr>\n",
       "    <tr>\n",
       "      <th>2</th>\n",
       "      <td>2017.0</td>\n",
       "      <td>3.0</td>\n",
       "      <td>Drama, Comedy</td>\n",
       "      <td>8.7</td>\n",
       "      <td>16+</td>\n",
       "    </tr>\n",
       "    <tr>\n",
       "      <th>4</th>\n",
       "      <td>2016.0</td>\n",
       "      <td>2.0</td>\n",
       "      <td>Comedy</td>\n",
       "      <td>8.7</td>\n",
       "      <td>18+</td>\n",
       "    </tr>\n",
       "    <tr>\n",
       "      <th>6</th>\n",
       "      <td>2018.0</td>\n",
       "      <td>2.0</td>\n",
       "      <td>Drama</td>\n",
       "      <td>7.5</td>\n",
       "      <td>16+</td>\n",
       "    </tr>\n",
       "    <tr>\n",
       "      <th>9</th>\n",
       "      <td>2019.0</td>\n",
       "      <td>1.0</td>\n",
       "      <td>Drama, Romance, Comedy</td>\n",
       "      <td>8.0</td>\n",
       "      <td>16+</td>\n",
       "    </tr>\n",
       "    <tr>\n",
       "      <th>...</th>\n",
       "      <td>...</td>\n",
       "      <td>...</td>\n",
       "      <td>...</td>\n",
       "      <td>...</td>\n",
       "      <td>...</td>\n",
       "    </tr>\n",
       "    <tr>\n",
       "      <th>369</th>\n",
       "      <td>2017.0</td>\n",
       "      <td>1.0</td>\n",
       "      <td>Comedy</td>\n",
       "      <td>7.2</td>\n",
       "      <td>All</td>\n",
       "    </tr>\n",
       "    <tr>\n",
       "      <th>371</th>\n",
       "      <td>2019.0</td>\n",
       "      <td>1.0</td>\n",
       "      <td>Comedy</td>\n",
       "      <td>7.2</td>\n",
       "      <td>7+</td>\n",
       "    </tr>\n",
       "    <tr>\n",
       "      <th>373</th>\n",
       "      <td>1958.0</td>\n",
       "      <td>3.0</td>\n",
       "      <td>Comedy</td>\n",
       "      <td>7.2</td>\n",
       "      <td>All</td>\n",
       "    </tr>\n",
       "    <tr>\n",
       "      <th>379</th>\n",
       "      <td>2003.0</td>\n",
       "      <td>1.0</td>\n",
       "      <td>Comedy</td>\n",
       "      <td>6.8</td>\n",
       "      <td>All</td>\n",
       "    </tr>\n",
       "    <tr>\n",
       "      <th>383</th>\n",
       "      <td>1958.0</td>\n",
       "      <td>6.0</td>\n",
       "      <td>Comedy</td>\n",
       "      <td>7.5</td>\n",
       "      <td>All</td>\n",
       "    </tr>\n",
       "  </tbody>\n",
       "</table>\n",
       "<p>155 rows × 5 columns</p>\n",
       "</div>"
      ],
      "text/plain": [
       "     Year of release  No of seasons available                   Genre  \\\n",
       "1             2020.0                      1.0           Sci-fi comedy   \n",
       "2             2017.0                      3.0           Drama, Comedy   \n",
       "4             2016.0                      2.0                  Comedy   \n",
       "6             2018.0                      2.0                   Drama   \n",
       "9             2019.0                      1.0  Drama, Romance, Comedy   \n",
       "..               ...                      ...                     ...   \n",
       "369           2017.0                      1.0                  Comedy   \n",
       "371           2019.0                      1.0                  Comedy   \n",
       "373           1958.0                      3.0                  Comedy   \n",
       "379           2003.0                      1.0                  Comedy   \n",
       "383           1958.0                      6.0                  Comedy   \n",
       "\n",
       "     IMDb rating Age of viewers  \n",
       "1            8.1            16+  \n",
       "2            8.7            16+  \n",
       "4            8.7            18+  \n",
       "6            7.5            16+  \n",
       "9            8.0            16+  \n",
       "..           ...            ...  \n",
       "369          7.2            All  \n",
       "371          7.2             7+  \n",
       "373          7.2            All  \n",
       "379          6.8            All  \n",
       "383          7.5            All  \n",
       "\n",
       "[155 rows x 5 columns]"
      ]
     },
     "execution_count": 153,
     "metadata": {},
     "output_type": "execute_result"
    }
   ],
   "source": [
    "# 3. We don't need the show number (S.no) and the name of the show, remove these columns.\n",
    "# We also consider only shows with English as the language. Remove all lines where English is not the language.\n",
    "# Then remove the Language column.\n",
    "# Print the DataFrame\n",
    "cleanedData = cleanedData.drop(columns=[\"S.no.\", \"Name of the show\"])\n",
    "#print(cleanedData)\n",
    "clean_data = cleanedData[cleanedData.Language == 'English']\n",
    "#print(clean_data)\n",
    "clean_data = clean_data.drop(columns=[\"Language\"])\n",
    "print(clean_data)\n",
    "clean_data"
   ]
  },
  {
   "cell_type": "code",
   "execution_count": 154,
   "metadata": {},
   "outputs": [
    {
     "data": {
      "text/html": [
       "<div>\n",
       "<style scoped>\n",
       "    .dataframe tbody tr th:only-of-type {\n",
       "        vertical-align: middle;\n",
       "    }\n",
       "\n",
       "    .dataframe tbody tr th {\n",
       "        vertical-align: top;\n",
       "    }\n",
       "\n",
       "    .dataframe thead th {\n",
       "        text-align: right;\n",
       "    }\n",
       "</style>\n",
       "<table border=\"1\" class=\"dataframe\">\n",
       "  <thead>\n",
       "    <tr style=\"text-align: right;\">\n",
       "      <th></th>\n",
       "      <th>Year of release</th>\n",
       "      <th>No of seasons available</th>\n",
       "      <th>Genre</th>\n",
       "      <th>IMDb rating</th>\n",
       "      <th>Age of viewers</th>\n",
       "    </tr>\n",
       "  </thead>\n",
       "  <tbody>\n",
       "    <tr>\n",
       "      <th>1</th>\n",
       "      <td>2020.0</td>\n",
       "      <td>1.0</td>\n",
       "      <td>Sci-fi comedy</td>\n",
       "      <td>8.1</td>\n",
       "      <td>16+</td>\n",
       "    </tr>\n",
       "    <tr>\n",
       "      <th>2</th>\n",
       "      <td>2017.0</td>\n",
       "      <td>3.0</td>\n",
       "      <td>Drama, Comedy</td>\n",
       "      <td>8.7</td>\n",
       "      <td>16+</td>\n",
       "    </tr>\n",
       "    <tr>\n",
       "      <th>4</th>\n",
       "      <td>2016.0</td>\n",
       "      <td>2.0</td>\n",
       "      <td>Comedy</td>\n",
       "      <td>8.7</td>\n",
       "      <td>18+</td>\n",
       "    </tr>\n",
       "    <tr>\n",
       "      <th>6</th>\n",
       "      <td>2018.0</td>\n",
       "      <td>2.0</td>\n",
       "      <td>Drama</td>\n",
       "      <td>7.5</td>\n",
       "      <td>16+</td>\n",
       "    </tr>\n",
       "    <tr>\n",
       "      <th>9</th>\n",
       "      <td>2019.0</td>\n",
       "      <td>1.0</td>\n",
       "      <td>Drama, Romance, Comedy</td>\n",
       "      <td>8.0</td>\n",
       "      <td>16+</td>\n",
       "    </tr>\n",
       "    <tr>\n",
       "      <th>...</th>\n",
       "      <td>...</td>\n",
       "      <td>...</td>\n",
       "      <td>...</td>\n",
       "      <td>...</td>\n",
       "      <td>...</td>\n",
       "    </tr>\n",
       "    <tr>\n",
       "      <th>355</th>\n",
       "      <td>2019.0</td>\n",
       "      <td>1.0</td>\n",
       "      <td>Comedy</td>\n",
       "      <td>5.4</td>\n",
       "      <td>16+</td>\n",
       "    </tr>\n",
       "    <tr>\n",
       "      <th>357</th>\n",
       "      <td>2020.0</td>\n",
       "      <td>1.0</td>\n",
       "      <td>Comedy</td>\n",
       "      <td>6.2</td>\n",
       "      <td>16+</td>\n",
       "    </tr>\n",
       "    <tr>\n",
       "      <th>361</th>\n",
       "      <td>2020.0</td>\n",
       "      <td>1.0</td>\n",
       "      <td>Comedy</td>\n",
       "      <td>6.4</td>\n",
       "      <td>18+</td>\n",
       "    </tr>\n",
       "    <tr>\n",
       "      <th>362</th>\n",
       "      <td>2019.0</td>\n",
       "      <td>1.0</td>\n",
       "      <td>Comedy</td>\n",
       "      <td>6.3</td>\n",
       "      <td>16+</td>\n",
       "    </tr>\n",
       "    <tr>\n",
       "      <th>367</th>\n",
       "      <td>2020.0</td>\n",
       "      <td>1.0</td>\n",
       "      <td>Comedy</td>\n",
       "      <td>3.7</td>\n",
       "      <td>18+</td>\n",
       "    </tr>\n",
       "  </tbody>\n",
       "</table>\n",
       "<p>119 rows × 5 columns</p>\n",
       "</div>"
      ],
      "text/plain": [
       "     Year of release  No of seasons available                   Genre  \\\n",
       "1             2020.0                      1.0           Sci-fi comedy   \n",
       "2             2017.0                      3.0           Drama, Comedy   \n",
       "4             2016.0                      2.0                  Comedy   \n",
       "6             2018.0                      2.0                   Drama   \n",
       "9             2019.0                      1.0  Drama, Romance, Comedy   \n",
       "..               ...                      ...                     ...   \n",
       "355           2019.0                      1.0                  Comedy   \n",
       "357           2020.0                      1.0                  Comedy   \n",
       "361           2020.0                      1.0                  Comedy   \n",
       "362           2019.0                      1.0                  Comedy   \n",
       "367           2020.0                      1.0                  Comedy   \n",
       "\n",
       "     IMDb rating Age of viewers  \n",
       "1            8.1            16+  \n",
       "2            8.7            16+  \n",
       "4            8.7            18+  \n",
       "6            7.5            16+  \n",
       "9            8.0            16+  \n",
       "..           ...            ...  \n",
       "355          5.4            16+  \n",
       "357          6.2            16+  \n",
       "361          6.4            18+  \n",
       "362          6.3            16+  \n",
       "367          3.7            18+  \n",
       "\n",
       "[119 rows x 5 columns]"
      ]
     },
     "execution_count": 154,
     "metadata": {},
     "output_type": "execute_result"
    }
   ],
   "source": [
    "# 4. We only want shows that are for viewer's age of 13 and above. Remove all other lines.\n",
    "# Print the DataFrame\n",
    "cond1 = (clean_data['Age of viewers'] == \"7+\")\n",
    "cond2 = (clean_data['Age of viewers'] == \"All\")\n",
    "agecondition1 = clean_data[cond1].index\n",
    "agecondition2 = clean_data[cond2].index\n",
    "clean_data.drop(agecondition1 , inplace=True)\n",
    "clean_data.drop(agecondition2 , inplace=True)\n",
    "\n",
    "clean_data"
   ]
  },
  {
   "cell_type": "code",
   "execution_count": 155,
   "metadata": {},
   "outputs": [
    {
     "data": {
      "text/html": [
       "<div>\n",
       "<style scoped>\n",
       "    .dataframe tbody tr th:only-of-type {\n",
       "        vertical-align: middle;\n",
       "    }\n",
       "\n",
       "    .dataframe tbody tr th {\n",
       "        vertical-align: top;\n",
       "    }\n",
       "\n",
       "    .dataframe thead th {\n",
       "        text-align: right;\n",
       "    }\n",
       "</style>\n",
       "<table border=\"1\" class=\"dataframe\">\n",
       "  <thead>\n",
       "    <tr style=\"text-align: right;\">\n",
       "      <th></th>\n",
       "      <th>year</th>\n",
       "      <th>season</th>\n",
       "      <th>genre</th>\n",
       "      <th>imdb</th>\n",
       "    </tr>\n",
       "  </thead>\n",
       "  <tbody>\n",
       "    <tr>\n",
       "      <th>1</th>\n",
       "      <td>2020.0</td>\n",
       "      <td>1.0</td>\n",
       "      <td>Sci-fi comedy</td>\n",
       "      <td>8.1</td>\n",
       "    </tr>\n",
       "    <tr>\n",
       "      <th>2</th>\n",
       "      <td>2017.0</td>\n",
       "      <td>3.0</td>\n",
       "      <td>Drama, Comedy</td>\n",
       "      <td>8.7</td>\n",
       "    </tr>\n",
       "    <tr>\n",
       "      <th>4</th>\n",
       "      <td>2016.0</td>\n",
       "      <td>2.0</td>\n",
       "      <td>Comedy</td>\n",
       "      <td>8.7</td>\n",
       "    </tr>\n",
       "    <tr>\n",
       "      <th>6</th>\n",
       "      <td>2018.0</td>\n",
       "      <td>2.0</td>\n",
       "      <td>Drama</td>\n",
       "      <td>7.5</td>\n",
       "    </tr>\n",
       "    <tr>\n",
       "      <th>9</th>\n",
       "      <td>2019.0</td>\n",
       "      <td>1.0</td>\n",
       "      <td>Drama, Romance, Comedy</td>\n",
       "      <td>8.0</td>\n",
       "    </tr>\n",
       "    <tr>\n",
       "      <th>...</th>\n",
       "      <td>...</td>\n",
       "      <td>...</td>\n",
       "      <td>...</td>\n",
       "      <td>...</td>\n",
       "    </tr>\n",
       "    <tr>\n",
       "      <th>355</th>\n",
       "      <td>2019.0</td>\n",
       "      <td>1.0</td>\n",
       "      <td>Comedy</td>\n",
       "      <td>5.4</td>\n",
       "    </tr>\n",
       "    <tr>\n",
       "      <th>357</th>\n",
       "      <td>2020.0</td>\n",
       "      <td>1.0</td>\n",
       "      <td>Comedy</td>\n",
       "      <td>6.2</td>\n",
       "    </tr>\n",
       "    <tr>\n",
       "      <th>361</th>\n",
       "      <td>2020.0</td>\n",
       "      <td>1.0</td>\n",
       "      <td>Comedy</td>\n",
       "      <td>6.4</td>\n",
       "    </tr>\n",
       "    <tr>\n",
       "      <th>362</th>\n",
       "      <td>2019.0</td>\n",
       "      <td>1.0</td>\n",
       "      <td>Comedy</td>\n",
       "      <td>6.3</td>\n",
       "    </tr>\n",
       "    <tr>\n",
       "      <th>367</th>\n",
       "      <td>2020.0</td>\n",
       "      <td>1.0</td>\n",
       "      <td>Comedy</td>\n",
       "      <td>3.7</td>\n",
       "    </tr>\n",
       "  </tbody>\n",
       "</table>\n",
       "<p>119 rows × 4 columns</p>\n",
       "</div>"
      ],
      "text/plain": [
       "       year  season                   genre  imdb\n",
       "1    2020.0     1.0           Sci-fi comedy   8.1\n",
       "2    2017.0     3.0           Drama, Comedy   8.7\n",
       "4    2016.0     2.0                  Comedy   8.7\n",
       "6    2018.0     2.0                   Drama   7.5\n",
       "9    2019.0     1.0  Drama, Romance, Comedy   8.0\n",
       "..      ...     ...                     ...   ...\n",
       "355  2019.0     1.0                  Comedy   5.4\n",
       "357  2020.0     1.0                  Comedy   6.2\n",
       "361  2020.0     1.0                  Comedy   6.4\n",
       "362  2019.0     1.0                  Comedy   6.3\n",
       "367  2020.0     1.0                  Comedy   3.7\n",
       "\n",
       "[119 rows x 4 columns]"
      ]
     },
     "execution_count": 155,
     "metadata": {},
     "output_type": "execute_result"
    }
   ],
   "source": [
    "# 5. Now that all the children shows have been removed, remove the Age of viewers column.\n",
    "# Then simplify the column labels to year, season, genre, imdb\n",
    "# Print the DataFrame\n",
    "clean_data = clean_data.drop(columns=[\"Age of viewers\"])\n",
    "# print(clean_data)\n",
    "clean_data.columns =['year', 'season', 'genre', 'imdb'] \n",
    "clean_data"
   ]
  },
  {
   "cell_type": "code",
   "execution_count": 156,
   "metadata": {},
   "outputs": [
    {
     "name": "stdout",
     "output_type": "stream",
     "text": [
      "       year  season   genre  imdb\n",
      "1    2020.0     1.0  Sci-fi   8.1\n",
      "2    2017.0     3.0   Drama   8.7\n",
      "4    2016.0     2.0  Comedy   8.7\n",
      "6    2018.0     2.0   Drama   7.5\n",
      "9    2019.0     1.0   Drama   8.0\n",
      "..      ...     ...     ...   ...\n",
      "355  2019.0     1.0  Comedy   5.4\n",
      "357  2020.0     1.0  Comedy   6.2\n",
      "361  2020.0     1.0  Comedy   6.4\n",
      "362  2019.0     1.0  Comedy   6.3\n",
      "367  2020.0     1.0  Comedy   3.7\n",
      "\n",
      "[119 rows x 4 columns]\n"
     ]
    },
    {
     "data": {
      "text/plain": [
       "1      Sci-fi\n",
       "2       Drama\n",
       "4      Comedy\n",
       "6       Drama\n",
       "9       Drama\n",
       "        ...  \n",
       "355    Comedy\n",
       "357    Comedy\n",
       "361    Comedy\n",
       "362    Comedy\n",
       "367    Comedy\n",
       "Name: genre, Length: 119, dtype: object"
      ]
     },
     "execution_count": 156,
     "metadata": {},
     "output_type": "execute_result"
    }
   ],
   "source": [
    "# 6. It's time to simplify the genres. We assume that the first word in the genre is the most important description.\n",
    "# Change all the genres by removing all words except the first word.\n",
    "# For example: Drama, Comedy becomes Drama\n",
    "# Print the all the genres in the genre column to confirm that they've all been shortened\n",
    "clean_data[['genre']] = clean_data.genre.str.split(expand=True)[0].str.strip(',')\n",
    "print(clean_data)\n",
    "clean_data.genre"
   ]
  },
  {
   "cell_type": "code",
   "execution_count": 157,
   "metadata": {},
   "outputs": [
    {
     "name": "stdout",
     "output_type": "stream",
     "text": [
      "['Sci-fi' 'Drama' 'Comedy' 'Action' 'Documentary' 'Animation' 'Horror'\n",
      " 'Arts' 'Sports']\n",
      "{'Sci-fi': 0, 'Drama': 1, 'Comedy': 2, 'Action': 3, 'Documentary': 4, 'Animation': 5, 'Horror': 6, 'Arts': 7, 'Sports': 8}\n",
      "       year  season  genre  imdb\n",
      "1    2020.0     1.0      0   8.1\n",
      "2    2017.0     3.0      1   8.7\n",
      "4    2016.0     2.0      2   8.7\n",
      "6    2018.0     2.0      1   7.5\n",
      "9    2019.0     1.0      1   8.0\n",
      "..      ...     ...    ...   ...\n",
      "355  2019.0     1.0      2   5.4\n",
      "357  2020.0     1.0      2   6.2\n",
      "361  2020.0     1.0      2   6.4\n",
      "362  2019.0     1.0      2   6.3\n",
      "367  2020.0     1.0      2   3.7\n",
      "\n",
      "[119 rows x 4 columns]\n"
     ]
    }
   ],
   "source": [
    "# 7. Change the genre to numbers\n",
    "# Print the DataFrame\n",
    "d = clean_data['genre'].unique()\n",
    "print(d)\n",
    "genre = {j:i for i, j in enumerate(d)}\n",
    "print(genre)\n",
    "clean_data.replace(genre, inplace=True)\n",
    "print(clean_data)"
   ]
  },
  {
   "cell_type": "code",
   "execution_count": 158,
   "metadata": {},
   "outputs": [
    {
     "name": "stdout",
     "output_type": "stream",
     "text": [
      "     year  season  genre  imdb\n",
      "1    2020     1.0      0   8.1\n",
      "2    2017     3.0      1   8.7\n",
      "4    2016     2.0      2   8.7\n",
      "6    2018     2.0      1   7.5\n",
      "9    2019     1.0      1   8.0\n",
      "..    ...     ...    ...   ...\n",
      "355  2019     1.0      2   5.4\n",
      "357  2020     1.0      2   6.2\n",
      "361  2020     1.0      2   6.4\n",
      "362  2019     1.0      2   6.3\n",
      "367  2020     1.0      2   3.7\n",
      "\n",
      "[119 rows x 4 columns]\n"
     ]
    },
    {
     "data": {
      "text/html": [
       "<div>\n",
       "<style scoped>\n",
       "    .dataframe tbody tr th:only-of-type {\n",
       "        vertical-align: middle;\n",
       "    }\n",
       "\n",
       "    .dataframe tbody tr th {\n",
       "        vertical-align: top;\n",
       "    }\n",
       "\n",
       "    .dataframe thead th {\n",
       "        text-align: right;\n",
       "    }\n",
       "</style>\n",
       "<table border=\"1\" class=\"dataframe\">\n",
       "  <thead>\n",
       "    <tr style=\"text-align: right;\">\n",
       "      <th></th>\n",
       "      <th>year</th>\n",
       "      <th>season</th>\n",
       "      <th>genre</th>\n",
       "      <th>imdb</th>\n",
       "    </tr>\n",
       "  </thead>\n",
       "  <tbody>\n",
       "    <tr>\n",
       "      <th>1</th>\n",
       "      <td>2020</td>\n",
       "      <td>1.0</td>\n",
       "      <td>0</td>\n",
       "      <td>8.1</td>\n",
       "    </tr>\n",
       "    <tr>\n",
       "      <th>2</th>\n",
       "      <td>2017</td>\n",
       "      <td>3.0</td>\n",
       "      <td>1</td>\n",
       "      <td>8.7</td>\n",
       "    </tr>\n",
       "    <tr>\n",
       "      <th>4</th>\n",
       "      <td>2016</td>\n",
       "      <td>2.0</td>\n",
       "      <td>2</td>\n",
       "      <td>8.7</td>\n",
       "    </tr>\n",
       "    <tr>\n",
       "      <th>6</th>\n",
       "      <td>2018</td>\n",
       "      <td>2.0</td>\n",
       "      <td>1</td>\n",
       "      <td>7.5</td>\n",
       "    </tr>\n",
       "    <tr>\n",
       "      <th>9</th>\n",
       "      <td>2019</td>\n",
       "      <td>1.0</td>\n",
       "      <td>1</td>\n",
       "      <td>8.0</td>\n",
       "    </tr>\n",
       "    <tr>\n",
       "      <th>...</th>\n",
       "      <td>...</td>\n",
       "      <td>...</td>\n",
       "      <td>...</td>\n",
       "      <td>...</td>\n",
       "    </tr>\n",
       "    <tr>\n",
       "      <th>355</th>\n",
       "      <td>2019</td>\n",
       "      <td>1.0</td>\n",
       "      <td>2</td>\n",
       "      <td>5.4</td>\n",
       "    </tr>\n",
       "    <tr>\n",
       "      <th>357</th>\n",
       "      <td>2020</td>\n",
       "      <td>1.0</td>\n",
       "      <td>2</td>\n",
       "      <td>6.2</td>\n",
       "    </tr>\n",
       "    <tr>\n",
       "      <th>361</th>\n",
       "      <td>2020</td>\n",
       "      <td>1.0</td>\n",
       "      <td>2</td>\n",
       "      <td>6.4</td>\n",
       "    </tr>\n",
       "    <tr>\n",
       "      <th>362</th>\n",
       "      <td>2019</td>\n",
       "      <td>1.0</td>\n",
       "      <td>2</td>\n",
       "      <td>6.3</td>\n",
       "    </tr>\n",
       "    <tr>\n",
       "      <th>367</th>\n",
       "      <td>2020</td>\n",
       "      <td>1.0</td>\n",
       "      <td>2</td>\n",
       "      <td>3.7</td>\n",
       "    </tr>\n",
       "  </tbody>\n",
       "</table>\n",
       "<p>119 rows × 4 columns</p>\n",
       "</div>"
      ],
      "text/plain": [
       "     year  season  genre  imdb\n",
       "1    2020     1.0      0   8.1\n",
       "2    2017     3.0      1   8.7\n",
       "4    2016     2.0      2   8.7\n",
       "6    2018     2.0      1   7.5\n",
       "9    2019     1.0      1   8.0\n",
       "..    ...     ...    ...   ...\n",
       "355  2019     1.0      2   5.4\n",
       "357  2020     1.0      2   6.2\n",
       "361  2020     1.0      2   6.4\n",
       "362  2019     1.0      2   6.3\n",
       "367  2020     1.0      2   3.7\n",
       "\n",
       "[119 rows x 4 columns]"
      ]
     },
     "execution_count": 158,
     "metadata": {},
     "output_type": "execute_result"
    }
   ],
   "source": [
    "# 8. The last clean up step is to change the year to an integer\n",
    "# Print the DataFrame\n",
    "\n",
    "clean_data.dtypes\n",
    "# First method\n",
    "clean_data['year'] = clean_data['year'].astype(int)\n",
    "print(clean_data)\n",
    "\n",
    "# Second method\n",
    "clean_data['year'] = clean_data['year'].apply(np.int64)\n",
    "clean_data"
   ]
  },
  {
   "cell_type": "code",
   "execution_count": 159,
   "metadata": {},
   "outputs": [
    {
     "data": {
      "text/html": [
       "<div>\n",
       "<style scoped>\n",
       "    .dataframe tbody tr th:only-of-type {\n",
       "        vertical-align: middle;\n",
       "    }\n",
       "\n",
       "    .dataframe tbody tr th {\n",
       "        vertical-align: top;\n",
       "    }\n",
       "\n",
       "    .dataframe thead th {\n",
       "        text-align: right;\n",
       "    }\n",
       "</style>\n",
       "<table border=\"1\" class=\"dataframe\">\n",
       "  <thead>\n",
       "    <tr style=\"text-align: right;\">\n",
       "      <th></th>\n",
       "      <th>year</th>\n",
       "      <th>season</th>\n",
       "      <th>genre</th>\n",
       "      <th>imdb</th>\n",
       "    </tr>\n",
       "  </thead>\n",
       "  <tbody>\n",
       "    <tr>\n",
       "      <th>count</th>\n",
       "      <td>119.000000</td>\n",
       "      <td>119.000000</td>\n",
       "      <td>119.000000</td>\n",
       "      <td>119.000000</td>\n",
       "    </tr>\n",
       "    <tr>\n",
       "      <th>mean</th>\n",
       "      <td>2015.243697</td>\n",
       "      <td>3.361345</td>\n",
       "      <td>1.739496</td>\n",
       "      <td>7.458824</td>\n",
       "    </tr>\n",
       "    <tr>\n",
       "      <th>std</th>\n",
       "      <td>4.799305</td>\n",
       "      <td>3.204158</td>\n",
       "      <td>1.607515</td>\n",
       "      <td>0.879466</td>\n",
       "    </tr>\n",
       "    <tr>\n",
       "      <th>min</th>\n",
       "      <td>1990.000000</td>\n",
       "      <td>1.000000</td>\n",
       "      <td>0.000000</td>\n",
       "      <td>3.700000</td>\n",
       "    </tr>\n",
       "    <tr>\n",
       "      <th>25%</th>\n",
       "      <td>2014.000000</td>\n",
       "      <td>1.000000</td>\n",
       "      <td>1.000000</td>\n",
       "      <td>7.000000</td>\n",
       "    </tr>\n",
       "    <tr>\n",
       "      <th>50%</th>\n",
       "      <td>2016.000000</td>\n",
       "      <td>2.000000</td>\n",
       "      <td>1.000000</td>\n",
       "      <td>7.500000</td>\n",
       "    </tr>\n",
       "    <tr>\n",
       "      <th>75%</th>\n",
       "      <td>2018.000000</td>\n",
       "      <td>5.000000</td>\n",
       "      <td>2.000000</td>\n",
       "      <td>8.100000</td>\n",
       "    </tr>\n",
       "    <tr>\n",
       "      <th>max</th>\n",
       "      <td>2020.000000</td>\n",
       "      <td>17.000000</td>\n",
       "      <td>8.000000</td>\n",
       "      <td>9.000000</td>\n",
       "    </tr>\n",
       "  </tbody>\n",
       "</table>\n",
       "</div>"
      ],
      "text/plain": [
       "              year      season       genre        imdb\n",
       "count   119.000000  119.000000  119.000000  119.000000\n",
       "mean   2015.243697    3.361345    1.739496    7.458824\n",
       "std       4.799305    3.204158    1.607515    0.879466\n",
       "min    1990.000000    1.000000    0.000000    3.700000\n",
       "25%    2014.000000    1.000000    1.000000    7.000000\n",
       "50%    2016.000000    2.000000    1.000000    7.500000\n",
       "75%    2018.000000    5.000000    2.000000    8.100000\n",
       "max    2020.000000   17.000000    8.000000    9.000000"
      ]
     },
     "execution_count": 159,
     "metadata": {},
     "output_type": "execute_result"
    }
   ],
   "source": [
    "# 9. Show the basic statistics for the DataFrame (mean, max, min, standard deviation, percentile, etc.)\n",
    "clean_data.describe()"
   ]
  },
  {
   "cell_type": "code",
   "execution_count": 160,
   "metadata": {},
   "outputs": [
    {
     "data": {
      "text/plain": [
       "Text(0.5, 0, 'Imdb')"
      ]
     },
     "execution_count": 160,
     "metadata": {},
     "output_type": "execute_result"
    },
    {
     "data": {
      "image/png": "[encoded data removed]",
      "text/plain": [
       "<Figure size 864x288 with 4 Axes>"
      ]
     },
     "metadata": {
      "needs_background": "light"
     },
     "output_type": "display_data"
    }
   ],
   "source": [
    "#10. Now that the data have been cleaned and you know some basic statistics on the data, use k-means clustering\n",
    "# to determine whether shows with high imdb scores share any year, season, or genre attributes.\n",
    "# Use as many additional cells as needed:\n",
    "# a. show your work and explain each major step\n",
    "# b. write a short paragraph (2-3 sentences) to explain your conclusion\n",
    "fig = plt.figure(figsize=(12,4))\n",
    "plt.subplot(1,4,1)   # 1 row, 3 cols, subplot 1\n",
    "plt.subplots_adjust(hspace=0.4,wspace=0.4)\n",
    "plt.hist(clean_data['year'])\n",
    "plt.xlabel(\"Year\")\n",
    "plt.subplot(1,4,2)   # 1 row, 3 cols, subplot 1\n",
    "plt.hist(clean_data['season'])\n",
    "plt.xlabel(\"Season\")\n",
    "plt.subplot(1,4,3)   # 1 row, 3 cols, subplot 1\n",
    "plt.hist(clean_data['genre'])\n",
    "plt.xlabel(\"Genre\")\n",
    "plt.subplot(1,4,4)   # 1 row, 3 cols, subplot 1\n",
    "plt.hist(clean_data['imdb'])\n",
    "plt.xlabel(\"Imdb\")\n"
   ]
  },
  {
   "cell_type": "code",
   "execution_count": 161,
   "metadata": {},
   "outputs": [],
   "source": [
    "# There are more Amzon prime TV shows in receent years\n",
    "# Many of the TV shows have less  number of series\n",
    "# Most of the shows Genre is either Drama or Comedy\n",
    "# imdb data seems like Gaussian distribution and hence data is good sample data"
   ]
  },
  {
   "cell_type": "code",
   "execution_count": 162,
   "metadata": {},
   "outputs": [
    {
     "data": {
      "text/plain": [
       "<seaborn.axisgrid.PairGrid at 0x7fee0b57dc10>"
      ]
     },
     "execution_count": 162,
     "metadata": {},
     "output_type": "execute_result"
    },
    {
     "data": {
      "image/png": "[encoded data removed]",
      "text/plain": [
       "<Figure size 720x720 with 20 Axes>"
      ]
     },
     "metadata": {
      "needs_background": "light"
     },
     "output_type": "display_data"
    }
   ],
   "source": [
    "import seaborn as sns\n",
    "sns.pairplot(clean_data)"
   ]
  },
  {
   "cell_type": "code",
   "execution_count": 163,
   "metadata": {},
   "outputs": [
    {
     "name": "stdout",
     "output_type": "stream",
     "text": [
      "['year' 'imdb']\n"
     ]
    }
   ],
   "source": [
    "# Finding the relationship between year and imdb score\n",
    "X = clean_data.drop(columns=['season','genre'])\n",
    "print(X.columns.values)"
   ]
  },
  {
   "cell_type": "code",
   "execution_count": 164,
   "metadata": {},
   "outputs": [
    {
     "data": {
      "image/png": "[encoded data removed]",
      "text/plain": [
       "<Figure size 360x360 with 1 Axes>"
      ]
     },
     "metadata": {
      "needs_background": "light"
     },
     "output_type": "display_data"
    }
   ],
   "source": [
    "wcss=[]\n",
    "for i in range(1,11):\n",
    "    kmeans=KMeans(n_clusters=i,init='k-means++')   # k-means++ is a good general purpose seed value for randomly selecting the initial centroids\n",
    "    kmeans.fit(X)\n",
    "    wcss.append(kmeans.inertia_)\n",
    "fig = plt.figure(figsize=(5,5))\n",
    "plt.title(\"Elbow plot\")\n",
    "plt.plot(np.arange(1,11),wcss)\n",
    "plt.title('Elbow Curve')\n",
    "plt.show()"
   ]
  },
  {
   "cell_type": "code",
   "execution_count": 167,
   "metadata": {},
   "outputs": [
    {
     "name": "stdout",
     "output_type": "stream",
     "text": [
      "[0 0 0 0 0 0 0 0 0 0 0 0 0 0 0 1 1 1 1 0 1 1 0 1 0 1 0 0 0 0 0 0 0 1 1 0 0\n",
      " 0 0 1 1 1 0 0 0 0 0 0 0 0 1 0 1 1 1 1 0 0 0 0 1 0 0 0 0 0 0 0 0 0 0 0 0 0\n",
      " 0 0 0 0 0 0 0 0 2 0 1 1 0 0 2 0 1 1 1 0 0 0 0 0 0 0 0 0 0 0 0 0 0 0 0 0 0\n",
      " 0 0 0 0 0 0 0 0]\n"
     ]
    }
   ],
   "source": [
    "# From the above data k =3 seems optimal value\n",
    "kmeans = KMeans(n_clusters=3,init='k-means++')\n",
    "kmeans.fit(X)\n",
    "y_kmeans = kmeans.predict(X)\n",
    "print(y_kmeans)"
   ]
  },
  {
   "cell_type": "code",
   "execution_count": 168,
   "metadata": {},
   "outputs": [
    {
     "data": {
      "image/png": "[encoded data removed]",
      "text/plain": [
       "<Figure size 576x360 with 1 Axes>"
      ]
     },
     "metadata": {
      "needs_background": "light"
     },
     "output_type": "display_data"
    }
   ],
   "source": [
    "fig = plt.figure(figsize=(8,5))\n",
    "plt.scatter(X[y_kmeans == 0].year, X[y_kmeans == 0].imdb, label = 'Cluster 1')\n",
    "plt.scatter(X[y_kmeans == 1].year, X[y_kmeans == 1].imdb, label = 'Cluster 2')\n",
    "plt.scatter(X[y_kmeans == 2].year, X[y_kmeans == 2].imdb, label = 'Cluster 3')\n",
    "# plt.scatter(X[y_kmeans == 3].year, X[y_kmeans == 3].imdb, label = 'Cluster 4')\n",
    "# plt.scatter(X[y_kmeans == 4].year, X[y_kmeans == 4].imdb, label = 'Cluster 5')\n",
    "plt.scatter(kmeans.cluster_centers_[:, 0], kmeans.cluster_centers_[:, 1], c = 'black', label = 'Centroids')\n",
    "plt.xlabel('Year')\n",
    "plt.ylabel('Imdb Score')\n",
    "plt.legend()\n",
    "plt.show()"
   ]
  },
  {
   "cell_type": "code",
   "execution_count": 178,
   "metadata": {},
   "outputs": [],
   "source": [
    "#Old shows have high imdb values compared to recent year shows."
   ]
  },
  {
   "cell_type": "code",
   "execution_count": 171,
   "metadata": {},
   "outputs": [
    {
     "name": "stdout",
     "output_type": "stream",
     "text": [
      "['season' 'imdb']\n"
     ]
    },
    {
     "data": {
      "image/png": "[encoded data removed]",
      "text/plain": [
       "<Figure size 360x360 with 1 Axes>"
      ]
     },
     "metadata": {
      "needs_background": "light"
     },
     "output_type": "display_data"
    }
   ],
   "source": [
    "X = clean_data.drop(columns=['year','genre'])\n",
    "print(X.columns.values)\n",
    "wcss=[]\n",
    "for i in range(1,11):\n",
    "    kmeans = KMeans(n_clusters=i,init='k-means++')\n",
    "    kmeans.fit(X)\n",
    "    wcss.append(kmeans.inertia_)\n",
    "fig = plt.figure(figsize=(5,5))\n",
    "plt.plot(np.arange(1,11),wcss)\n",
    "plt.title('Elbow Curve')\n",
    "plt.show() "
   ]
  },
  {
   "cell_type": "code",
   "execution_count": 173,
   "metadata": {},
   "outputs": [],
   "source": [
    "kmeans=KMeans(n_clusters=3,init='k-means++')\n",
    "kmeans.fit(X)\n",
    "y_kmeans=kmeans.predict(X)"
   ]
  },
  {
   "cell_type": "code",
   "execution_count": 174,
   "metadata": {},
   "outputs": [
    {
     "data": {
      "image/png": "[encoded data removed]",
      "text/plain": [
       "<Figure size 360x360 with 1 Axes>"
      ]
     },
     "metadata": {
      "needs_background": "light"
     },
     "output_type": "display_data"
    }
   ],
   "source": [
    "fig = plt.figure(figsize=(5,5))\n",
    "plt.scatter(X[y_kmeans == 0].season, X[y_kmeans == 0].imdb, label = 'Cluster 1')\n",
    "plt.scatter(X[y_kmeans == 1].season, X[y_kmeans == 1].imdb, label = 'Cluster 2')\n",
    "plt.scatter(X[y_kmeans == 2].season, X[y_kmeans == 2].imdb, label = 'Cluster 3')\n",
    "# plt.scatter(X[y_kmeans == 3].age, X[y_kmeans == 3].spend, label = 'Cluster 4')\n",
    "plt.scatter(kmeans.cluster_centers_[:, 0], kmeans.cluster_centers_[:, 1], c = 'black', label = 'Centroids')\n",
    "plt.xlabel('Season')\n",
    "plt.ylabel('Imdb')\n",
    "plt.legend()\n",
    "plt.show()"
   ]
  },
  {
   "cell_type": "code",
   "execution_count": null,
   "metadata": {},
   "outputs": [],
   "source": [
    "# Most of the imdb score shows have less number of season\n"
   ]
  },
  {
   "cell_type": "code",
   "execution_count": 175,
   "metadata": {},
   "outputs": [
    {
     "name": "stdout",
     "output_type": "stream",
     "text": [
      "['genre' 'imdb']\n"
     ]
    },
    {
     "data": {
      "image/png": "[encoded data removed]",
      "text/plain": [
       "<Figure size 360x360 with 1 Axes>"
      ]
     },
     "metadata": {
      "needs_background": "light"
     },
     "output_type": "display_data"
    }
   ],
   "source": [
    "X = clean_data.drop(columns=['year','season'])\n",
    "print(X.columns.values)\n",
    "wcss=[]\n",
    "for i in range(1,11):\n",
    "    kmeans = KMeans(n_clusters=i,init='k-means++')\n",
    "    kmeans.fit(X)\n",
    "    wcss.append(kmeans.inertia_)\n",
    "fig = plt.figure(figsize=(5,5))\n",
    "plt.plot(np.arange(1,11),wcss)\n",
    "plt.title('Elbow Curve')\n",
    "plt.show() "
   ]
  },
  {
   "cell_type": "code",
   "execution_count": 176,
   "metadata": {},
   "outputs": [],
   "source": [
    "kmeans=KMeans(n_clusters=3,init='k-means++')\n",
    "kmeans.fit(X)\n",
    "y_kmeans=kmeans.predict(X)"
   ]
  },
  {
   "cell_type": "code",
   "execution_count": 179,
   "metadata": {},
   "outputs": [
    {
     "data": {
      "image/png": "[encoded data removed]",
      "text/plain": [
       "<Figure size 360x360 with 1 Axes>"
      ]
     },
     "metadata": {
      "needs_background": "light"
     },
     "output_type": "display_data"
    }
   ],
   "source": [
    "fig = plt.figure(figsize=(5,5))\n",
    "plt.scatter(X[y_kmeans == 0].genre, X[y_kmeans == 0].imdb, label = 'Cluster 1')\n",
    "plt.scatter(X[y_kmeans == 1].genre, X[y_kmeans == 1].imdb, label = 'Cluster 2')\n",
    "plt.scatter(X[y_kmeans == 2].genre, X[y_kmeans == 2].imdb, label = 'Cluster 3')\n",
    "# plt.scatter(X[y_kmeans == 3].age, X[y_kmeans == 3].spend, label = 'Cluster 4')\n",
    "plt.scatter(kmeans.cluster_centers_[:, 0], kmeans.cluster_centers_[:, 1], c = 'black', label = 'Centroids')\n",
    "plt.xlabel('genre')\n",
    "plt.ylabel('Imdb')\n",
    "plt.legend()\n",
    "plt.show()"
   ]
  },
  {
   "cell_type": "code",
   "execution_count": null,
   "metadata": {},
   "outputs": [],
   "source": [
    "# genre 0 and 1 have more imdb score"
   ]
  },
  {
   "cell_type": "code",
   "execution_count": null,
   "metadata": {},
   "outputs": [],
   "source": [
    "# Determine whether shows with high imdb scores share any year, season, or genre attributes.\n",
    "# Final conclusions.\n",
    "# Except genre 2 all other genrs has imdb scores >= 6\n",
    "# More number of seasons the higher the number of imdb score\n",
    "# Older year moves have high imdb score"
   ]
  }
 ],
 "metadata": {
  "kernelspec": {
   "display_name": "Python 3",
   "language": "python",
   "name": "python3"
  },
  "language_info": {
   "codemirror_mode": {
    "name": "ipython",
    "version": 3
   },
   "file_extension": ".py",
   "mimetype": "text/x-python",
   "name": "python",
   "nbconvert_exporter": "python",
   "pygments_lexer": "ipython3",
   "version": "3.8.5"
  }
 },
 "nbformat": 4,
 "nbformat_minor": 4
}
