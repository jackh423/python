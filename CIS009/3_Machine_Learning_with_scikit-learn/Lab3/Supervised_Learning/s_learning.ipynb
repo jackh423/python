{
 "cells": [
  {
   "cell_type": "markdown",
   "metadata": {},
   "source": [
    "CIS 9 - Lab 3: supervised learning"
   ]
  },
  {
   "cell_type": "code",
   "execution_count": 430,
   "metadata": {},
   "outputs": [],
   "source": [
    "# Name: Srinivas Jakkula"
   ]
  },
  {
   "cell_type": "markdown",
   "metadata": {},
   "source": [
    "1. Create a model to predict health insurance cost for someone, given their basic health information. The input file to train and test your model is _insurance.xlsx_, (from [source]( https://www.kaggle.com/mirichoi0218/insurance))"
   ]
  },
  {
   "cell_type": "markdown",
   "metadata": {},
   "source": [
    "1a. Read in the insurance.xlsx file into a DataFrame. Print the size of the DataFrame and the first 5 data records"
   ]
  },
  {
   "cell_type": "code",
   "execution_count": 431,
   "metadata": {},
   "outputs": [
    {
     "name": "stdout",
     "output_type": "stream",
     "text": [
      "      age  gender     bmi  children smoker     region      charges\n",
      "0      19  female  27.900         0    yes  southwest  16884.92400\n",
      "1      18    male  33.770         1     no  southeast   1725.55230\n",
      "2      28    male  33.000         3     no  southeast   4449.46200\n",
      "3      33    male  22.705         0     no  northwest  21984.47061\n",
      "4      32    male  28.880         0     no  northwest   3866.85520\n",
      "...   ...     ...     ...       ...    ...        ...          ...\n",
      "1333   50    male  30.970         3     no  northwest  10600.54830\n",
      "1334   18  female  31.920         0     no  northeast   2205.98080\n",
      "1335   18  female  36.850         0     no  southeast   1629.83350\n",
      "1336   21  female  25.800         0     no  southwest   2007.94500\n",
      "1337   61  female  29.070         0    yes  northwest  29141.36030\n",
      "\n",
      "[1338 rows x 7 columns]\n",
      "(1338, 7)\n",
      "   age  gender     bmi  children smoker     region      charges\n",
      "0   19  female  27.900         0    yes  southwest  16884.92400\n",
      "1   18    male  33.770         1     no  southeast   1725.55230\n",
      "2   28    male  33.000         3     no  southeast   4449.46200\n",
      "3   33    male  22.705         0     no  northwest  21984.47061\n",
      "4   32    male  28.880         0     no  northwest   3866.85520\n"
     ]
    }
   ],
   "source": [
    "import pandas as pd\n",
    "import matplotlib.pyplot as plt\n",
    "%matplotlib inline\n",
    "import numpy as np\n",
    "import sklearn.linear_model as lm\n",
    "data = pd.read_excel(\"insurance.xlsx\")\n",
    "print(data)\n",
    "print(data.shape)\n",
    "print(data.head(5))\n"
   ]
  },
  {
   "cell_type": "markdown",
   "metadata": {},
   "source": [
    "1b. Do some preliminary investigation to see if there's any correlation between each of the input features and the resulting charges (the output).\n",
    "<br>Which feature has the strongest correlation to the charges? Prove your answer."
   ]
  },
  {
   "cell_type": "code",
   "execution_count": 432,
   "metadata": {},
   "outputs": [],
   "source": [
    "# Smoker has the strongest correlation to the charges"
   ]
  },
  {
   "cell_type": "markdown",
   "metadata": {},
   "source": [
    "1c. Recall that all data need to be numeric values for scikit-learn (why?)\n",
    "<br>Change the data in the columns: 'gender', 'smoker', and 'region' to numeric values (0,1,2...)\n",
    "<br>To change a column named 'col' in a DataFrame named df:\n",
    "- col = {'oldvalue1':num1, 'oldvalue2':num2, 'oldvalue3':num3, 'oldvalue4':num4, ... }\n",
    "- df.replace(col, inplace = True)\n",
    "\n",
    "It's up to you how to assign the numeric value. Standard practice is to assign 0,1,2,3...\n",
    "<br>For example, smoker = 0, non-smoker = 1\n",
    "\n",
    "For gender and smoker columns, it's okay to hardcode the dictionary since there are only 2 key:value pairs. For the region column, _make sure to use features of pandas and Python_ to create the dictionary, don't hard code any key or value."
   ]
  },
  {
   "cell_type": "code",
   "execution_count": 433,
   "metadata": {},
   "outputs": [
    {
     "name": "stdout",
     "output_type": "stream",
     "text": [
      "      age  gender     bmi  children  smoker  region      charges\n",
      "0      19       0  27.900         0       0       0  16884.92400\n",
      "1      18       1  33.770         1       1       1   1725.55230\n",
      "2      28       1  33.000         3       1       1   4449.46200\n",
      "3      33       1  22.705         0       1       2  21984.47061\n",
      "4      32       1  28.880         0       1       2   3866.85520\n",
      "...   ...     ...     ...       ...     ...     ...          ...\n",
      "1333   50       1  30.970         3       1       2  10600.54830\n",
      "1334   18       0  31.920         0       1       3   2205.98080\n",
      "1335   18       0  36.850         0       1       1   1629.83350\n",
      "1336   21       0  25.800         0       1       0   2007.94500\n",
      "1337   61       0  29.070         0       0       2  29141.36030\n",
      "\n",
      "[1338 rows x 7 columns]\n"
     ]
    }
   ],
   "source": [
    "gender = {'female':0, 'male':1}\n",
    "data.replace(gender, inplace=True)\n",
    "smoker={\"yes\":0, \"no\":1}\n",
    "data.replace(smoker, inplace=True)\n",
    "\n",
    "# Method 1\n",
    "d = data['region'].unique()\n",
    "region = {j:i for i, j in enumerate(d)}\n",
    "data.replace(region, inplace=True)\n",
    "print(data)\n",
    "\n",
    "# Method 2\n",
    "\n",
    "# d = set(data.region.to_dict().values())\n",
    "# print(d)\n",
    "# region = {j:i for i, j in enumerate(d)}\n",
    "# print(region)\n",
    "# data.replace(region, inplace=True)\n",
    "# data\n"
   ]
  },
  {
   "cell_type": "markdown",
   "metadata": {},
   "source": [
    "1d. From the DataFrame, create the X and y datasets.\n",
    "<br>Start with the features with the strongest correlation, then experiment to see which other features to include in the X dataset."
   ]
  },
  {
   "cell_type": "code",
   "execution_count": 434,
   "metadata": {},
   "outputs": [
    {
     "data": {
      "image/png": "[encoded data removed]",
      "text/plain": [
       "<Figure size 432x288 with 3 Axes>"
      ]
     },
     "metadata": {
      "needs_background": "light"
     },
     "output_type": "display_data"
    }
   ],
   "source": [
    "# X = pd.DataFrame(data, columns=data.smoker)\n",
    "\n",
    "plt.subplot(1,3,1)\n",
    "plt.subplots_adjust(hspace=0.4,wspace=0.4)\n",
    "plt.scatter(data.smoker,data.charges)\n",
    "plt.xlabel('smoker')\n",
    "plt.ylabel('Charges')\n",
    "\n",
    "plt.subplot(1,3,2)\n",
    "plt.scatter(data.bmi,data.charges)\n",
    "plt.xlabel('bmi')\n",
    "plt.ylabel('Charges')\n",
    "\n",
    "plt.subplot(1,3,3)\n",
    "plt.scatter(data.bmi,data.charges)\n",
    "plt.xlabel('age')\n",
    "plt.ylabel('Charges')\n",
    "\n",
    "# X = data.smoker.to_frame()\n",
    "X = X = data[['smoker','bmi', \"age\"]]\n",
    "y = data.charges\n",
    "# print(X)\n",
    "# print(y)"
   ]
  },
  {
   "cell_type": "code",
   "execution_count": 435,
   "metadata": {},
   "outputs": [],
   "source": [
    "# plt.scatter(data.bmi,data.charges)\n",
    "# plt.xlabel('bmi')\n",
    "# plt.ylabel('Charges')"
   ]
  },
  {
   "cell_type": "code",
   "execution_count": 436,
   "metadata": {},
   "outputs": [],
   "source": [
    "#"
   ]
  },
  {
   "cell_type": "markdown",
   "metadata": {},
   "source": [
    "1e. Split the X, y datasets into the training and testing sets\n",
    "<br>Show the size of each set."
   ]
  },
  {
   "cell_type": "code",
   "execution_count": 437,
   "metadata": {},
   "outputs": [
    {
     "name": "stdout",
     "output_type": "stream",
     "text": [
      "(1003, 3) (335, 3) (1003,) (335,)\n",
      "3009 1005 1003 335\n"
     ]
    }
   ],
   "source": [
    "from sklearn.model_selection import train_test_split\n",
    "X_train, X_test, y_train, y_test = train_test_split(X, y, test_size=0.25)\n",
    "print(X_train.shape, X_test.shape, y_train.shape, y_test.shape)\n",
    "print(X_train.size, X_test.size, y_train.size, y_test.size)\n"
   ]
  },
  {
   "cell_type": "markdown",
   "metadata": {},
   "source": [
    "1f. Choose the appropriate scikit-learn algorithm. (Hint: is this regression or classification?)\n",
    "<br>Then train and test the model. "
   ]
  },
  {
   "cell_type": "code",
   "execution_count": 438,
   "metadata": {},
   "outputs": [
    {
     "name": "stdout",
     "output_type": "stream",
     "text": [
      "         Coefficient\n",
      "smoker -23903.561437\n",
      "bmi       330.322523\n",
      "age       258.181869\n",
      "           Actual     Predicted\n",
      "1196  33307.55080  26746.393814\n",
      "1245   5615.36900   3277.024368\n",
      "1290   7133.90250   4421.940086\n",
      "206   11743.29900  11974.339618\n",
      "261   17085.26760  25954.150060\n",
      "...           ...           ...\n",
      "465   19521.96820  29044.665439\n",
      "188    6775.96100   9242.936604\n",
      "1252  16232.84700  26106.098420\n",
      "1115  10807.48630  13012.734361\n",
      "211    8162.71625   8547.077391\n",
      "\n",
      "[335 rows x 2 columns]\n"
     ]
    }
   ],
   "source": [
    "regr = lm.LinearRegression()\n",
    "regr = regr.fit(X_train, y_train)\n",
    "# y_pred = regr.predict(X_test)\n",
    "# # use a DataFrame to visually compare the 2 actual data and the predicted data\n",
    "# df = pd.DataFrame({'Actual': y_test, 'Predicted': y_pred})\n",
    "# df\n",
    "\n",
    "coeff = pd.DataFrame(regr.coef_, X.columns, columns=['Coefficient'])\n",
    "print(coeff)\n",
    "y_pred = regr.predict(X_test)\n",
    "df = pd.DataFrame({'Actual': y_test, 'Predicted': y_pred})\n",
    "print(df)"
   ]
  },
  {
   "cell_type": "markdown",
   "metadata": {},
   "source": [
    "1g. Show the accuracy of the model, and go back to step 1d to see what features to include in the X dataset.\n",
    "- The answer you submit should only be the _final one_, with all the X features you think are necessary. Don't include all the testing you did for your answer.\n",
    "- Also show why you included the features you chose for the X dataset. Ideally you would show the reason why with data and not just with a text explanation."
   ]
  },
  {
   "cell_type": "code",
   "execution_count": 439,
   "metadata": {},
   "outputs": [
    {
     "name": "stdout",
     "output_type": "stream",
     "text": [
      "Root Mean Squared Error: 6381.625001619905\n",
      "Mean Delivery Time: 13270.422265141257\n",
      "Percent error: 48.089087702831854\n",
      "R^2 value: 0.7473812607452623\n"
     ]
    }
   ],
   "source": [
    "from sklearn import metrics\n",
    "\n",
    "RMSE = np.sqrt(metrics.mean_squared_error(y_test, y_pred))\n",
    "print('Root Mean Squared Error:',RMSE)\n",
    "chargesMean = np.mean(data.charges)\n",
    "print('Mean Delivery Time:', chargesMean)\n",
    "print('Percent error:', RMSE/chargesMean*100)\n",
    "print('R^2 value:', regr.score(X,y))\n",
    "\n",
    "# When I have selected X value as X = data[['smoker','bmi', \"age\"]] then R^2 value is .746. \n",
    "# Even if I include other features, then there is not much increase in the R^2 value and hence, \n",
    "# I conclude that \"smoker, bmi, age playes key role in charges \""
   ]
  },
  {
   "cell_type": "markdown",
   "metadata": {},
   "source": [
    "---"
   ]
  },
  {
   "cell_type": "markdown",
   "metadata": {},
   "source": [
    "2. Create a model to predict whether someone is likely to make above $50K or not. The input file to train and test your data is in _incomeEval.xlsx_ (from: [source](https://www.kaggle.com/lodetomasi1995/income-classification))"
   ]
  },
  {
   "cell_type": "markdown",
   "metadata": {},
   "source": [
    "2a. Read in the incomeEval.xlsx file into a DataFrame. Print the size of the DataFrame and the first 5 data records"
   ]
  },
  {
   "cell_type": "code",
   "execution_count": 440,
   "metadata": {},
   "outputs": [
    {
     "name": "stdout",
     "output_type": "stream",
     "text": [
      "(32561, 15)\n",
      "488415\n",
      "   age          workclass   fnlwgt   education   education-num  \\\n",
      "0   39          State-gov    77516   Bachelors              13   \n",
      "1   50   Self-emp-not-inc    83311   Bachelors              13   \n",
      "2   38            Private   215646     HS-grad               9   \n",
      "3   53            Private   234721        11th               7   \n",
      "4   28            Private   338409   Bachelors              13   \n",
      "\n",
      "        marital-status          occupation    relationship    race   gender  \\\n",
      "0        Never-married        Adm-clerical   Not-in-family   White     Male   \n",
      "1   Married-civ-spouse     Exec-managerial         Husband   White     Male   \n",
      "2             Divorced   Handlers-cleaners   Not-in-family   White     Male   \n",
      "3   Married-civ-spouse   Handlers-cleaners         Husband   Black     Male   \n",
      "4   Married-civ-spouse      Prof-specialty            Wife   Black   Female   \n",
      "\n",
      "    capital-gain   capital-loss   hours-per-week  native-country  income  \n",
      "0           2174              0               40   United-States   <=50K  \n",
      "1              0              0               13   United-States   <=50K  \n",
      "2              0              0               40   United-States   <=50K  \n",
      "3              0              0               40   United-States   <=50K  \n",
      "4              0              0               40            Cuba   <=50K  \n"
     ]
    }
   ],
   "source": [
    "incomedata = pd.read_excel(\"incomeEval.xlsx\")\n",
    "# print(incomedata)\n",
    "print(incomedata.shape)\n",
    "print(incomedata.size)\n",
    "print(incomedata.head(5))"
   ]
  },
  {
   "cell_type": "markdown",
   "metadata": {},
   "source": [
    "2b. Modify the DataFrame so it only contains data for the US (the native-country column) and for workers with 40 or more hours per week.\n",
    "<br>To select columns, you will need to inspect the column labels carefully. It might be useful to change the column labels to make them easier to work with. Sometimes data can be messy, but pandas gives us the tools to clean it up.\n",
    "<br>Show the first 5 lines of the resulting DataFrame"
   ]
  },
  {
   "cell_type": "code",
   "execution_count": 441,
   "metadata": {},
   "outputs": [
    {
     "name": "stdout",
     "output_type": "stream",
     "text": [
      "Index(['age', 'workclass', 'fnlwgt', 'education', 'num', 'status',\n",
      "       'occupation', 'relationship', 'race', 'gender', 'gain', 'loss', 'week',\n",
      "       'country', 'income'],\n",
      "      dtype='object')\n",
      "   age          workclass  fnlwgt   education  num               status  \\\n",
      "0   39          State-gov   77516   Bachelors   13        Never-married   \n",
      "2   38            Private  215646     HS-grad    9             Divorced   \n",
      "3   53            Private  234721        11th    7   Married-civ-spouse   \n",
      "5   37            Private  284582     Masters   14   Married-civ-spouse   \n",
      "7   52   Self-emp-not-inc  209642     HS-grad    9   Married-civ-spouse   \n",
      "\n",
      "           occupation    relationship    race   gender  gain  loss  week  \\\n",
      "0        Adm-clerical   Not-in-family   White     Male  2174     0    40   \n",
      "2   Handlers-cleaners   Not-in-family   White     Male     0     0    40   \n",
      "3   Handlers-cleaners         Husband   Black     Male     0     0    40   \n",
      "5     Exec-managerial            Wife   White   Female     0     0    40   \n",
      "7     Exec-managerial         Husband   White     Male     0     0    45   \n",
      "\n",
      "          country  income  \n",
      "0   United-States   <=50K  \n",
      "2   United-States   <=50K  \n",
      "3   United-States   <=50K  \n",
      "5   United-States   <=50K  \n",
      "7   United-States    >50K  \n",
      "(22174, 15)\n"
     ]
    }
   ],
   "source": [
    "incomedata.columns = incomedata.columns.str.extract('([a-z]+)$',expand=False)\n",
    "print(incomedata.columns)\n",
    "# print(incomedata[incomedata.country == ' United-States'])\n",
    "# print(incomedata[incomedata.country == ' United-States' & incomedata.week >= 40])\n",
    "cond1 = incomedata.country == ' United-States'\n",
    "cond2 = incomedata.week >= 40\n",
    "us_data = incomedata[cond1 & cond2]\n",
    "print(us_data.head(5))\n",
    "print(us_data.shape)\n"
   ]
  },
  {
   "cell_type": "markdown",
   "metadata": {},
   "source": [
    "2c. Remove the 'fnlwgt', 'education-num', 'marital-status', 'relationship', 'capital-gain', 'capital-loss', and 'native-country' columns from the DataFrame. They are either redundant or don't affect the output salary prediction.\n",
    "<br>Print the first 5 lines of the resulting DataFrame."
   ]
  },
  {
   "cell_type": "code",
   "execution_count": 442,
   "metadata": {},
   "outputs": [
    {
     "name": "stdout",
     "output_type": "stream",
     "text": [
      "   age          workclass   education          occupation    race   gender  \\\n",
      "0   39          State-gov   Bachelors        Adm-clerical   White     Male   \n",
      "2   38            Private     HS-grad   Handlers-cleaners   White     Male   \n",
      "3   53            Private        11th   Handlers-cleaners   Black     Male   \n",
      "5   37            Private     Masters     Exec-managerial   White   Female   \n",
      "7   52   Self-emp-not-inc     HS-grad     Exec-managerial   White     Male   \n",
      "\n",
      "   week  income  \n",
      "0    40   <=50K  \n",
      "2    40   <=50K  \n",
      "3    40   <=50K  \n",
      "5    40   <=50K  \n",
      "7    45    >50K  \n"
     ]
    },
    {
     "name": "stderr",
     "output_type": "stream",
     "text": [
      "/opt/anaconda3/lib/python3.8/site-packages/pandas/core/frame.py:4163: SettingWithCopyWarning: \n",
      "A value is trying to be set on a copy of a slice from a DataFrame\n",
      "\n",
      "See the caveats in the documentation: https://pandas.pydata.org/pandas-docs/stable/user_guide/indexing.html#returning-a-view-versus-a-copy\n",
      "  return super().drop(\n"
     ]
    },
    {
     "data": {
      "text/html": [
       "<div>\n",
       "<style scoped>\n",
       "    .dataframe tbody tr th:only-of-type {\n",
       "        vertical-align: middle;\n",
       "    }\n",
       "\n",
       "    .dataframe tbody tr th {\n",
       "        vertical-align: top;\n",
       "    }\n",
       "\n",
       "    .dataframe thead th {\n",
       "        text-align: right;\n",
       "    }\n",
       "</style>\n",
       "<table border=\"1\" class=\"dataframe\">\n",
       "  <thead>\n",
       "    <tr style=\"text-align: right;\">\n",
       "      <th></th>\n",
       "      <th>age</th>\n",
       "      <th>workclass</th>\n",
       "      <th>education</th>\n",
       "      <th>occupation</th>\n",
       "      <th>race</th>\n",
       "      <th>gender</th>\n",
       "      <th>week</th>\n",
       "      <th>income</th>\n",
       "    </tr>\n",
       "  </thead>\n",
       "  <tbody>\n",
       "    <tr>\n",
       "      <th>0</th>\n",
       "      <td>39</td>\n",
       "      <td>State-gov</td>\n",
       "      <td>Bachelors</td>\n",
       "      <td>Adm-clerical</td>\n",
       "      <td>White</td>\n",
       "      <td>Male</td>\n",
       "      <td>40</td>\n",
       "      <td>&lt;=50K</td>\n",
       "    </tr>\n",
       "    <tr>\n",
       "      <th>2</th>\n",
       "      <td>38</td>\n",
       "      <td>Private</td>\n",
       "      <td>HS-grad</td>\n",
       "      <td>Handlers-cleaners</td>\n",
       "      <td>White</td>\n",
       "      <td>Male</td>\n",
       "      <td>40</td>\n",
       "      <td>&lt;=50K</td>\n",
       "    </tr>\n",
       "    <tr>\n",
       "      <th>3</th>\n",
       "      <td>53</td>\n",
       "      <td>Private</td>\n",
       "      <td>11th</td>\n",
       "      <td>Handlers-cleaners</td>\n",
       "      <td>Black</td>\n",
       "      <td>Male</td>\n",
       "      <td>40</td>\n",
       "      <td>&lt;=50K</td>\n",
       "    </tr>\n",
       "    <tr>\n",
       "      <th>5</th>\n",
       "      <td>37</td>\n",
       "      <td>Private</td>\n",
       "      <td>Masters</td>\n",
       "      <td>Exec-managerial</td>\n",
       "      <td>White</td>\n",
       "      <td>Female</td>\n",
       "      <td>40</td>\n",
       "      <td>&lt;=50K</td>\n",
       "    </tr>\n",
       "    <tr>\n",
       "      <th>7</th>\n",
       "      <td>52</td>\n",
       "      <td>Self-emp-not-inc</td>\n",
       "      <td>HS-grad</td>\n",
       "      <td>Exec-managerial</td>\n",
       "      <td>White</td>\n",
       "      <td>Male</td>\n",
       "      <td>45</td>\n",
       "      <td>&gt;50K</td>\n",
       "    </tr>\n",
       "  </tbody>\n",
       "</table>\n",
       "</div>"
      ],
      "text/plain": [
       "   age          workclass   education          occupation    race   gender  \\\n",
       "0   39          State-gov   Bachelors        Adm-clerical   White     Male   \n",
       "2   38            Private     HS-grad   Handlers-cleaners   White     Male   \n",
       "3   53            Private        11th   Handlers-cleaners   Black     Male   \n",
       "5   37            Private     Masters     Exec-managerial   White   Female   \n",
       "7   52   Self-emp-not-inc     HS-grad     Exec-managerial   White     Male   \n",
       "\n",
       "   week  income  \n",
       "0    40   <=50K  \n",
       "2    40   <=50K  \n",
       "3    40   <=50K  \n",
       "5    40   <=50K  \n",
       "7    45    >50K  "
      ]
     },
     "execution_count": 442,
     "metadata": {},
     "output_type": "execute_result"
    }
   ],
   "source": [
    "# Method 1\n",
    "updated_us_data= us_data.drop(columns=[\"fnlwgt\",\"num\", \"status\", \"relationship\", \"gain\", \"loss\", \"country\"])\n",
    "print(updated_us_data.head(5))\n",
    "\n",
    "#Method 2. In place \n",
    "us_data.drop(columns=[\"fnlwgt\",\"num\", \"status\", \"relationship\", \"gain\", \"loss\", \"country\"], inplace=True)\n",
    "us_data.head(5)\n",
    "# print(us_data)\n",
    "# print()\n",
    "#"
   ]
  },
  {
   "cell_type": "markdown",
   "metadata": {},
   "source": [
    "2d. Change all text data in each column into numeric values (0,1,2...)\n",
    "<br>For each column, use the same way as step 1c above where you don't have to hard code any key or value. But don't copy-and-paste the same code for each column, use a loop to go through each column.\n",
    "<br>Print the first 5 lines of the resulting DataFrame"
   ]
  },
  {
   "cell_type": "code",
   "execution_count": 443,
   "metadata": {},
   "outputs": [
    {
     "name": "stderr",
     "output_type": "stream",
     "text": [
      "/opt/anaconda3/lib/python3.8/site-packages/pandas/core/frame.py:4379: SettingWithCopyWarning: \n",
      "A value is trying to be set on a copy of a slice from a DataFrame\n",
      "\n",
      "See the caveats in the documentation: https://pandas.pydata.org/pandas-docs/stable/user_guide/indexing.html#returning-a-view-versus-a-copy\n",
      "  return super().replace(\n"
     ]
    },
    {
     "data": {
      "text/html": [
       "<div>\n",
       "<style scoped>\n",
       "    .dataframe tbody tr th:only-of-type {\n",
       "        vertical-align: middle;\n",
       "    }\n",
       "\n",
       "    .dataframe tbody tr th {\n",
       "        vertical-align: top;\n",
       "    }\n",
       "\n",
       "    .dataframe thead th {\n",
       "        text-align: right;\n",
       "    }\n",
       "</style>\n",
       "<table border=\"1\" class=\"dataframe\">\n",
       "  <thead>\n",
       "    <tr style=\"text-align: right;\">\n",
       "      <th></th>\n",
       "      <th>age</th>\n",
       "      <th>workclass</th>\n",
       "      <th>education</th>\n",
       "      <th>occupation</th>\n",
       "      <th>race</th>\n",
       "      <th>gender</th>\n",
       "      <th>week</th>\n",
       "      <th>income</th>\n",
       "    </tr>\n",
       "  </thead>\n",
       "  <tbody>\n",
       "    <tr>\n",
       "      <th>0</th>\n",
       "      <td>39</td>\n",
       "      <td>0</td>\n",
       "      <td>0</td>\n",
       "      <td>0</td>\n",
       "      <td>0</td>\n",
       "      <td>0</td>\n",
       "      <td>40</td>\n",
       "      <td>0</td>\n",
       "    </tr>\n",
       "    <tr>\n",
       "      <th>2</th>\n",
       "      <td>38</td>\n",
       "      <td>1</td>\n",
       "      <td>1</td>\n",
       "      <td>1</td>\n",
       "      <td>0</td>\n",
       "      <td>0</td>\n",
       "      <td>40</td>\n",
       "      <td>0</td>\n",
       "    </tr>\n",
       "    <tr>\n",
       "      <th>3</th>\n",
       "      <td>53</td>\n",
       "      <td>1</td>\n",
       "      <td>2</td>\n",
       "      <td>1</td>\n",
       "      <td>1</td>\n",
       "      <td>0</td>\n",
       "      <td>40</td>\n",
       "      <td>0</td>\n",
       "    </tr>\n",
       "    <tr>\n",
       "      <th>5</th>\n",
       "      <td>37</td>\n",
       "      <td>1</td>\n",
       "      <td>3</td>\n",
       "      <td>2</td>\n",
       "      <td>0</td>\n",
       "      <td>1</td>\n",
       "      <td>40</td>\n",
       "      <td>0</td>\n",
       "    </tr>\n",
       "    <tr>\n",
       "      <th>7</th>\n",
       "      <td>52</td>\n",
       "      <td>2</td>\n",
       "      <td>1</td>\n",
       "      <td>2</td>\n",
       "      <td>0</td>\n",
       "      <td>0</td>\n",
       "      <td>45</td>\n",
       "      <td>1</td>\n",
       "    </tr>\n",
       "  </tbody>\n",
       "</table>\n",
       "</div>"
      ],
      "text/plain": [
       "   age  workclass  education  occupation  race  gender  week  income\n",
       "0   39          0          0           0     0       0    40       0\n",
       "2   38          1          1           1     0       0    40       0\n",
       "3   53          1          2           1     1       0    40       0\n",
       "5   37          1          3           2     0       1    40       0\n",
       "7   52          2          1           2     0       0    45       1"
      ]
     },
     "execution_count": 443,
     "metadata": {},
     "output_type": "execute_result"
    }
   ],
   "source": [
    "# d = set(data.region.to_dict().values())\n",
    "# print(d)\n",
    "# region = {j:i for i, j in enumerate(d)}\n",
    "# print(region)\n",
    "# data.replace(region, inplace=True)\n",
    "\n",
    "# print(us_data.dtypes)\n",
    "# print(us_data.columns)\n",
    "# print(us_data.select_dtypes(\"object\").columns)\n",
    "# for col in us_data.columns[1:]:\n",
    "for col in us_data.select_dtypes(\"object\").columns:\n",
    "    # print(col)\n",
    "    d = us_data[col].unique()\n",
    "    # print(d)\n",
    "    col = {j:i for i, j in enumerate(d)}\n",
    "    us_data.replace(col, inplace=True)\n",
    "\n",
    "us_data.head(5)\n",
    "    "
   ]
  },
  {
   "cell_type": "markdown",
   "metadata": {},
   "source": [
    "2e. From the DataFrame, create the X and y datasets. You may not need all the columns for the X dataset.\n",
    "<br>Print the size of the X and y datasets"
   ]
  },
  {
   "cell_type": "code",
   "execution_count": 444,
   "metadata": {},
   "outputs": [
    {
     "name": "stdout",
     "output_type": "stream",
     "text": [
      "(22174,)\n",
      "(22174, 6)\n"
     ]
    },
    {
     "data": {
      "text/html": [
       "<div>\n",
       "<style scoped>\n",
       "    .dataframe tbody tr th:only-of-type {\n",
       "        vertical-align: middle;\n",
       "    }\n",
       "\n",
       "    .dataframe tbody tr th {\n",
       "        vertical-align: top;\n",
       "    }\n",
       "\n",
       "    .dataframe thead th {\n",
       "        text-align: right;\n",
       "    }\n",
       "</style>\n",
       "<table border=\"1\" class=\"dataframe\">\n",
       "  <thead>\n",
       "    <tr style=\"text-align: right;\">\n",
       "      <th></th>\n",
       "      <th>age</th>\n",
       "      <th>workclass</th>\n",
       "      <th>education</th>\n",
       "      <th>occupation</th>\n",
       "      <th>race</th>\n",
       "      <th>gender</th>\n",
       "    </tr>\n",
       "  </thead>\n",
       "  <tbody>\n",
       "    <tr>\n",
       "      <th>0</th>\n",
       "      <td>39</td>\n",
       "      <td>0</td>\n",
       "      <td>0</td>\n",
       "      <td>0</td>\n",
       "      <td>0</td>\n",
       "      <td>0</td>\n",
       "    </tr>\n",
       "    <tr>\n",
       "      <th>2</th>\n",
       "      <td>38</td>\n",
       "      <td>1</td>\n",
       "      <td>1</td>\n",
       "      <td>1</td>\n",
       "      <td>0</td>\n",
       "      <td>0</td>\n",
       "    </tr>\n",
       "    <tr>\n",
       "      <th>3</th>\n",
       "      <td>53</td>\n",
       "      <td>1</td>\n",
       "      <td>2</td>\n",
       "      <td>1</td>\n",
       "      <td>1</td>\n",
       "      <td>0</td>\n",
       "    </tr>\n",
       "    <tr>\n",
       "      <th>5</th>\n",
       "      <td>37</td>\n",
       "      <td>1</td>\n",
       "      <td>3</td>\n",
       "      <td>2</td>\n",
       "      <td>0</td>\n",
       "      <td>1</td>\n",
       "    </tr>\n",
       "    <tr>\n",
       "      <th>7</th>\n",
       "      <td>52</td>\n",
       "      <td>2</td>\n",
       "      <td>1</td>\n",
       "      <td>2</td>\n",
       "      <td>0</td>\n",
       "      <td>0</td>\n",
       "    </tr>\n",
       "  </tbody>\n",
       "</table>\n",
       "</div>"
      ],
      "text/plain": [
       "   age  workclass  education  occupation  race  gender\n",
       "0   39          0          0           0     0       0\n",
       "2   38          1          1           1     0       0\n",
       "3   53          1          2           1     1       0\n",
       "5   37          1          3           2     0       1\n",
       "7   52          2          1           2     0       0"
      ]
     },
     "execution_count": 444,
     "metadata": {},
     "output_type": "execute_result"
    }
   ],
   "source": [
    "y = us_data.income\n",
    "X = us_data.drop(columns=[\"week\", 'income'])\n",
    "print(y.shape)\n",
    "print(X.shape)\n",
    "X.head()"
   ]
  },
  {
   "cell_type": "markdown",
   "metadata": {},
   "source": [
    "2f. Split the X, y datasets into the training and testing datasets"
   ]
  },
  {
   "cell_type": "code",
   "execution_count": 445,
   "metadata": {},
   "outputs": [
    {
     "name": "stdout",
     "output_type": "stream",
     "text": [
      "(16630, 6) (5544, 6) (16630,) (5544,)\n"
     ]
    }
   ],
   "source": [
    "X_train, X_test, y_train, y_test = train_test_split(X,y,test_size=0.25)\n",
    "print(X_train.shape, X_test.shape, y_train.shape, y_test.shape)"
   ]
  },
  {
   "cell_type": "markdown",
   "metadata": {},
   "source": [
    "2g. Use the models that we've discussed in class to see which X features and model have the most accurate prediction. You may have to go back to step 2e to experiment with the X features and the accuracy.\n",
    "<br>Show the _final_ accuracy score and confusion matrix for each model. Don't include all the experimental data you had to arrive at the final answer."
   ]
  },
  {
   "cell_type": "code",
   "execution_count": 446,
   "metadata": {},
   "outputs": [
    {
     "name": "stdout",
     "output_type": "stream",
     "text": [
      "(5544, 2)\n",
      "       Actual  Predicted\n",
      "29803       1          0\n",
      "8195        1          1\n",
      "6970        0          0\n",
      "18511       1          1\n",
      "9988        0          1\n",
      "...       ...        ...\n",
      "30910       1          0\n",
      "3644        0          0\n",
      "1302        1          0\n",
      "30235       1          1\n",
      "5269        1          0\n",
      "\n",
      "[5544 rows x 2 columns]\n",
      "0.7537878787878788\n",
      "(5544, 2)\n",
      "       Actual  Predicted\n",
      "29803       1          0\n",
      "8195        1          1\n",
      "6970        0          0\n",
      "18511       1          0\n",
      "9988        0          1\n",
      "...       ...        ...\n",
      "30910       1          0\n",
      "3644        0          0\n",
      "1302        1          0\n",
      "30235       1          1\n",
      "5269        1          1\n",
      "\n",
      "[5544 rows x 2 columns]\n",
      "Accuracy: 0.702922077922078\n"
     ]
    }
   ],
   "source": [
    "# from sklearn.tree import DecisionTreeRegressor\n",
    "\n",
    "# regr = DecisionTreeRegressor()\n",
    "# regr = regr.fit(X_train, y_train)\n",
    "\n",
    "# y_pred = regr.predict(X_test)\n",
    "# df = pd.DataFrame({'Actual': y_test, 'Predicted': y_pred})\n",
    "# print(df.shape)\n",
    "# print(df)\n",
    "\n",
    "# metrics.accuracy_score(y_test, y_pred)\n",
    "# print(metrics.confusion_matrix(y_test, y_pred, labels=np.arange(1,8)))\n",
    "\n",
    "\n",
    "from sklearn.neighbors import KNeighborsClassifier\n",
    "\n",
    "classifier = KNeighborsClassifier(n_neighbors=8)\n",
    "classifier = classifier.fit(X_train, y_train)\n",
    "y_pred = classifier.predict(X_test)\n",
    "\n",
    "df = pd.DataFrame({'Actual': y_test, 'Predicted': y_pred})\n",
    "print(df.shape)\n",
    "print(df)\n",
    "\n",
    "print(metrics.accuracy_score(y_test, y_pred))\n",
    "\n",
    "# # print(metrics.confusion_matrix(y_test, y_pred, labels=np.arange(1,8)))\n",
    "\n",
    "# # we loop through K values from 1 to 50, using the same X and y datasets\n",
    "# errors = []\n",
    "# for i in np.arange(1, 50):\n",
    "#     c = KNeighborsClassifier(n_neighbors = i)\n",
    "#     c.fit(X_train, y_train)\n",
    "#     y_pred = c.predict(X_test)\n",
    "#     errors.append(np.mean(y_pred != y_test))\n",
    "    \n",
    "# # see what the error rate looks like\n",
    "# plt.style.use('seaborn-whitegrid')\n",
    "# plt.plot(errors)\n",
    "\n",
    "\n",
    "from sklearn.naive_bayes import GaussianNB\n",
    "\n",
    "model = GaussianNB()\n",
    "model = model.fit(X_train, y_train)\n",
    "y_pred = model.predict(X_test)\n",
    "\n",
    "df = pd.DataFrame({'Actual': y_test, 'Predicted': y_pred})\n",
    "print(df.shape)\n",
    "print(df)\n",
    "\n",
    "print(\"Accuracy:\",metrics.accuracy_score(y_test, y_pred))"
   ]
  },
  {
   "cell_type": "markdown",
   "metadata": {},
   "source": [
    "2h. In your own words, what algorithm and X features would you use as your model to predict salaries, and why?"
   ]
  },
  {
   "cell_type": "code",
   "execution_count": 447,
   "metadata": {},
   "outputs": [],
   "source": [
    "# KNeighborsClassifier algoithm with  \"age\tworkclass\teducation\toccupation\trace\tgender\" features\n",
    "# provided the accuracy of 75.48 %. \n",
    "# As this KNeighborsClassifier algorithm providing the highest accuracy using k_neighbors=8 with \n",
    "# \"age\tworkclass\teducation\toccupation\trace\tgender\" feature I will use this model to predict the salaries.\n",
    "\n"
   ]
  }
 ],
 "metadata": {
  "kernelspec": {
   "display_name": "Python 3",
   "language": "python",
   "name": "python3"
  },
  "language_info": {
   "codemirror_mode": {
    "name": "ipython",
    "version": 3
   },
   "file_extension": ".py",
   "mimetype": "text/x-python",
   "name": "python",
   "nbconvert_exporter": "python",
   "pygments_lexer": "ipython3",
   "version": "3.8.5"
  }
 },
 "nbformat": 4,
 "nbformat_minor": 4
}
