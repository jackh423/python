{
 "cells": [
  {
   "cell_type": "code",
   "execution_count": 55,
   "metadata": {},
   "outputs": [],
   "source": [
    "import pandas as pd \n",
    "# initialize list of lists \n",
    "data = [['San Jose', \"South\", 2.8, 2.4], ['Cupertino', \"North\", 3.3, 3.4], ['Campbell', \"Central\", 2.9, 3.0]] "
   ]
  },
  {
   "cell_type": "code",
   "execution_count": 56,
   "metadata": {},
   "outputs": [
    {
     "name": "stdout",
     "output_type": "stream",
     "text": [
      "        city      loc  jan  feb\n",
      "0   San Jose    South  2.8  2.4\n",
      "1  Cupertino    North  3.3  3.4\n",
      "2   Campbell  Central  2.9  3.0\n"
     ]
    }
   ],
   "source": [
    "# Create the pandas DataFrame \n",
    "df = pd.DataFrame(data, columns = ['city', 'loc', \"jan\", \"feb\"]) \n",
    "  \n",
    "# print dataframe. \n",
    "# df.set_index('city')\n",
    "# df.set_index('month')\n",
    "print(df)"
   ]
  },
  {
   "cell_type": "code",
   "execution_count": 57,
   "metadata": {},
   "outputs": [
    {
     "name": "stdout",
     "output_type": "stream",
     "text": [
      "        city      loc  jan  feb  sum\n",
      "0   San Jose    South  2.8  2.4  5.2\n",
      "1  Cupertino    North  3.3  3.4  6.7\n",
      "2   Campbell  Central  2.9  3.0  5.9\n"
     ]
    }
   ],
   "source": [
    "\n",
    "df[\"sum\"] = df.sum(axis=1)\n",
    "print(df)"
   ]
  },
  {
   "cell_type": "code",
   "execution_count": 58,
   "metadata": {},
   "outputs": [
    {
     "name": "stdout",
     "output_type": "stream",
     "text": [
      "6.7\n"
     ]
    }
   ],
   "source": [
    "print(f'{df[\"sum\"].max():.1f}')"
   ]
  },
  {
   "cell_type": "code",
   "execution_count": 59,
   "metadata": {},
   "outputs": [
    {
     "data": {
      "text/plain": [
       "1    Cupertino\n",
       "Name: city, dtype: object"
      ]
     },
     "execution_count": 59,
     "metadata": {},
     "output_type": "execute_result"
    }
   ],
   "source": [
    "df[df.values == df[\"sum\"].max()][\"city\"]"
   ]
  },
  {
   "cell_type": "code",
   "execution_count": 60,
   "metadata": {},
   "outputs": [],
   "source": [
    "# data\n",
    "# data.drop(columns=[\"loc\"], inplace=True)\n"
   ]
  },
  {
   "cell_type": "code",
   "execution_count": 61,
   "metadata": {},
   "outputs": [
    {
     "name": "stdout",
     "output_type": "stream",
     "text": [
      "                 loc  jan  feb  mar  apr  may  jun  jul  aug  sep  oct  nov  \\\n",
      "city                                                                          \n",
      "San Jose       south  2.8  2.4  3.0  3.1  2.7  2.7  2.4  2.2  2.0  2.0  2.2   \n",
      "Cupertino      north  3.3  3.4  3.3  3.5  3.5  3.6  3.7  3.5  3.5  3.4  3.3   \n",
      "Santa Clara  central  3.0  3.0  3.1  3.2  3.2  3.1  3.2  3.2  3.0  2.9  2.8   \n",
      "Campbell     central  2.9  3.0  3.8  2.8  2.8  2.8  2.8  2.6  2.7  2.7  2.7   \n",
      "\n",
      "             dec  \n",
      "city              \n",
      "San Jose     2.3  \n",
      "Cupertino    3.3  \n",
      "Santa Clara  3.0  \n",
      "Campbell     2.7   \n",
      "\n",
      "(4, 13) \n",
      "\n",
      "                 loc  jan  feb  mar  apr  may  jun  jul  aug  sep  oct  nov  \\\n",
      "city                                                                          \n",
      "San Jose       south  2.8  2.4  3.0  3.1  2.7  2.7  2.4  2.2  2.0  2.0  2.2   \n",
      "Cupertino      north  3.3  3.4  3.3  3.5  3.5  3.6  3.7  3.5  3.5  3.4  3.3   \n",
      "Santa Clara  central  3.0  3.0  3.1  3.2  3.2  3.1  3.2  3.2  3.0  2.9  2.8   \n",
      "Campbell     central  2.9  3.0  3.8  2.8  2.8  2.8  2.8  2.6  2.7  2.7  2.7   \n",
      "\n",
      "             dec  \n",
      "city              \n",
      "San Jose     2.3  \n",
      "Cupertino    3.3  \n",
      "Santa Clara  3.0  \n",
      "Campbell     2.7   \n",
      "\n"
     ]
    }
   ],
   "source": [
    "data = pd.read_csv(\"sc_county.csv\", index_col=\"city\")\n",
    "print(data, '\\n')\n",
    "print(data.shape, \"\\n\")\n",
    "print(data.head(5), \"\\n\")"
   ]
  },
  {
   "cell_type": "code",
   "execution_count": 40,
   "metadata": {},
   "outputs": [
    {
     "name": "stdout",
     "output_type": "stream",
     "text": [
      "             jan  feb  mar  apr  may  jun  jul  aug  sep  oct  nov  dec\n",
      "city                                                                   \n",
      "San Jose     2.8  2.4  3.0  3.1  2.7  2.7  2.4  2.2  2.0  2.0  2.2  2.3\n",
      "Cupertino    3.3  3.4  3.3  3.5  3.5  3.6  3.7  3.5  3.5  3.4  3.3  3.3\n",
      "Santa Clara  3.0  3.0  3.1  3.2  3.2  3.1  3.2  3.2  3.0  2.9  2.8  3.0\n",
      "Campbell     2.9  3.0  3.8  2.8  2.8  2.8  2.8  2.6  2.7  2.7  2.7  2.7 \n",
      "\n"
     ]
    }
   ],
   "source": [
    "# data.drop(columns=[\"loc\"])\n",
    "type(data)\n",
    "data.drop(columns=[\"loc\"], inplace=True)\n",
    "print(data, \"\\n\")"
   ]
  },
  {
   "cell_type": "code",
   "execution_count": 41,
   "metadata": {},
   "outputs": [
    {
     "name": "stdout",
     "output_type": "stream",
     "text": [
      "             jan  feb  mar  apr  may  jun  jul  aug  sep  oct  nov  dec   sum\n",
      "city                                                                         \n",
      "San Jose     2.8  2.4  3.0  3.1  2.7  2.7  2.4  2.2  2.0  2.0  2.2  2.3  29.8\n",
      "Cupertino    3.3  3.4  3.3  3.5  3.5  3.6  3.7  3.5  3.5  3.4  3.3  3.3  41.3\n",
      "Santa Clara  3.0  3.0  3.1  3.2  3.2  3.1  3.2  3.2  3.0  2.9  2.8  3.0  36.7\n",
      "Campbell     2.9  3.0  3.8  2.8  2.8  2.8  2.8  2.6  2.7  2.7  2.7  2.7  34.3 \n",
      "\n"
     ]
    }
   ],
   "source": [
    "data[\"sum\"] = data.sum(axis=1)\n",
    "print(data, \"\\n\")"
   ]
  },
  {
   "cell_type": "code",
   "execution_count": 52,
   "metadata": {},
   "outputs": [
    {
     "name": "stdout",
     "output_type": "stream",
     "text": [
      "           jan  feb  mar  apr  may  jun  jul  aug  sep  oct  nov  dec   sum\n",
      "city                                                                       \n",
      "Cupertino  3.3  3.4  3.3  3.5  3.5  3.6  3.7  3.5  3.5  3.4  3.3  3.3  41.3\n",
      "['Cupertino']\n"
     ]
    }
   ],
   "source": [
    "print(data[data.values == data[\"sum\"].max()])\n",
    "print(data[data.values == data[\"sum\"].max()].index.values)"
   ]
  },
  {
   "cell_type": "code",
   "execution_count": 43,
   "metadata": {},
   "outputs": [],
   "source": [
    "index = data.index"
   ]
  },
  {
   "cell_type": "code",
   "execution_count": 44,
   "metadata": {},
   "outputs": [
    {
     "name": "stdout",
     "output_type": "stream",
     "text": [
      "Index(['San Jose', 'Cupertino', 'Santa Clara', 'Campbell'], dtype='object', name='city')\n"
     ]
    }
   ],
   "source": [
    "print(index)"
   ]
  },
  {
   "cell_type": "code",
   "execution_count": 53,
   "metadata": {},
   "outputs": [],
   "source": [
    "# print(index[data.values == data[\"sum\"].max()])"
   ]
  },
  {
   "cell_type": "code",
   "execution_count": 54,
   "metadata": {},
   "outputs": [
    {
     "data": {
      "text/plain": [
       "2.0"
      ]
     },
     "execution_count": 54,
     "metadata": {},
     "output_type": "execute_result"
    }
   ],
   "source": [
    "data.loc[\"San Jose\"].min()"
   ]
  },
  {
   "cell_type": "code",
   "execution_count": null,
   "metadata": {},
   "outputs": [],
   "source": [
    "total = data.sum()"
   ]
  }
 ],
 "metadata": {
  "kernelspec": {
   "display_name": "Python 3",
   "language": "python",
   "name": "python3"
  },
  "language_info": {
   "codemirror_mode": {
    "name": "ipython",
    "version": 3
   },
   "file_extension": ".py",
   "mimetype": "text/x-python",
   "name": "python",
   "nbconvert_exporter": "python",
   "pygments_lexer": "ipython3",
   "version": "3.8.5"
  }
 },
 "nbformat": 4,
 "nbformat_minor": 4
}
