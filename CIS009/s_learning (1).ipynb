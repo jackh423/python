{
 "cells": [
  {
   "cell_type": "markdown",
   "metadata": {},
   "source": [
    "CIS 9 - Lab 3: supervised learning"
   ]
  },
  {
   "cell_type": "code",
   "execution_count": 476,
   "metadata": {},
   "outputs": [],
   "source": [
    "# Name:"
   ]
  },
  {
   "cell_type": "markdown",
   "metadata": {},
   "source": [
    "1. Create a model to predict health insurance cost for someone, given their basic health information. The input file to train and test your model is _insurance.xlsx_, (from [source]( https://www.kaggle.com/mirichoi0218/insurance))"
   ]
  },
  {
   "cell_type": "markdown",
   "metadata": {},
   "source": [
    "1a. Read in the insurance.xlsx file into a DataFrame. Print the size of the DataFrame and the first 5 data records"
   ]
  },
  {
   "cell_type": "code",
   "execution_count": null,
   "metadata": {},
   "outputs": [],
   "source": []
  },
  {
   "cell_type": "markdown",
   "metadata": {},
   "source": [
    "1b. Do some preliminary investigation to see if there's any correlation between each of the input features and the resulting charges (the output).\n",
    "<br>Which feature has the strongest correlation to the charges? Prove your answer."
   ]
  },
  {
   "cell_type": "code",
   "execution_count": null,
   "metadata": {},
   "outputs": [],
   "source": []
  },
  {
   "cell_type": "markdown",
   "metadata": {},
   "source": [
    "1c. Recall that all data need to be numeric values for scikit-learn (why?)\n",
    "<br>Change the data in the columns: 'gender', 'smoker', and 'region' to numeric values (0,1,2...)\n",
    "<br>To change a column named 'col' in a DataFrame named df:\n",
    "- col = {'oldvalue1':num1, 'oldvalue2':num2, 'oldvalue3':num3, 'oldvalue4':num4, ... }\n",
    "- df.replace(col, inplace = True)\n",
    "\n",
    "It's up to you how to assign the numeric value. Standard practice is to assign 0,1,2,3...\n",
    "<br>For example, smoker = 0, non-smoker = 1\n",
    "\n",
    "For gender and smoker columns, it's okay to hardcode the dictionary since there are only 2 key:value pairs. For the region column, _make sure to use features of pandas and Python_ to create the dictionary, don't hard code any key or value."
   ]
  },
  {
   "cell_type": "code",
   "execution_count": null,
   "metadata": {},
   "outputs": [],
   "source": []
  },
  {
   "cell_type": "markdown",
   "metadata": {},
   "source": [
    "1d. From the DataFrame, create the X and y datasets.\n",
    "<br>Start with the features with the strongest correlation, then experiment to see which other features to include in the X dataset."
   ]
  },
  {
   "cell_type": "code",
   "execution_count": null,
   "metadata": {},
   "outputs": [],
   "source": []
  },
  {
   "cell_type": "markdown",
   "metadata": {},
   "source": [
    "1e. Split the X, y datasets into the training and testing sets\n",
    "<br>Show the size of each set."
   ]
  },
  {
   "cell_type": "code",
   "execution_count": null,
   "metadata": {},
   "outputs": [],
   "source": []
  },
  {
   "cell_type": "markdown",
   "metadata": {},
   "source": [
    "1f. Choose the appropriate scikit-learn algorithm. (Hint: is this regression or classification?)\n",
    "<br>Then train and test the model. "
   ]
  },
  {
   "cell_type": "code",
   "execution_count": null,
   "metadata": {},
   "outputs": [],
   "source": []
  },
  {
   "cell_type": "markdown",
   "metadata": {},
   "source": [
    "1g. Show the accuracy of the model, and go back to step 1d to see what features to include in the X dataset.\n",
    "- The answer you submit should only be the _final one_, with all the X features you think are necessary. Don't include all the testing you did for your answer.\n",
    "- Also show why you included the features you chose for the X dataset. Ideally you would show the reason why with data and not just with a text explanation."
   ]
  },
  {
   "cell_type": "code",
   "execution_count": null,
   "metadata": {},
   "outputs": [],
   "source": []
  },
  {
   "cell_type": "markdown",
   "metadata": {},
   "source": [
    "---"
   ]
  },
  {
   "cell_type": "markdown",
   "metadata": {},
   "source": [
    "2. Create a model to predict whether someone is likely to make above $50K or not. The input file to train and test your data is in _incomeEval.xlsx_ (from: [source](https://www.kaggle.com/lodetomasi1995/income-classification))"
   ]
  },
  {
   "cell_type": "markdown",
   "metadata": {},
   "source": [
    "2a. Read in the incomeEval.xlsx file into a DataFrame. Print the size of the DataFrame and the first 5 data records"
   ]
  },
  {
   "cell_type": "code",
   "execution_count": null,
   "metadata": {},
   "outputs": [],
   "source": []
  },
  {
   "cell_type": "markdown",
   "metadata": {},
   "source": [
    "2b. Modify the DataFrame so it only contains data for the US (the native-country column) and for workers with 40 or more hours per week.\n",
    "<br>To select columns, you will need to inspect the column labels carefully. It might be useful to change the column labels to make them easier to work with. Sometimes data can be messy, but pandas gives us the tools to clean it up.\n",
    "<br>Show the first 5 lines of the resulting DataFrame"
   ]
  },
  {
   "cell_type": "code",
   "execution_count": null,
   "metadata": {},
   "outputs": [],
   "source": []
  },
  {
   "cell_type": "markdown",
   "metadata": {},
   "source": [
    "2c. Remove the 'fnlwgt', 'education-num', 'marital-status', 'relationship', 'capital-gain', 'capital-loss', and 'native-country' columns from the DataFrame. They are either redundant or don't affect the output salary prediction.\n",
    "<br>Print the first 5 lines of the resulting DataFrame."
   ]
  },
  {
   "cell_type": "code",
   "execution_count": null,
   "metadata": {},
   "outputs": [],
   "source": []
  },
  {
   "cell_type": "markdown",
   "metadata": {},
   "source": [
    "2d. Change all text data in each column into numeric values (0,1,2...)\n",
    "<br>For each column, use the same way as step 1c above where you don't have to hard code any key or value. But don't copy-and-paste the same code for each column, use a loop to go through each column.\n",
    "<br>Print the first 5 lines of the resulting DataFrame"
   ]
  },
  {
   "cell_type": "code",
   "execution_count": null,
   "metadata": {},
   "outputs": [],
   "source": []
  },
  {
   "cell_type": "markdown",
   "metadata": {},
   "source": [
    "2e. From the DataFrame, create the X and y datasets. You may not need all the columns for the X dataset.\n",
    "<br>Print the size of the X and y datasets"
   ]
  },
  {
   "cell_type": "code",
   "execution_count": null,
   "metadata": {},
   "outputs": [],
   "source": []
  },
  {
   "cell_type": "markdown",
   "metadata": {},
   "source": [
    "2f. Split the X, y datasets into the training and testing datasets"
   ]
  },
  {
   "cell_type": "code",
   "execution_count": null,
   "metadata": {},
   "outputs": [],
   "source": []
  },
  {
   "cell_type": "markdown",
   "metadata": {},
   "source": [
    "2g. Use the models that we've discussed in class to see which X features and model have the most accurate prediction. You may have to go back to step 2e to experiment with the X features and the accuracy.\n",
    "<br>Show the _final_ accuracy score and confusion matrix for each model. Don't include all the experimental data you had to arrive at the final answer."
   ]
  },
  {
   "cell_type": "code",
   "execution_count": null,
   "metadata": {},
   "outputs": [],
   "source": []
  },
  {
   "cell_type": "markdown",
   "metadata": {},
   "source": [
    "2h. In your own words, what algorithm and X features would you use as your model to predict salaries, and why?"
   ]
  },
  {
   "cell_type": "code",
   "execution_count": null,
   "metadata": {},
   "outputs": [],
   "source": [
    "# "
   ]
  }
 ],
 "metadata": {
  "kernelspec": {
   "display_name": "Python 3",
   "language": "python",
   "name": "python3"
  },
  "language_info": {
   "codemirror_mode": {
    "name": "ipython",
    "version": 3
   },
   "file_extension": ".py",
   "mimetype": "text/x-python",
   "name": "python",
   "nbconvert_exporter": "python",
   "pygments_lexer": "ipython3",
   "version": "3.8.5"
  }
 },
 "nbformat": 4,
 "nbformat_minor": 4
}
