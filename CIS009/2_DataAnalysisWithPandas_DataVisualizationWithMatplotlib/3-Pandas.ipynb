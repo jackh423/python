{
 "cells": [
  {
   "cell_type": "markdown",
   "metadata": {},
   "source": [
    "## CIS 9\n",
    "## Pandas, Data Analysis, Data Cleaning"
   ]
  },
  {
   "cell_type": "markdown",
   "metadata": {},
   "source": [
    "Reading\n",
    "<br>Python Data Science Handbook Chapter 3\n",
    "- Introducing Pandas Objects\n",
    "- Data Indexing and Selection\n",
    "- Handling Missing Data, section on NaN\n",
    "- Combining Datasets: Concat and Append, section on concat\n",
    "- Aggregation and Grouping, section on groupby\n",
    "- Vectorized String Operations, up to but not including the Example Recipe Database"
   ]
  },
  {
   "cell_type": "markdown",
   "metadata": {},
   "source": [
    "Comparison of different data storage:\n",
    "- A Python list can store different types of data and can change size, but the flexibility makes indexing and calculation of data in a list slow.\n",
    "- A numpy array can only store only one data type and has fixed size, therefore indexing and calculation of data in a numpy array is very fast.\n",
    "- A pandas data structure can store different types of data, so indexing data is a little slower than numpy but still faster than a list, and when calculations are done with numeric data, they are done using numpy and are very fast. \n",
    "<br>For data analysis purpose, this is best of both worlds! We get some of the flexibility and all the calculation speed.\n",
    "<br><br>A pandas DataFrame (a 2D structure) is the workhorse of data analysis."
   ]
  },
  {
   "cell_type": "markdown",
   "metadata": {},
   "source": [
    "Import libraries"
   ]
  },
  {
   "cell_type": "code",
   "execution_count": 1,
   "metadata": {},
   "outputs": [],
   "source": [
    "import pandas as pd\n",
    "import numpy as np   \n",
    "# Pandas doesn't need importing of numpy, this import is for when we need numpy directly."
   ]
  },
  {
   "cell_type": "markdown",
   "metadata": {},
   "source": [
    "Pandas __Series__: 1D sequence of data"
   ]
  },
  {
   "cell_type": "code",
   "execution_count": 2,
   "metadata": {},
   "outputs": [
    {
     "name": "stdout",
     "output_type": "stream",
     "text": [
      "0    1\n",
      "1    5\n",
      "2    2\n",
      "3    8\n",
      "4    3\n",
      "dtype: int64 \n",
      "\n",
      "[1 5 2 8 3] \n",
      "\n",
      "RangeIndex(start=0, stop=5, step=1) \n",
      "\n",
      "1 \n",
      "\n",
      "0    1\n",
      "1    5\n",
      "2    2\n",
      "dtype: int64\n"
     ]
    }
   ],
   "source": [
    "# 1. A Series is similar to a Python list, with data and indices\n",
    "nums = pd.Series([1,5,2,8,3])\n",
    "print(nums, '\\n')\n",
    "print(nums.values, '\\n')\n",
    "print(nums.index, '\\n')\n",
    "print(nums[0], '\\n')\n",
    "print(nums[:3])"
   ]
  },
  {
   "cell_type": "code",
   "execution_count": 3,
   "metadata": {},
   "outputs": [
    {
     "name": "stdout",
     "output_type": "stream",
     "text": [
      "<class 'numpy.float64'>\n"
     ]
    },
    {
     "data": {
      "text/plain": [
       "7.8"
      ]
     },
     "execution_count": 3,
     "metadata": {},
     "output_type": "execute_result"
    }
   ],
   "source": [
    "# 2. Internally, numeric data are stored in a numpy array\n",
    "nums = pd.Series([0, -2.5, 8, -.7, 3])\n",
    "print(type(nums[0]))\n",
    "# and numpy operations can be used with numeric data\n",
    "np.sum(nums)     \n",
    "\n",
    "# Jupyter Notebook tip:\n",
    "# In Jupyter Notebook, you don't have to use print() if the code in the cell produces \n",
    "# one output, because Jupyter Notebook will automatically print the output.\n",
    "# If the code produces multiple output, then a print() is needed for all output except \n",
    "# the last output, because Jupyter Notebook will only display the last one.\n",
    "\n",
    "# For these exercise notebooks, I use print() for all output except the last one,\n",
    "# or when we need to print text along with the output"
   ]
  },
  {
   "cell_type": "code",
   "execution_count": 4,
   "metadata": {},
   "outputs": [
    {
     "name": "stdout",
     "output_type": "stream",
     "text": [
      "[1 2 3]\n",
      "<class 'numpy.ndarray'>\n"
     ]
    }
   ],
   "source": [
    "np1 = np.array([1,2, 3])\n",
    "print(np1)\n",
    "print(type(np1))"
   ]
  },
  {
   "cell_type": "code",
   "execution_count": 5,
   "metadata": {},
   "outputs": [
    {
     "name": "stdout",
     "output_type": "stream",
     "text": [
      "quiz1    99\n",
      "quiz2    85\n",
      "quiz3    72\n",
      "quiz4    89\n",
      "dtype: int64 \n",
      "\n",
      "Quiz 1: 99\n",
      "Quiz 1: 99\n"
     ]
    }
   ],
   "source": [
    "# 3. A Series is more flexible than a Python list because we can customize the indices.\n",
    "# In this way, a Series behaves similar to a Python dictionary\n",
    "nums = pd.Series([99, 85, 72, 89], index=['quiz1', 'quiz2', 'quiz3', 'quiz4'])\n",
    "print(nums, '\\n')\n",
    "print(\"Quiz 1:\", nums['quiz1'])\n",
    "\n",
    "# Pandas provides an easier way to type when indexing data:\n",
    "print(\"Quiz 1:\", nums.quiz1)"
   ]
  },
  {
   "cell_type": "code",
   "execution_count": 6,
   "metadata": {},
   "outputs": [
    {
     "name": "stdout",
     "output_type": "stream",
     "text": [
      "65 \n",
      "\n"
     ]
    },
    {
     "data": {
      "text/plain": [
       "C    67\n",
       "D    68\n",
       "E    69\n",
       "dtype: int64"
      ]
     },
     "execution_count": 6,
     "metadata": {},
     "output_type": "execute_result"
    }
   ],
   "source": [
    "# 4. In addition to creating a Series from a Python list, we can create a Series\n",
    "# from a Python dictionary\n",
    "d = {c:ord(c) for c in \"ABCDE\"}\n",
    "letters = pd.Series(d)\n",
    "print(letters.A, '\\n')\n",
    "letters['C':'E']"
   ]
  },
  {
   "cell_type": "markdown",
   "metadata": {},
   "source": [
    "Pandas __Dataframe__: 2D table"
   ]
  },
  {
   "cell_type": "code",
   "execution_count": 7,
   "metadata": {},
   "outputs": [
    {
     "data": {
      "text/html": [
       "<div>\n",
       "<style scoped>\n",
       "    .dataframe tbody tr th:only-of-type {\n",
       "        vertical-align: middle;\n",
       "    }\n",
       "\n",
       "    .dataframe tbody tr th {\n",
       "        vertical-align: top;\n",
       "    }\n",
       "\n",
       "    .dataframe thead th {\n",
       "        text-align: right;\n",
       "    }\n",
       "</style>\n",
       "<table border=\"1\" class=\"dataframe\">\n",
       "  <thead>\n",
       "    <tr style=\"text-align: right;\">\n",
       "      <th></th>\n",
       "      <th>0</th>\n",
       "      <th>1</th>\n",
       "    </tr>\n",
       "  </thead>\n",
       "  <tbody>\n",
       "    <tr>\n",
       "      <th>0</th>\n",
       "      <td>90</td>\n",
       "      <td>92</td>\n",
       "    </tr>\n",
       "    <tr>\n",
       "      <th>1</th>\n",
       "      <td>73</td>\n",
       "      <td>82</td>\n",
       "    </tr>\n",
       "    <tr>\n",
       "      <th>2</th>\n",
       "      <td>79</td>\n",
       "      <td>80</td>\n",
       "    </tr>\n",
       "    <tr>\n",
       "      <th>3</th>\n",
       "      <td>97</td>\n",
       "      <td>95</td>\n",
       "    </tr>\n",
       "  </tbody>\n",
       "</table>\n",
       "</div>"
      ],
      "text/plain": [
       "    0   1\n",
       "0  90  92\n",
       "1  73  82\n",
       "2  79  80\n",
       "3  97  95"
      ]
     },
     "execution_count": 7,
     "metadata": {},
     "output_type": "execute_result"
    }
   ],
   "source": [
    "# 5. A DataFrame is a 2D table with rows and columns, similar to a Python list of lists or\n",
    "# a numpy 2D array\n",
    "df = pd.DataFrame([ [90, 92], [73, 82],[79, 80], [97, 95] ])\n",
    "df"
   ]
  },
  {
   "cell_type": "code",
   "execution_count": 8,
   "metadata": {},
   "outputs": [
    {
     "name": "stdout",
     "output_type": "stream",
     "text": [
      "   quiz1  quiz2\n",
      "0     90     92\n",
      "1     73     82\n",
      "2     79     80\n",
      "3     97     95 \n",
      "\n"
     ]
    },
    {
     "data": {
      "text/plain": [
       "87.0"
      ]
     },
     "execution_count": 8,
     "metadata": {},
     "output_type": "execute_result"
    }
   ],
   "source": [
    "# 6. Just like with Series, we can customize the column indices.\n",
    "# Each columnn of a DataFrame is a Series.\n",
    "df = pd.DataFrame(columns=[\"quiz1\", \"quiz2\"],\n",
    "                  data=[ [90, 92], [73, 82],[79, 80], [97, 95] ])\n",
    "\n",
    "print(df, '\\n')   # note the difference between Python print vs. Jupyter Notebook print \n",
    "np.median(df.quiz2)\n",
    "\n",
    "# Why do numpy operations naturally work on a column of a DataFrame?\n"
   ]
  },
  {
   "cell_type": "code",
   "execution_count": 9,
   "metadata": {
    "scrolled": true
   },
   "outputs": [
    {
     "data": {
      "text/html": [
       "<div>\n",
       "<style scoped>\n",
       "    .dataframe tbody tr th:only-of-type {\n",
       "        vertical-align: middle;\n",
       "    }\n",
       "\n",
       "    .dataframe tbody tr th {\n",
       "        vertical-align: top;\n",
       "    }\n",
       "\n",
       "    .dataframe thead th {\n",
       "        text-align: right;\n",
       "    }\n",
       "</style>\n",
       "<table border=\"1\" class=\"dataframe\">\n",
       "  <thead>\n",
       "    <tr style=\"text-align: right;\">\n",
       "      <th></th>\n",
       "      <th>Names</th>\n",
       "      <th>quiz1</th>\n",
       "      <th>quiz2</th>\n",
       "    </tr>\n",
       "  </thead>\n",
       "  <tbody>\n",
       "    <tr>\n",
       "      <th>0</th>\n",
       "      <td>Fred</td>\n",
       "      <td>90</td>\n",
       "      <td>92.5</td>\n",
       "    </tr>\n",
       "    <tr>\n",
       "      <th>1</th>\n",
       "      <td>Wilma</td>\n",
       "      <td>73</td>\n",
       "      <td>82.0</td>\n",
       "    </tr>\n",
       "    <tr>\n",
       "      <th>2</th>\n",
       "      <td>Barney</td>\n",
       "      <td>79</td>\n",
       "      <td>80.0</td>\n",
       "    </tr>\n",
       "    <tr>\n",
       "      <th>3</th>\n",
       "      <td>Betty</td>\n",
       "      <td>90</td>\n",
       "      <td>95.0</td>\n",
       "    </tr>\n",
       "  </tbody>\n",
       "</table>\n",
       "</div>"
      ],
      "text/plain": [
       "    Names  quiz1  quiz2\n",
       "0    Fred     90   92.5\n",
       "1   Wilma     73   82.0\n",
       "2  Barney     79   80.0\n",
       "3   Betty     90   95.0"
      ]
     },
     "execution_count": 9,
     "metadata": {},
     "output_type": "execute_result"
    }
   ],
   "source": [
    "# 7. Don't forget that an advantage of a DataFrame is that each column can have its own type \n",
    "# of data\n",
    "df = pd.DataFrame(columns=[\"Names\", \"quiz1\", \"quiz2\"],\n",
    "                  data=[ [\"Fred\",90,92.5], [\"Wilma\",73,82],[\"Barney\",79,80], [\"Betty\",90,95] ])\n",
    "df\n",
    "\n",
    "# Why does quiz2 contain floats while quiz1 contains ints?\n",
    "# One of the value is float and hence all of them converted to float."
   ]
  },
  {
   "cell_type": "markdown",
   "metadata": {},
   "source": [
    "__Accessing__ data"
   ]
  },
  {
   "cell_type": "code",
   "execution_count": 10,
   "metadata": {},
   "outputs": [
    {
     "name": "stdout",
     "output_type": "stream",
     "text": [
      "0    90\n",
      "1    73\n",
      "2    79\n",
      "3    90\n",
      "Name: quiz1, dtype: int64 \n",
      "\n",
      "Index(['quiz1', 'quiz2'], dtype='object')\n",
      "   quiz1  quiz2\n",
      "0     90   92.5\n",
      "1     73   82.0\n",
      "2     79   80.0\n",
      "3     90   95.0 \n",
      "\n",
      "    Names  quiz1  quiz2\n",
      "1   Wilma     73   82.0\n",
      "2  Barney     79   80.0\n",
      "3   Betty     90   95.0 \n",
      "\n",
      "   quiz1  quiz2\n",
      "0     90   92.5\n",
      "1     73   82.0\n",
      "2     79   80.0\n",
      "3     90   95.0 \n",
      "\n",
      "quiz1    79\n",
      "Name: 2, dtype: object \n",
      "\n",
      "79 \n",
      "\n"
     ]
    }
   ],
   "source": [
    "# 8. We've seen the . (dot) notation to index a column:\n",
    "print(df.quiz1, '\\n')\n",
    "\n",
    "# Use .columns with numeric column indices and []\n",
    "print(df.columns[1:3])\n",
    "print(df[df.columns[1:3]], '\\n')\n",
    "# there is no df.rows\n",
    "\n",
    "# Use .loc for row and column indices:\n",
    "print(df.loc[1:3], '\\n')     # Note the inclusive ending for .loc\n",
    "print(df.loc[:,['quiz1','quiz2']],'\\n')\n",
    "print(df.loc[2,['quiz1']],'\\n')\n",
    "\n",
    "# When accessing a single element, it's faster to use .at:\n",
    "print(df.at[2,'quiz1'],'\\n')"
   ]
  },
  {
   "cell_type": "code",
   "execution_count": 12,
   "metadata": {},
   "outputs": [
    {
     "name": "stdout",
     "output_type": "stream",
     "text": [
      "   Names  quiz1  quiz2\n",
      "0   Fred     90   92.5\n",
      "3  Betty     90   95.0 \n",
      "\n",
      "    Names  quiz1  quiz2\n",
      "1   Wilma     73   82.0\n",
      "2  Barney     79   80.0 \n",
      "\n",
      "   Names  quiz1  quiz2\n",
      "3  Betty     90   95.0 \n",
      "\n",
      "   Names  quiz1  quiz2\n",
      "0   Fred     90   92.5\n",
      "3  Betty     90   95.0 \n",
      "\n"
     ]
    }
   ],
   "source": [
    "# 9. To access data with a specific value or range of values in a column:\n",
    "print(df[df.quiz1 == 90], '\\n')\n",
    "print(df[df.quiz2 < 90],'\\n')\n",
    "print(df[df.Names == \"Betty\"],'\\n')\n",
    "\n",
    "# Write 1 print statement to print the names of students with quiz2 score greater than 90 ?\n",
    "print(df[df.quiz2 > 90],'\\n')"
   ]
  },
  {
   "cell_type": "markdown",
   "metadata": {},
   "source": [
    "__Reading__ from files"
   ]
  },
  {
   "cell_type": "code",
   "execution_count": 13,
   "metadata": {},
   "outputs": [
    {
     "name": "stdout",
     "output_type": "stream",
     "text": [
      "   quiz1\n",
      "0     43\n",
      "1     33\n",
      "2     48\n",
      "3     40\n",
      "4     46\n",
      "5     48\n",
      "6     38\n",
      "7     41 \n",
      "\n",
      "      Student  quiz1  midterm  quiz2  final\n",
      "0      Sleepy     43     34.0     34     35\n",
      "1       Happy     33     18.0     23     50\n",
      "2         Doc     48     42.0     36     37\n",
      "3      Grumpy     40     23.5     40     45\n",
      "4     Bashful     46     42.5     46     41\n",
      "5      Sneezy     48     39.5     48     43\n",
      "6       Dopey     38     45.0     39     32\n",
      "7  Snow White     41     44.0     39     41 \n",
      "\n",
      "            quiz1  midterm  quiz2  final\n",
      "Student                                 \n",
      "Sleepy         43     34.0     34     35\n",
      "Happy          33     18.0     23     50\n",
      "Doc            48     42.0     36     37\n",
      "Grumpy         40     23.5     40     45\n",
      "Bashful        46     42.5     46     41\n",
      "Sneezy         48     39.5     48     43\n",
      "Dopey          38     45.0     39     32\n",
      "Snow White     41     44.0     39     41 \n",
      "\n",
      "         name  q1  midt  q2  final\n",
      "0      Sleepy  43  34.0  34     35\n",
      "1       Happy  33  18.0  23     50\n",
      "2         Doc  48  42.0  36     37\n",
      "3      Grumpy  40  23.5  40     45\n",
      "4     Bashful  46  42.5  46     41\n",
      "5      Sneezy  48  39.5  48     43\n",
      "6       Dopey  38  45.0  39     32\n",
      "7  Snow White  41  44.0  39     41 \n",
      "\n",
      "            q1  midt  q2  final\n",
      "Sleepy      43  34.0  34     35\n",
      "Happy       33  18.0  23     50\n",
      "Doc         48  42.0  36     37\n",
      "Grumpy      40  23.5  40     45\n",
      "Bashful     46  42.5  46     41\n",
      "Sneezy      48  39.5  48     43\n",
      "Dopey       38  45.0  39     32\n",
      "Snow White  41  44.0  39     41\n"
     ]
    }
   ],
   "source": [
    "# 10. If the file is a column of data, it will be read into a Series\n",
    "quiz1 = pd.read_csv(\"quiz_scores.csv\")\n",
    "print(quiz1, '\\n')\n",
    "\n",
    "# Note: for data analysis, all scores in the examples in this notebook are out of 50.\n",
    "\n",
    "# If the file is a csv file with rows and columns, it will be read into a DataFrame\n",
    "gradebook = pd.read_csv(\"scores.csv\")\n",
    "print(gradebook, '\\n')\n",
    "\n",
    "gradebook = pd.read_csv(\"scores.csv\", index_col='Student')\n",
    "print(gradebook, '\\n')\n",
    "\n",
    "gradebook = pd.read_csv(\"scores.csv\", header=0, names=[\"name\",\"q1\",\"midt\",\"q2\",\"final\"])\n",
    "print(gradebook,'\\n')\n",
    "\n",
    "gradebook = pd.read_csv(\"scores.csv\", header=0, names=[\"q1\",\"midt\",\"q2\",\"final\"])\n",
    "print(gradebook)"
   ]
  },
  {
   "cell_type": "code",
   "execution_count": 17,
   "metadata": {},
   "outputs": [
    {
     "data": {
      "text/html": [
       "<div>\n",
       "<style scoped>\n",
       "    .dataframe tbody tr th:only-of-type {\n",
       "        vertical-align: middle;\n",
       "    }\n",
       "\n",
       "    .dataframe tbody tr th {\n",
       "        vertical-align: top;\n",
       "    }\n",
       "\n",
       "    .dataframe thead th {\n",
       "        text-align: right;\n",
       "    }\n",
       "</style>\n",
       "<table border=\"1\" class=\"dataframe\">\n",
       "  <thead>\n",
       "    <tr style=\"text-align: right;\">\n",
       "      <th></th>\n",
       "      <th>quiz1</th>\n",
       "      <th>midterm</th>\n",
       "      <th>quiz2</th>\n",
       "      <th>final</th>\n",
       "    </tr>\n",
       "    <tr>\n",
       "      <th>Student</th>\n",
       "      <th></th>\n",
       "      <th></th>\n",
       "      <th></th>\n",
       "      <th></th>\n",
       "    </tr>\n",
       "  </thead>\n",
       "  <tbody>\n",
       "    <tr>\n",
       "      <th>Sleepy</th>\n",
       "      <td>43</td>\n",
       "      <td>34.0</td>\n",
       "      <td>34</td>\n",
       "      <td>35</td>\n",
       "    </tr>\n",
       "    <tr>\n",
       "      <th>Happy</th>\n",
       "      <td>33</td>\n",
       "      <td>20.0</td>\n",
       "      <td>23</td>\n",
       "      <td>49</td>\n",
       "    </tr>\n",
       "    <tr>\n",
       "      <th>Doc</th>\n",
       "      <td>48</td>\n",
       "      <td>32.0</td>\n",
       "      <td>36</td>\n",
       "      <td>37</td>\n",
       "    </tr>\n",
       "    <tr>\n",
       "      <th>Grumpy</th>\n",
       "      <td>40</td>\n",
       "      <td>23.5</td>\n",
       "      <td>40</td>\n",
       "      <td>45</td>\n",
       "    </tr>\n",
       "    <tr>\n",
       "      <th>Bashful</th>\n",
       "      <td>46</td>\n",
       "      <td>42.5</td>\n",
       "      <td>46</td>\n",
       "      <td>31</td>\n",
       "    </tr>\n",
       "    <tr>\n",
       "      <th>Sneezy</th>\n",
       "      <td>48</td>\n",
       "      <td>38.5</td>\n",
       "      <td>48</td>\n",
       "      <td>43</td>\n",
       "    </tr>\n",
       "    <tr>\n",
       "      <th>Dopey</th>\n",
       "      <td>38</td>\n",
       "      <td>45.0</td>\n",
       "      <td>39</td>\n",
       "      <td>32</td>\n",
       "    </tr>\n",
       "    <tr>\n",
       "      <th>Snow White</th>\n",
       "      <td>41</td>\n",
       "      <td>48.0</td>\n",
       "      <td>39</td>\n",
       "      <td>41</td>\n",
       "    </tr>\n",
       "  </tbody>\n",
       "</table>\n",
       "</div>"
      ],
      "text/plain": [
       "            quiz1  midterm  quiz2  final\n",
       "Student                                 \n",
       "Sleepy         43     34.0     34     35\n",
       "Happy          33     20.0     23     49\n",
       "Doc            48     32.0     36     37\n",
       "Grumpy         40     23.5     40     45\n",
       "Bashful        46     42.5     46     31\n",
       "Sneezy         48     38.5     48     43\n",
       "Dopey          38     45.0     39     32\n",
       "Snow White     41     48.0     39     41"
      ]
     },
     "execution_count": 17,
     "metadata": {},
     "output_type": "execute_result"
    }
   ],
   "source": [
    "# 11. We can also read from Excel files (among many other common types: HTML, JSON, SQL, etc.)\n",
    "gradebook = pd.read_excel(\"scores.xlsx\", index_col='Student')\n",
    "gradebook"
   ]
  },
  {
   "cell_type": "code",
   "execution_count": 30,
   "metadata": {},
   "outputs": [
    {
     "data": {
      "text/plain": [
       "quiz1    38.0\n",
       "quiz2    39.0\n",
       "Name: Dopey, dtype: float64"
      ]
     },
     "execution_count": 30,
     "metadata": {},
     "output_type": "execute_result"
    }
   ],
   "source": [
    "# 12. From the gradebook in the cell above:\n",
    "# print the data for the student named Doc?\n",
    "# print(gradebook.iloc[0])\n",
    "# gradebook['quiz1']\n",
    "gradebook.iloc[2,:]\n",
    "# print Dopey's quiz1 and quiz2?\n",
    "# gradebook[gradebook.columns[0:3:2]]\n",
    "gradebook.iloc[6,0:3:2]"
   ]
  },
  {
   "cell_type": "markdown",
   "metadata": {},
   "source": [
    "Show __attributes__"
   ]
  },
  {
   "cell_type": "code",
   "execution_count": null,
   "metadata": {},
   "outputs": [],
   "source": [
    "#13. \n",
    "print(gradebook.index)          # row indices or labels\n",
    "print(gradebook.columns, '\\n')  # column indices or labels\n",
    "print(len(gradebook), '\\n')\n",
    "print(gradebook.head(), '\\n')\n",
    "gradebook.tail(3)\n",
    "\n",
    "# what do head() and tail() do?\n"
   ]
  },
  {
   "cell_type": "markdown",
   "metadata": {},
   "source": [
    "### Data Analysis"
   ]
  },
  {
   "cell_type": "markdown",
   "metadata": {},
   "source": [
    "Basic __statistics__"
   ]
  },
  {
   "cell_type": "code",
   "execution_count": 31,
   "metadata": {},
   "outputs": [
    {
     "data": {
      "text/html": [
       "<div>\n",
       "<style scoped>\n",
       "    .dataframe tbody tr th:only-of-type {\n",
       "        vertical-align: middle;\n",
       "    }\n",
       "\n",
       "    .dataframe tbody tr th {\n",
       "        vertical-align: top;\n",
       "    }\n",
       "\n",
       "    .dataframe thead th {\n",
       "        text-align: right;\n",
       "    }\n",
       "</style>\n",
       "<table border=\"1\" class=\"dataframe\">\n",
       "  <thead>\n",
       "    <tr style=\"text-align: right;\">\n",
       "      <th></th>\n",
       "      <th>quiz1</th>\n",
       "      <th>midterm</th>\n",
       "      <th>quiz2</th>\n",
       "      <th>final</th>\n",
       "    </tr>\n",
       "  </thead>\n",
       "  <tbody>\n",
       "    <tr>\n",
       "      <th>count</th>\n",
       "      <td>8.000000</td>\n",
       "      <td>8.000000</td>\n",
       "      <td>8.000000</td>\n",
       "      <td>8.000000</td>\n",
       "    </tr>\n",
       "    <tr>\n",
       "      <th>mean</th>\n",
       "      <td>42.125000</td>\n",
       "      <td>35.437500</td>\n",
       "      <td>38.125000</td>\n",
       "      <td>39.125000</td>\n",
       "    </tr>\n",
       "    <tr>\n",
       "      <th>std</th>\n",
       "      <td>5.221863</td>\n",
       "      <td>10.022965</td>\n",
       "      <td>7.698562</td>\n",
       "      <td>6.424006</td>\n",
       "    </tr>\n",
       "    <tr>\n",
       "      <th>min</th>\n",
       "      <td>33.000000</td>\n",
       "      <td>20.000000</td>\n",
       "      <td>23.000000</td>\n",
       "      <td>31.000000</td>\n",
       "    </tr>\n",
       "    <tr>\n",
       "      <th>25%</th>\n",
       "      <td>39.500000</td>\n",
       "      <td>29.875000</td>\n",
       "      <td>35.500000</td>\n",
       "      <td>34.250000</td>\n",
       "    </tr>\n",
       "    <tr>\n",
       "      <th>50%</th>\n",
       "      <td>42.000000</td>\n",
       "      <td>36.250000</td>\n",
       "      <td>39.000000</td>\n",
       "      <td>39.000000</td>\n",
       "    </tr>\n",
       "    <tr>\n",
       "      <th>75%</th>\n",
       "      <td>46.500000</td>\n",
       "      <td>43.125000</td>\n",
       "      <td>41.500000</td>\n",
       "      <td>43.500000</td>\n",
       "    </tr>\n",
       "    <tr>\n",
       "      <th>max</th>\n",
       "      <td>48.000000</td>\n",
       "      <td>48.000000</td>\n",
       "      <td>48.000000</td>\n",
       "      <td>49.000000</td>\n",
       "    </tr>\n",
       "  </tbody>\n",
       "</table>\n",
       "</div>"
      ],
      "text/plain": [
       "           quiz1    midterm      quiz2      final\n",
       "count   8.000000   8.000000   8.000000   8.000000\n",
       "mean   42.125000  35.437500  38.125000  39.125000\n",
       "std     5.221863  10.022965   7.698562   6.424006\n",
       "min    33.000000  20.000000  23.000000  31.000000\n",
       "25%    39.500000  29.875000  35.500000  34.250000\n",
       "50%    42.000000  36.250000  39.000000  39.000000\n",
       "75%    46.500000  43.125000  41.500000  43.500000\n",
       "max    48.000000  48.000000  48.000000  49.000000"
      ]
     },
     "execution_count": 31,
     "metadata": {},
     "output_type": "execute_result"
    }
   ],
   "source": [
    "# 14. We can get all the basic stats in one method\n",
    "gradebook.describe()\n",
    "\n",
    "# Review statistics and data analysis:\n",
    "# You are the teacher for this class, and as a good teacher, you want to improve your \n",
    "# class material.\n",
    "# Run the cell so you can see the statistics for the exams: quiz1, midterm, quiz2, final\n",
    "# Using the statistics, you will need to improve the class material for which exam?\n",
    "# Explain your choice by citing specific statistic values to explain how they show the \n",
    "# the need to improve.\n",
    "\n",
    "# Based on this data, I see that material needs to be improved for midterm as that has minimum \"mean\" value (35.437500)\n",
    "# and higher \"std\" (10.022965). Min mean value indicates average of all marks which is low, which indicates that as a class\n",
    "# they had less average compared to other exams\n",
    "# Similarly \"std\" value is high indicates that measure of the amount of variation or dispersion of a set of values. \n",
    "# A low standard deviation indicates that the values tend to be close to the mean (also called the expected value) \n",
    "# of the set, while a high standard deviation indicates that the values are spread out over a wider range."
   ]
  },
  {
   "cell_type": "code",
   "execution_count": 33,
   "metadata": {
    "scrolled": true
   },
   "outputs": [
    {
     "name": "stdout",
     "output_type": "stream",
     "text": [
      "42.0\n",
      "38.125 \n",
      "\n",
      "38.125 \n",
      "\n"
     ]
    },
    {
     "data": {
      "text/plain": [
       "count     8.000000\n",
       "mean     38.125000\n",
       "std       7.698562\n",
       "min      23.000000\n",
       "25%      35.500000\n",
       "50%      39.000000\n",
       "75%      41.500000\n",
       "max      48.000000\n",
       "Name: quiz2, dtype: float64"
      ]
     },
     "execution_count": 33,
     "metadata": {},
     "output_type": "execute_result"
    }
   ],
   "source": [
    "# 15. To get a specific statistic for a specific column, we use numpy\n",
    "print(np.median(gradebook.quiz1))\n",
    "print(np.mean(gradebook.quiz2), '\\n')\n",
    "# or pandas\n",
    "print(gradebook.quiz2.mean(), '\\n')\n",
    "\n",
    "# Can also get all statistics of one column\n",
    "gradebook.quiz2.describe()"
   ]
  },
  {
   "cell_type": "code",
   "execution_count": 34,
   "metadata": {},
   "outputs": [
    {
     "name": "stdout",
     "output_type": "stream",
     "text": [
      "         quiz1  midterm  quiz2  final\n",
      "Student                              \n",
      "Happy       33     20.0     23     49 \n",
      "\n",
      "            quiz1  midterm  quiz2  final\n",
      "Student                                 \n",
      "Happy          33     20.0     23     49\n",
      "Grumpy         40     23.5     40     45\n",
      "Sneezy         48     38.5     48     43\n",
      "Snow White     41     48.0     39     41 \n",
      "\n"
     ]
    }
   ],
   "source": [
    "# 16. Show a sample of students who earned more than 90% and more than 80% in their final\n",
    "print(gradebook[gradebook.final > 50*.9], '\\n')\n",
    "print(gradebook[gradebook.final > 50*.8], '\\n')\n",
    "\n",
    "# Show the number of students who earned more than 90% and more than 80% in their final?\n"
   ]
  },
  {
   "cell_type": "markdown",
   "metadata": {
    "collapsed": true
   },
   "source": [
    "Basic __Calculations__"
   ]
  },
  {
   "cell_type": "code",
   "execution_count": 35,
   "metadata": {},
   "outputs": [
    {
     "name": "stdout",
     "output_type": "stream",
     "text": [
      "Student\n",
      "Sleepy        36.10\n",
      "Happy         31.90\n",
      "Doc           37.50\n",
      "Grumpy        36.55\n",
      "Bashful       40.45\n",
      "Sneezy        43.65\n",
      "Dopey         38.50\n",
      "Snow White    42.70\n",
      "dtype: float64\n"
     ]
    }
   ],
   "source": [
    "# 17. Assume the midterm and final are each worth 30% of the grade, and quiz1 and quiz2 \n",
    "# are each worth 20% of the grade. \n",
    "# (This means 60% of the grade comes from the midterm and final, and 40% of the grade \n",
    "# comes from the quizzes)\n",
    "# We want to calculate the weighted average of the exams. \n",
    "# and we want the score to be out of 100 to make it easier to see the percentage.\n",
    "wtAvg=(.2 * gradebook.quiz1 + .2 * gradebook.quiz2 + \n",
    "       .3 * gradebook.midterm + .3 * gradebook.final)\n",
    "print(wtAvg)\n",
    "\n",
    "# Show the wtAvg as a percentage?\n",
    "# Recall that the raw scores are out of 50.\n"
   ]
  },
  {
   "cell_type": "code",
   "execution_count": 36,
   "metadata": {},
   "outputs": [
    {
     "name": "stdout",
     "output_type": "stream",
     "text": [
      "            quiz1  midterm  quiz2  final\n",
      "Student                                 \n",
      "Sleepy         43     34.0     34     35\n",
      "Happy          33     20.0     23     49\n",
      "Doc            48     32.0     36     37\n",
      "Grumpy         40     23.5     40     45\n",
      "Bashful        46     42.5     46     31\n",
      "Sneezy         48     38.5     48     43\n",
      "Dopey          38     45.0     39     32\n",
      "Snow White     41     48.0     39     41 \n",
      "\n",
      "            quiz1  midterm  quiz2  final\n",
      "Student                                 \n",
      "Happy          33     20.0     23     49\n",
      "Dopey          38     45.0     39     32\n",
      "Grumpy         40     23.5     40     45\n",
      "Snow White     41     48.0     39     41\n",
      "Sleepy         43     34.0     34     35\n",
      "Bashful        46     42.5     46     31\n",
      "Doc            48     32.0     36     37\n",
      "Sneezy         48     38.5     48     43 \n",
      "\n",
      "            quiz1  midterm  quiz2  final\n",
      "Student                                 \n",
      "Doc            48     32.0     36     37\n",
      "Sneezy         48     38.5     48     43\n",
      "Bashful        46     42.5     46     31\n",
      "Sleepy         43     34.0     34     35\n",
      "Snow White     41     48.0     39     41\n",
      "Grumpy         40     23.5     40     45\n",
      "Dopey          38     45.0     39     32\n",
      "Happy          33     20.0     23     49 \n",
      "\n"
     ]
    }
   ],
   "source": [
    "# 18. Sort by a column\n",
    "print(gradebook, '\\n')\n",
    "print(gradebook.sort_values(by=\"quiz1\"), '\\n')\n",
    "print(gradebook.sort_values(by=\"quiz1\", ascending=False), '\\n')"
   ]
  },
  {
   "cell_type": "markdown",
   "metadata": {},
   "source": [
    "Changing shape"
   ]
  },
  {
   "cell_type": "code",
   "execution_count": 37,
   "metadata": {},
   "outputs": [
    {
     "name": "stdout",
     "output_type": "stream",
     "text": [
      "            quiz1  midterm  quiz2  final\n",
      "Student                                 \n",
      "Sleepy         43     34.0     34     35\n",
      "Happy          33     20.0     23     49\n",
      "Doc            48     32.0     36     37\n",
      "Grumpy         40     23.5     40     45\n",
      "Bashful        46     42.5     46     31\n",
      "Sneezy         48     38.5     48     43\n",
      "Dopey          38     45.0     39     32\n",
      "Snow White     41     48.0     39     41 \n",
      "\n",
      "            quiz1  midterm  quiz2  final\n",
      "Student                                 \n",
      "Sleepy         43     34.0     34     35\n",
      "Doc            48     32.0     36     37\n",
      "Grumpy         40     23.5     40     45\n",
      "Bashful        46     42.5     46     31\n",
      "Dopey          38     45.0     39     32\n",
      "Snow White     41     48.0     39     41 \n",
      "\n",
      "            quiz1  midterm  quiz2  final\n",
      "Student                                 \n",
      "Sleepy         43     34.0     34     35\n",
      "Happy          33     20.0     23     49\n",
      "Doc            48     32.0     36     37\n",
      "Grumpy         40     23.5     40     45\n",
      "Bashful        46     42.5     46     31\n",
      "Sneezy         48     38.5     48     43\n",
      "Dopey          38     45.0     39     32\n",
      "Snow White     41     48.0     39     41 \n",
      "\n",
      "            quiz1  midterm  quiz2  final\n",
      "Student                                 \n",
      "Sleepy         43     34.0     34     35\n",
      "Doc            48     32.0     36     37\n",
      "Grumpy         40     23.5     40     45\n",
      "Bashful        46     42.5     46     31\n",
      "Dopey          38     45.0     39     32\n",
      "Snow White     41     48.0     39     41 \n",
      "\n"
     ]
    }
   ],
   "source": [
    "# 19. Remove rows\n",
    "gradebook = pd.read_excel(\"scores.xlsx\", index_col='Student')\n",
    "print(gradebook,'\\n')\n",
    "print(gradebook.drop([\"Sneezy\",\"Happy\"]),'\\n')\n",
    "print(gradebook,'\\n')\n",
    "\n",
    "gradebook.drop([\"Sneezy\",\"Happy\"], inplace=True)\n",
    "print(gradebook,'\\n')"
   ]
  },
  {
   "cell_type": "code",
   "execution_count": 38,
   "metadata": {},
   "outputs": [
    {
     "data": {
      "text/html": [
       "<div>\n",
       "<style scoped>\n",
       "    .dataframe tbody tr th:only-of-type {\n",
       "        vertical-align: middle;\n",
       "    }\n",
       "\n",
       "    .dataframe tbody tr th {\n",
       "        vertical-align: top;\n",
       "    }\n",
       "\n",
       "    .dataframe thead th {\n",
       "        text-align: right;\n",
       "    }\n",
       "</style>\n",
       "<table border=\"1\" class=\"dataframe\">\n",
       "  <thead>\n",
       "    <tr style=\"text-align: right;\">\n",
       "      <th></th>\n",
       "      <th>quiz1</th>\n",
       "      <th>midterm</th>\n",
       "      <th>final</th>\n",
       "    </tr>\n",
       "    <tr>\n",
       "      <th>Student</th>\n",
       "      <th></th>\n",
       "      <th></th>\n",
       "      <th></th>\n",
       "    </tr>\n",
       "  </thead>\n",
       "  <tbody>\n",
       "    <tr>\n",
       "      <th>Sleepy</th>\n",
       "      <td>43</td>\n",
       "      <td>34.0</td>\n",
       "      <td>35</td>\n",
       "    </tr>\n",
       "    <tr>\n",
       "      <th>Doc</th>\n",
       "      <td>48</td>\n",
       "      <td>32.0</td>\n",
       "      <td>37</td>\n",
       "    </tr>\n",
       "    <tr>\n",
       "      <th>Grumpy</th>\n",
       "      <td>40</td>\n",
       "      <td>23.5</td>\n",
       "      <td>45</td>\n",
       "    </tr>\n",
       "    <tr>\n",
       "      <th>Bashful</th>\n",
       "      <td>46</td>\n",
       "      <td>42.5</td>\n",
       "      <td>31</td>\n",
       "    </tr>\n",
       "    <tr>\n",
       "      <th>Dopey</th>\n",
       "      <td>38</td>\n",
       "      <td>45.0</td>\n",
       "      <td>32</td>\n",
       "    </tr>\n",
       "    <tr>\n",
       "      <th>Snow White</th>\n",
       "      <td>41</td>\n",
       "      <td>48.0</td>\n",
       "      <td>41</td>\n",
       "    </tr>\n",
       "  </tbody>\n",
       "</table>\n",
       "</div>"
      ],
      "text/plain": [
       "            quiz1  midterm  final\n",
       "Student                          \n",
       "Sleepy         43     34.0     35\n",
       "Doc            48     32.0     37\n",
       "Grumpy         40     23.5     45\n",
       "Bashful        46     42.5     31\n",
       "Dopey          38     45.0     32\n",
       "Snow White     41     48.0     41"
      ]
     },
     "execution_count": 38,
     "metadata": {},
     "output_type": "execute_result"
    }
   ],
   "source": [
    "# 20. Remove columns\n",
    "gradebook.drop(columns=['quiz2'], inplace=True)\n",
    "gradebook"
   ]
  },
  {
   "cell_type": "code",
   "execution_count": 39,
   "metadata": {},
   "outputs": [
    {
     "data": {
      "text/html": [
       "<div>\n",
       "<style scoped>\n",
       "    .dataframe tbody tr th:only-of-type {\n",
       "        vertical-align: middle;\n",
       "    }\n",
       "\n",
       "    .dataframe tbody tr th {\n",
       "        vertical-align: top;\n",
       "    }\n",
       "\n",
       "    .dataframe thead th {\n",
       "        text-align: right;\n",
       "    }\n",
       "</style>\n",
       "<table border=\"1\" class=\"dataframe\">\n",
       "  <thead>\n",
       "    <tr style=\"text-align: right;\">\n",
       "      <th></th>\n",
       "      <th>id</th>\n",
       "      <th>year</th>\n",
       "      <th>quiz1</th>\n",
       "      <th>midterm</th>\n",
       "      <th>quiz2</th>\n",
       "      <th>final</th>\n",
       "    </tr>\n",
       "    <tr>\n",
       "      <th>Student</th>\n",
       "      <th></th>\n",
       "      <th></th>\n",
       "      <th></th>\n",
       "      <th></th>\n",
       "      <th></th>\n",
       "      <th></th>\n",
       "    </tr>\n",
       "  </thead>\n",
       "  <tbody>\n",
       "    <tr>\n",
       "      <th>Sleepy</th>\n",
       "      <td>1124</td>\n",
       "      <td>1</td>\n",
       "      <td>43</td>\n",
       "      <td>34.0</td>\n",
       "      <td>34</td>\n",
       "      <td>35</td>\n",
       "    </tr>\n",
       "    <tr>\n",
       "      <th>Happy</th>\n",
       "      <td>9559</td>\n",
       "      <td>2</td>\n",
       "      <td>33</td>\n",
       "      <td>20.0</td>\n",
       "      <td>23</td>\n",
       "      <td>49</td>\n",
       "    </tr>\n",
       "    <tr>\n",
       "      <th>Doc</th>\n",
       "      <td>7503</td>\n",
       "      <td>2</td>\n",
       "      <td>48</td>\n",
       "      <td>32.0</td>\n",
       "      <td>36</td>\n",
       "      <td>37</td>\n",
       "    </tr>\n",
       "    <tr>\n",
       "      <th>Grumpy</th>\n",
       "      <td>5738</td>\n",
       "      <td>3</td>\n",
       "      <td>40</td>\n",
       "      <td>23.5</td>\n",
       "      <td>40</td>\n",
       "      <td>45</td>\n",
       "    </tr>\n",
       "    <tr>\n",
       "      <th>Bashful</th>\n",
       "      <td>9208</td>\n",
       "      <td>2</td>\n",
       "      <td>46</td>\n",
       "      <td>42.5</td>\n",
       "      <td>46</td>\n",
       "      <td>31</td>\n",
       "    </tr>\n",
       "    <tr>\n",
       "      <th>Sneezy</th>\n",
       "      <td>2823</td>\n",
       "      <td>1</td>\n",
       "      <td>48</td>\n",
       "      <td>38.5</td>\n",
       "      <td>48</td>\n",
       "      <td>43</td>\n",
       "    </tr>\n",
       "    <tr>\n",
       "      <th>Dopey</th>\n",
       "      <td>4823</td>\n",
       "      <td>1</td>\n",
       "      <td>38</td>\n",
       "      <td>45.0</td>\n",
       "      <td>39</td>\n",
       "      <td>32</td>\n",
       "    </tr>\n",
       "    <tr>\n",
       "      <th>Snow White</th>\n",
       "      <td>9794</td>\n",
       "      <td>2</td>\n",
       "      <td>41</td>\n",
       "      <td>48.0</td>\n",
       "      <td>39</td>\n",
       "      <td>41</td>\n",
       "    </tr>\n",
       "  </tbody>\n",
       "</table>\n",
       "</div>"
      ],
      "text/plain": [
       "              id  year  quiz1  midterm  quiz2  final\n",
       "Student                                             \n",
       "Sleepy      1124     1     43     34.0     34     35\n",
       "Happy       9559     2     33     20.0     23     49\n",
       "Doc         7503     2     48     32.0     36     37\n",
       "Grumpy      5738     3     40     23.5     40     45\n",
       "Bashful     9208     2     46     42.5     46     31\n",
       "Sneezy      2823     1     48     38.5     48     43\n",
       "Dopey       4823     1     38     45.0     39     32\n",
       "Snow White  9794     2     41     48.0     39     41"
      ]
     },
     "execution_count": 39,
     "metadata": {},
     "output_type": "execute_result"
    }
   ],
   "source": [
    "# 21. Adding from another DataFrame\n",
    "gradebook = pd.read_excel(\"scores.xlsx\", index_col='Student')\n",
    "stInfo = pd.read_excel(\"ids.xlsx\", index_col='Student')\n",
    "data = pd.concat([stInfo, gradebook], axis=1)\n",
    "data\n",
    "#data = pd.concat([stInfo, gradebook])  # axis=0\n",
    "#data"
   ]
  },
  {
   "cell_type": "code",
   "execution_count": 40,
   "metadata": {},
   "outputs": [
    {
     "name": "stdout",
     "output_type": "stream",
     "text": [
      "   Student  quiz1  midterm  quiz2  final\n",
      "0  New Kid     30       30     30     30\n"
     ]
    },
    {
     "data": {
      "text/html": [
       "<div>\n",
       "<style scoped>\n",
       "    .dataframe tbody tr th:only-of-type {\n",
       "        vertical-align: middle;\n",
       "    }\n",
       "\n",
       "    .dataframe tbody tr th {\n",
       "        vertical-align: top;\n",
       "    }\n",
       "\n",
       "    .dataframe thead th {\n",
       "        text-align: right;\n",
       "    }\n",
       "</style>\n",
       "<table border=\"1\" class=\"dataframe\">\n",
       "  <thead>\n",
       "    <tr style=\"text-align: right;\">\n",
       "      <th></th>\n",
       "      <th>Student</th>\n",
       "      <th>quiz1</th>\n",
       "      <th>midterm</th>\n",
       "      <th>quiz2</th>\n",
       "      <th>final</th>\n",
       "    </tr>\n",
       "  </thead>\n",
       "  <tbody>\n",
       "    <tr>\n",
       "      <th>0</th>\n",
       "      <td>Sleepy</td>\n",
       "      <td>43</td>\n",
       "      <td>34.0</td>\n",
       "      <td>34</td>\n",
       "      <td>35</td>\n",
       "    </tr>\n",
       "    <tr>\n",
       "      <th>1</th>\n",
       "      <td>Happy</td>\n",
       "      <td>33</td>\n",
       "      <td>20.0</td>\n",
       "      <td>23</td>\n",
       "      <td>49</td>\n",
       "    </tr>\n",
       "    <tr>\n",
       "      <th>2</th>\n",
       "      <td>Doc</td>\n",
       "      <td>48</td>\n",
       "      <td>32.0</td>\n",
       "      <td>36</td>\n",
       "      <td>37</td>\n",
       "    </tr>\n",
       "    <tr>\n",
       "      <th>3</th>\n",
       "      <td>Grumpy</td>\n",
       "      <td>40</td>\n",
       "      <td>23.5</td>\n",
       "      <td>40</td>\n",
       "      <td>45</td>\n",
       "    </tr>\n",
       "    <tr>\n",
       "      <th>4</th>\n",
       "      <td>Bashful</td>\n",
       "      <td>46</td>\n",
       "      <td>42.5</td>\n",
       "      <td>46</td>\n",
       "      <td>31</td>\n",
       "    </tr>\n",
       "    <tr>\n",
       "      <th>5</th>\n",
       "      <td>Sneezy</td>\n",
       "      <td>48</td>\n",
       "      <td>38.5</td>\n",
       "      <td>48</td>\n",
       "      <td>43</td>\n",
       "    </tr>\n",
       "    <tr>\n",
       "      <th>6</th>\n",
       "      <td>Dopey</td>\n",
       "      <td>38</td>\n",
       "      <td>45.0</td>\n",
       "      <td>39</td>\n",
       "      <td>32</td>\n",
       "    </tr>\n",
       "    <tr>\n",
       "      <th>7</th>\n",
       "      <td>Snow White</td>\n",
       "      <td>41</td>\n",
       "      <td>48.0</td>\n",
       "      <td>39</td>\n",
       "      <td>41</td>\n",
       "    </tr>\n",
       "    <tr>\n",
       "      <th>8</th>\n",
       "      <td>New Kid</td>\n",
       "      <td>30</td>\n",
       "      <td>30.0</td>\n",
       "      <td>30</td>\n",
       "      <td>30</td>\n",
       "    </tr>\n",
       "  </tbody>\n",
       "</table>\n",
       "</div>"
      ],
      "text/plain": [
       "      Student  quiz1  midterm  quiz2  final\n",
       "0      Sleepy     43     34.0     34     35\n",
       "1       Happy     33     20.0     23     49\n",
       "2         Doc     48     32.0     36     37\n",
       "3      Grumpy     40     23.5     40     45\n",
       "4     Bashful     46     42.5     46     31\n",
       "5      Sneezy     48     38.5     48     43\n",
       "6       Dopey     38     45.0     39     32\n",
       "7  Snow White     41     48.0     39     41\n",
       "8     New Kid     30     30.0     30     30"
      ]
     },
     "execution_count": 40,
     "metadata": {},
     "output_type": "execute_result"
    }
   ],
   "source": [
    "# 22. Append data \n",
    "# append another DataFrame\n",
    "gradebook = pd.read_excel(\"scores.xlsx\")\n",
    "newrow = pd.DataFrame(columns=['Student','quiz1','midterm','quiz2','final'],\n",
    "                      data=[ [\"New Kid\",30,30,30,30] ])\n",
    "print(newrow)\n",
    "gradebook = gradebook.append(newrow, ignore_index=True)\n",
    "gradebook"
   ]
  },
  {
   "cell_type": "code",
   "execution_count": 41,
   "metadata": {},
   "outputs": [
    {
     "name": "stdout",
     "output_type": "stream",
     "text": [
      "{'Student': 'New Kid', 'quiz1': 30, 'midterm': 30, 'quiz2': 30, 'final': 30}\n"
     ]
    },
    {
     "data": {
      "text/html": [
       "<div>\n",
       "<style scoped>\n",
       "    .dataframe tbody tr th:only-of-type {\n",
       "        vertical-align: middle;\n",
       "    }\n",
       "\n",
       "    .dataframe tbody tr th {\n",
       "        vertical-align: top;\n",
       "    }\n",
       "\n",
       "    .dataframe thead th {\n",
       "        text-align: right;\n",
       "    }\n",
       "</style>\n",
       "<table border=\"1\" class=\"dataframe\">\n",
       "  <thead>\n",
       "    <tr style=\"text-align: right;\">\n",
       "      <th></th>\n",
       "      <th>Student</th>\n",
       "      <th>quiz1</th>\n",
       "      <th>midterm</th>\n",
       "      <th>quiz2</th>\n",
       "      <th>final</th>\n",
       "    </tr>\n",
       "  </thead>\n",
       "  <tbody>\n",
       "    <tr>\n",
       "      <th>0</th>\n",
       "      <td>Sleepy</td>\n",
       "      <td>43</td>\n",
       "      <td>34.0</td>\n",
       "      <td>34</td>\n",
       "      <td>35</td>\n",
       "    </tr>\n",
       "    <tr>\n",
       "      <th>1</th>\n",
       "      <td>Happy</td>\n",
       "      <td>33</td>\n",
       "      <td>20.0</td>\n",
       "      <td>23</td>\n",
       "      <td>49</td>\n",
       "    </tr>\n",
       "    <tr>\n",
       "      <th>2</th>\n",
       "      <td>Doc</td>\n",
       "      <td>48</td>\n",
       "      <td>32.0</td>\n",
       "      <td>36</td>\n",
       "      <td>37</td>\n",
       "    </tr>\n",
       "    <tr>\n",
       "      <th>3</th>\n",
       "      <td>Grumpy</td>\n",
       "      <td>40</td>\n",
       "      <td>23.5</td>\n",
       "      <td>40</td>\n",
       "      <td>45</td>\n",
       "    </tr>\n",
       "    <tr>\n",
       "      <th>4</th>\n",
       "      <td>Bashful</td>\n",
       "      <td>46</td>\n",
       "      <td>42.5</td>\n",
       "      <td>46</td>\n",
       "      <td>31</td>\n",
       "    </tr>\n",
       "    <tr>\n",
       "      <th>5</th>\n",
       "      <td>Sneezy</td>\n",
       "      <td>48</td>\n",
       "      <td>38.5</td>\n",
       "      <td>48</td>\n",
       "      <td>43</td>\n",
       "    </tr>\n",
       "    <tr>\n",
       "      <th>6</th>\n",
       "      <td>Dopey</td>\n",
       "      <td>38</td>\n",
       "      <td>45.0</td>\n",
       "      <td>39</td>\n",
       "      <td>32</td>\n",
       "    </tr>\n",
       "    <tr>\n",
       "      <th>7</th>\n",
       "      <td>Snow White</td>\n",
       "      <td>41</td>\n",
       "      <td>48.0</td>\n",
       "      <td>39</td>\n",
       "      <td>41</td>\n",
       "    </tr>\n",
       "    <tr>\n",
       "      <th>8</th>\n",
       "      <td>New Kid</td>\n",
       "      <td>30</td>\n",
       "      <td>30.0</td>\n",
       "      <td>30</td>\n",
       "      <td>30</td>\n",
       "    </tr>\n",
       "  </tbody>\n",
       "</table>\n",
       "</div>"
      ],
      "text/plain": [
       "      Student  quiz1  midterm  quiz2  final\n",
       "0      Sleepy     43     34.0     34     35\n",
       "1       Happy     33     20.0     23     49\n",
       "2         Doc     48     32.0     36     37\n",
       "3      Grumpy     40     23.5     40     45\n",
       "4     Bashful     46     42.5     46     31\n",
       "5      Sneezy     48     38.5     48     43\n",
       "6       Dopey     38     45.0     39     32\n",
       "7  Snow White     41     48.0     39     41\n",
       "8     New Kid     30     30.0     30     30"
      ]
     },
     "execution_count": 41,
     "metadata": {},
     "output_type": "execute_result"
    }
   ],
   "source": [
    "# append a dictionary\n",
    "gradebook = pd.read_excel(\"scores.xlsx\")\n",
    "d = dict(zip(['Student','quiz1','midterm','quiz2','final'],[\"New Kid\",30,30,30,30]))\n",
    "print(d)\n",
    "gradebook = gradebook.append(d, ignore_index=True)\n",
    "gradebook"
   ]
  },
  {
   "cell_type": "markdown",
   "metadata": {},
   "source": [
    "__groupby__ for data aggregation"
   ]
  },
  {
   "cell_type": "code",
   "execution_count": 53,
   "metadata": {},
   "outputs": [
    {
     "name": "stdout",
     "output_type": "stream",
     "text": [
      "               id  quiz1    midterm      quiz2      final\n",
      "year                                                     \n",
      "1     2923.333333   43.0  39.166667  40.333333  36.666667\n",
      "2     9016.000000   42.0  35.625000  36.000000  39.500000\n",
      "3     5738.000000   40.0  23.500000  40.000000  45.000000 \n",
      "\n",
      "      quiz1    midterm      quiz2      final\n",
      "year                                        \n",
      "1      43.0  39.166667  40.333333  36.666667\n",
      "2      42.0  35.625000  36.000000  39.500000\n",
      "3      40.0  23.500000  40.000000  45.000000 \n",
      "\n"
     ]
    }
   ],
   "source": [
    "# 23\n",
    "print(data.groupby(\"year\").mean(), '\\n')\n",
    "print(data.groupby([\"year\"])[[\"quiz1\", \"midterm\", \"quiz2\", \"final\"]].mean(), '\\n')\n",
    "# The above output shows the mean of the id's, which doesn't make sense.\n",
    "# Show the mean of the exams only?  \n"
   ]
  },
  {
   "cell_type": "markdown",
   "metadata": {},
   "source": [
    "### Data Cleaning"
   ]
  },
  {
   "cell_type": "markdown",
   "metadata": {},
   "source": [
    "Missing data or __NaN__"
   ]
  },
  {
   "cell_type": "code",
   "execution_count": 79,
   "metadata": {},
   "outputs": [
    {
     "name": "stdout",
     "output_type": "stream",
     "text": [
      "    Class Days     Time  Number of Units  Number of Students Location\n",
      "0    CIS3   MW   9:30am              4.0                45.0  De Anza\n",
      "1  CIS22A   MW  11:30am              4.5                 NaN  De Anza\n",
      "2  CIS41A  TTH   9:30am              4.5                47.0  De Anza\n",
      "3  CIS18B   MW   1:30pm              4.5                 NaN  De Anza \n",
      "\n",
      "    Class Days    Time  Number of Units  Number of Students Location\n",
      "0    CIS3   MW  9:30am              4.0                45.0  De Anza\n",
      "2  CIS41A  TTH  9:30am              4.5                47.0  De Anza \n",
      "\n",
      "    Class Days     Time  Number of Units  Number of Students Location\n",
      "0    CIS3   MW   9:30am              4.0                45.0  De Anza\n",
      "1  CIS22A   MW  11:30am              4.5                 0.0  De Anza\n",
      "2  CIS41A  TTH   9:30am              4.5                47.0  De Anza\n",
      "3  CIS18B   MW   1:30pm              4.5                 0.0  De Anza \n",
      "\n"
     ]
    },
    {
     "data": {
      "text/html": [
       "<div>\n",
       "<style scoped>\n",
       "    .dataframe tbody tr th:only-of-type {\n",
       "        vertical-align: middle;\n",
       "    }\n",
       "\n",
       "    .dataframe tbody tr th {\n",
       "        vertical-align: top;\n",
       "    }\n",
       "\n",
       "    .dataframe thead th {\n",
       "        text-align: right;\n",
       "    }\n",
       "</style>\n",
       "<table border=\"1\" class=\"dataframe\">\n",
       "  <thead>\n",
       "    <tr style=\"text-align: right;\">\n",
       "      <th></th>\n",
       "      <th>Class</th>\n",
       "      <th>Days</th>\n",
       "      <th>Time</th>\n",
       "      <th>Number of Units</th>\n",
       "      <th>Number of Students</th>\n",
       "      <th>Location</th>\n",
       "    </tr>\n",
       "  </thead>\n",
       "  <tbody>\n",
       "    <tr>\n",
       "      <th>1</th>\n",
       "      <td>CIS22A</td>\n",
       "      <td>MW</td>\n",
       "      <td>11:30am</td>\n",
       "      <td>4.5</td>\n",
       "      <td>NaN</td>\n",
       "      <td>De Anza</td>\n",
       "    </tr>\n",
       "    <tr>\n",
       "      <th>3</th>\n",
       "      <td>CIS18B</td>\n",
       "      <td>MW</td>\n",
       "      <td>1:30pm</td>\n",
       "      <td>4.5</td>\n",
       "      <td>NaN</td>\n",
       "      <td>De Anza</td>\n",
       "    </tr>\n",
       "  </tbody>\n",
       "</table>\n",
       "</div>"
      ],
      "text/plain": [
       "    Class Days     Time  Number of Units  Number of Students Location\n",
       "1  CIS22A   MW  11:30am              4.5                 NaN  De Anza\n",
       "3  CIS18B   MW   1:30pm              4.5                 NaN  De Anza"
      ]
     },
     "execution_count": 79,
     "metadata": {},
     "output_type": "execute_result"
    }
   ],
   "source": [
    "# 24. When data is read in to a DataFrame and some values are missing, the missing values \n",
    "# appear as NaN values in the DataFrame. NaN is the IEEE defined value for Not a Number.\n",
    "data = pd.read_csv(\"classes.csv\")   # empty field in CSV file\n",
    "print(data, '\\n')\n",
    "\n",
    "# remove data records (rows) with NaN\n",
    "cleanedData = data.dropna()\n",
    "print(cleanedData, '\\n')\n",
    "\n",
    "# replace NaN with some default value\n",
    "subbedData = data.fillna(0)\n",
    "print(subbedData, '\\n')\n",
    "\n",
    "# check for NaN in the DataFrame\n",
    "data[data.isna().any(axis=1)]"
   ]
  },
  {
   "cell_type": "code",
   "execution_count": 81,
   "metadata": {},
   "outputs": [
    {
     "name": "stdout",
     "output_type": "stream",
     "text": [
      "nan\n",
      "46.0 \n",
      "\n",
      "46.0\n"
     ]
    },
    {
     "data": {
      "text/plain": [
       "count     2.000000\n",
       "mean     46.000000\n",
       "std       1.414214\n",
       "min      45.000000\n",
       "25%      45.500000\n",
       "50%      46.000000\n",
       "75%      46.500000\n",
       "max      47.000000\n",
       "Name: Number of Students, dtype: float64"
      ]
     },
     "execution_count": 81,
     "metadata": {},
     "output_type": "execute_result"
    }
   ],
   "source": [
    "# 25. NaN with numpy\n",
    "print(np.median(data['Number of Students']))\n",
    "print(np.median(cleanedData['Number of Students']), '\\n')\n",
    "\n",
    "# NaN with pandas\n",
    "print(data['Number of Students'].median())\n",
    "data['Number of Students'].describe()"
   ]
  },
  {
   "cell_type": "markdown",
   "metadata": {},
   "source": [
    "Change column labels: __string vectorization__"
   ]
  },
  {
   "cell_type": "code",
   "execution_count": 83,
   "metadata": {},
   "outputs": [
    {
     "name": "stdout",
     "output_type": "stream",
     "text": [
      "Index(['class', 'days', 'time', 'number of units', 'number of students',\n",
      "       'location'],\n",
      "      dtype='object')\n",
      "Index(['class', 'days', 'time', 'units', 'students', 'location'], dtype='object')\n"
     ]
    }
   ],
   "source": [
    "# 26. As seen from the cell above, it's more convenient to have a shorter column label.\n",
    "# Simplify the data.columns (column labels) so it's easier to type.\n",
    "# a. change the column labels so they're all lowercase\n",
    "data.columns = data.columns.str.lower()\n",
    "print(data.columns)\n",
    "\n",
    "\n",
    "# print(rename)\n",
    "# b. change column labels to 1 word: class, days, time, units, students ?\n",
    "# You'll need to do the reading for this answer\n",
    "rename = [cname.split()[-1] for cname in data.columns]\n",
    "data.columns = rename\n",
    "print(data.columns)"
   ]
  },
  {
   "cell_type": "markdown",
   "metadata": {},
   "source": [
    "Remove unnecessary columns"
   ]
  },
  {
   "cell_type": "code",
   "execution_count": null,
   "metadata": {},
   "outputs": [],
   "source": [
    "# 27. the location is always De Anza, which doesn't give us any info.\n",
    "# remove location column ?\n",
    "data = data.drop(columns=['location'])\n",
    "data"
   ]
  },
  {
   "cell_type": "code",
   "execution_count": null,
   "metadata": {},
   "outputs": [],
   "source": []
  }
 ],
 "metadata": {
  "kernelspec": {
   "display_name": "Python 3",
   "language": "python",
   "name": "python3"
  },
  "language_info": {
   "codemirror_mode": {
    "name": "ipython",
    "version": 3
   },
   "file_extension": ".py",
   "mimetype": "text/x-python",
   "name": "python",
   "nbconvert_exporter": "python",
   "pygments_lexer": "ipython3",
   "version": "3.8.5"
  }
 },
 "nbformat": 4,
 "nbformat_minor": 2
}
