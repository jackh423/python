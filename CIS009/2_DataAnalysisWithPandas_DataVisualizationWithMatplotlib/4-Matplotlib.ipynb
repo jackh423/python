{
 "cells": [
  {
   "cell_type": "markdown",
   "metadata": {},
   "source": [
    "## CIS 9\n",
    "## Matplotlib, Data Visualization\n",
    "\n",
    "A picture (or a plot) is worth a thousand words."
   ]
  },
  {
   "cell_type": "markdown",
   "metadata": {},
   "source": [
    "Reading\n",
    "<br>The Data Science Handbook, Chapter 4:\n",
    "- Simple Line Plots\n",
    "- Simple Scatter Plots\n",
    "- Histograms, Binnings, Density: up to Two-Dimensional Histogram\n",
    "- Customizing Legends\n",
    "- Multiple subplots\n",
    "- Customizing ticks\n",
    "<br>\n",
    "<br>Think Stats, at the following links:\n",
    "- Distribution: Histogram, Summarizing distribution\n",
    "- Relationship between variables: Scatter plots, Characterizing relationships, Correlation, Correlation and causation"
   ]
  },
  {
   "cell_type": "markdown",
   "metadata": {},
   "source": [
    "Just like how Pandas relies on Numpy for math computation, Pandas relies on Matplotlib for plotting data.\n",
    "<br>Pandas DataFrame plotting is for basic plots, and to customize the plots we need to go directly to Matplotlib."
   ]
  },
  {
   "cell_type": "markdown",
   "metadata": {},
   "source": [
    "Import libraries"
   ]
  },
  {
   "cell_type": "code",
   "execution_count": null,
   "metadata": {},
   "outputs": [],
   "source": [
    "import pandas as pd\n",
    "import numpy as np\n",
    "import matplotlib.pyplot as plt\n",
    "%matplotlib inline"
   ]
  },
  {
   "cell_type": "markdown",
   "metadata": {},
   "source": [
    "__Line plot__: shows the trends in a dataset.\n",
    "<br>A line plot shows how data change over time, or over different locations, or when a condition changes.\n",
    "<br>A line plot is for __univariate__ and __quantitative__ data"
   ]
  },
  {
   "cell_type": "code",
   "execution_count": null,
   "metadata": {},
   "outputs": [],
   "source": [
    "# A basic line plot, with no customization\n",
    "nums = pd.Series([1,5,2,8,3])\n",
    "plt.plot(nums)\n",
    "# plt.show()"
   ]
  },
  {
   "cell_type": "markdown",
   "metadata": {},
   "source": [
    "Default values are:\n",
    "- A line connects the data points 1,5,2,8,3 of nums\n",
    "- The line color is blue\n",
    "- The y-axis ticks (values 1-8) is determined by matplotlib based on the data range of nums\n",
    "- The x-axis ticks (values 0.0-4.0) is determined by matplotlib based on the index of nums"
   ]
  },
  {
   "cell_type": "markdown",
   "metadata": {},
   "source": [
    "For a line plot we typically plot 2 corresponding data sequences, such as costs over time.\n",
    "- The independent data sequence (time) are along the x-axis or horizontal axis\n",
    "- The dependent data sequence (cost depends on time) are along the y-axis or vertical axis"
   ]
  },
  {
   "cell_type": "code",
   "execution_count": null,
   "metadata": {},
   "outputs": [],
   "source": [
    "# Data for a more realistic line plot\n",
    "gb = pd.read_excel(\"scores.xlsx\", index_col='Student')\n",
    "gb"
   ]
  },
  {
   "cell_type": "code",
   "execution_count": null,
   "metadata": {},
   "outputs": [],
   "source": [
    "# plotting how 'Happy' did in the exams\n",
    "print(gb.loc['Happy'])\n",
    "plt.plot(np.arange(4),gb.loc['Happy'])"
   ]
  },
  {
   "cell_type": "code",
   "execution_count": null,
   "metadata": {},
   "outputs": [],
   "source": [
    "# plotting both 'Happy' and 'Sleepy' exams\n",
    "plt.plot(np.arange(4),gb.loc['Happy'])\n",
    "plt.plot(np.arange(4),gb.loc['Sleepy'])"
   ]
  },
  {
   "cell_type": "markdown",
   "metadata": {},
   "source": [
    "Observing the plot, what can we say about Happy's and Sleepy's performance in class?"
   ]
  },
  {
   "cell_type": "markdown",
   "metadata": {},
   "source": [
    "__Customize plots__ to make them easier to understand\n",
    "<br>These features work for all types of plot, not just line plots"
   ]
  },
  {
   "cell_type": "code",
   "execution_count": null,
   "metadata": {},
   "outputs": [],
   "source": [
    "# add grid to the plot\n",
    "plt.style.use('seaborn-whitegrid')   # only need to do this one time\n",
    "                                     # it's typically put at the 'import' cell\n",
    "plt.plot(np.arange(4),gb.loc['Happy'])\n",
    "plt.plot(np.arange(4),gb.loc['Sleepy'])"
   ]
  },
  {
   "cell_type": "code",
   "execution_count": null,
   "metadata": {},
   "outputs": [],
   "source": [
    "# customize line color\n",
    "plt.plot(np.arange(4),gb.loc['Happy'], color='green')\n",
    "plt.plot(np.arange(4),gb.loc['Sleepy'], color='purple')"
   ]
  },
  {
   "cell_type": "code",
   "execution_count": null,
   "metadata": {},
   "outputs": [],
   "source": [
    "# customize line style (works for line plots only)\n",
    "plt.plot(np.arange(4),gb.loc['Happy'], linestyle='dashed')\n",
    "plt.plot(np.arange(4),gb.loc['Sleepy'], color='red', linestyle='dotted')"
   ]
  },
  {
   "cell_type": "markdown",
   "metadata": {},
   "source": [
    "[Shorthand notation for line style and color](https://matplotlib.org/3.3.3/api/_as_gen/matplotlib.pyplot.plot.html)\n",
    "<br>Scroll down to see the list of characters for line style and color"
   ]
  },
  {
   "cell_type": "code",
   "execution_count": null,
   "metadata": {},
   "outputs": [],
   "source": [
    "# combine both color and style with shorthand notation\n",
    "plt.plot(np.arange(4),gb.loc['Happy'], '*--r')\n",
    "# using shorthand notation, plot Sleepy's exams as a line with a circle marker \n",
    "# at each data point?\n"
   ]
  },
  {
   "cell_type": "code",
   "execution_count": null,
   "metadata": {},
   "outputs": [],
   "source": [
    "# adjusting limits on axes\n",
    "plt.axis([-0.5,3.5,15,55])\n",
    "plt.plot(np.arange(4),gb.loc['Happy'], '*--r')\n",
    "plt.plot(np.arange(4),gb.loc['Sleepy'], '.-')"
   ]
  },
  {
   "cell_type": "code",
   "execution_count": null,
   "metadata": {},
   "outputs": [],
   "source": [
    "# label plot\n",
    "plt.title(\"Exam Grades\")\n",
    "plt.xlabel(\"Exam\")\n",
    "plt.ylabel(\"Score\")\n",
    "plt.plot(np.arange(4),gb.loc['Happy'], 'o--', label='Happy')\n",
    "plt.plot(np.arange(4),gb.loc['Sleepy'], 'o--', label='Sleepy')\n",
    "plt.legend()"
   ]
  },
  {
   "cell_type": "code",
   "execution_count": null,
   "metadata": {},
   "outputs": [],
   "source": [
    "# change font size\n",
    "plt.title(\"Exam Grades\",fontsize=16)\n",
    "plt.xlabel(\"Exam\",fontsize=12)\n",
    "plt.ylabel(\"Score (out of 50pts)\",fontsize=12)\n",
    "plt.plot(np.arange(4),gb.loc['Happy'], 'o--', label='Happy')\n",
    "plt.plot(np.arange(4),gb.loc['Sleepy'], 'o--', label='Sleepy')\n",
    "plt.legend(fontsize=8)"
   ]
  },
  {
   "cell_type": "code",
   "execution_count": null,
   "metadata": {},
   "outputs": [],
   "source": [
    "# change xticks and yticks\n",
    "plt.title(\"Exam Grades\",fontsize=16)\n",
    "plt.xlabel(\"Exam\",fontsize=12)\n",
    "plt.ylabel(\"Score (out of 50pts)\",fontsize=12)\n",
    "plt.plot(np.arange(4),gb.loc['Happy'], 'o--', label='Happy')\n",
    "plt.plot(np.arange(4),gb.loc['Sleepy'], 'o--', label='Sleepy')\n",
    "plt.legend(fontsize=8)\n",
    "plt.xticks(np.arange(4),('quiz1','midterm', 'quiz2', 'final'))\n",
    "#plt.xticks(np.arange(4),('quiz1','midterm', 'quiz2', 'final'),rotation=45)"
   ]
  },
  {
   "cell_type": "code",
   "execution_count": null,
   "metadata": {},
   "outputs": [],
   "source": [
    "# subplot\n",
    "plt.subplot(1,2,1)   # 1 row, 2 cols, subplot 1\n",
    "plt.subplots_adjust(hspace=0.4,wspace=0.4)\n",
    "plt.title(\"Exam Grades\",fontsize=16)\n",
    "plt.xlabel(\"Exam\",fontsize=12)\n",
    "plt.ylabel(\"Score (out of 50pts)\",fontsize=12)\n",
    "plt.plot(np.arange(4),gb.loc['Happy'], 'o--', label='Happy')\n",
    "plt.plot(np.arange(4),gb.loc['Sleepy'], 'o--', label='Sleepy')\n",
    "plt.legend(fontsize=8)\n",
    "plt.xticks(np.arange(4), ('quiz1','midterm', 'quiz2', 'final') ) \n",
    "\n",
    "plt.subplot(1,2,2)   # 1 row, 2 cols, subplot 2\n",
    "x = np.linspace(0, 2*np.pi, 400)\n",
    "plt.plot(x, np.sin(x))\n",
    "plt.title(\"Sine wave\")"
   ]
  },
  {
   "cell_type": "code",
   "execution_count": null,
   "metadata": {},
   "outputs": [],
   "source": [
    "# given the 2 plots below (same as the 2 plots above)\n",
    "# create a plot with 2 subplots where the exam grade plot is put above\n",
    "# the sine wave plot?\n",
    "\n",
    "plt.title(\"Exam Grades\",fontsize=16)\n",
    "plt.xlabel(\"Exam\",fontsize=12)\n",
    "plt.ylabel(\"Score (out of 50pts)\",fontsize=12)\n",
    "plt.plot(np.arange(4),gb.loc['Happy'], 'o--', label='Happy')\n",
    "plt.plot(np.arange(4),gb.loc['Sleepy'], 'o--', label='Sleepy')\n",
    "plt.legend(fontsize=8)\n",
    "plt.xticks(np.arange(4), ('quiz1','midterm', 'quiz2', 'final') ) \n",
    "\n",
    "plt.subplot(2,1,2)   # 2 rows, 1 col, subplot 2\n",
    "x = np.linspace(0, 2*np.pi, 400)\n",
    "plt.plot(x, np.sin(x))\n",
    "plt.title(\"Sine wave\")\n",
    "#plt.xticks(np.arange(0,7,3),('0','pi','2pi'))"
   ]
  },
  {
   "cell_type": "markdown",
   "metadata": {},
   "source": [
    "__Histogram__: shows the frequency distribution of the dataset, or how data are distributed. It gives an overview of the dataset.\n",
    "<br>A histogram divides the data range into bins and displays a count of the data points whose values are in a particular bin.\n",
    "<br>A histogram is used with __univariate__ and __quantitative__ data"
   ]
  },
  {
   "cell_type": "code",
   "execution_count": null,
   "metadata": {},
   "outputs": [],
   "source": [
    "# A 'classic' distribution is the normal or Gaussian distribution, also known as the bell curve\n",
    "nums = np.random.normal(size=8000)\n",
    "plt.hist(nums, bins=50)"
   ]
  },
  {
   "cell_type": "code",
   "execution_count": null,
   "metadata": {},
   "outputs": [],
   "source": [
    "# reading in data\n",
    "gb = pd.read_excel(\"scores.xlsx\", index_col='Student')\n",
    "gb"
   ]
  },
  {
   "cell_type": "code",
   "execution_count": null,
   "metadata": {},
   "outputs": [],
   "source": [
    "# show the score distribution of all exams\n",
    "total = (gb['quiz1'])\n",
    "total = total.append(gb['midterm'])\n",
    "total = total.append(gb['quiz2'])\n",
    "total = total.append(gb['final'])\n",
    "plt.hist(total)"
   ]
  },
  {
   "cell_type": "markdown",
   "metadata": {},
   "source": [
    "Default values are:\n",
    "- the color is blue\n",
    "- the range of data is along the x-axis\n",
    "- the count of data values in each bin is along the y-axis\n",
    "- the number of bins is 10. In this example: (50-20)/10 = 3, so the bins are: 20-23pts, 23-26pts, 26-29pts, 29-32pts..."
   ]
  },
  {
   "cell_type": "code",
   "execution_count": null,
   "metadata": {},
   "outputs": [],
   "source": [
    "# display 2 distributions for comparison\n",
    "quiz = gb['quiz1']\n",
    "quiz = quiz.append(gb['quiz2'])\n",
    "exam = gb['midterm']\n",
    "exam = exam.append(gb['final'])\n",
    "plt.hist(quiz, color='green', label='quiz', alpha=0.2)\n",
    "plt.hist(exam, color='purple', label='exam', alpha=0.2)\n",
    "plt.legend()"
   ]
  },
  {
   "cell_type": "markdown",
   "metadata": {},
   "source": [
    "__Bar chart__: gives a comparison of the categories within a dataset.\n",
    "<br>Categories, or categorical data, show the groupings of data.\n",
    "<br>Example: data are drinks people have at a meal, categories are sodas, water, tea, coffee\n",
    "<br>Or: data are employees at a company, categories are full time, part time, seasonal employees\n",
    "<br>A bar chart is used with __univariate__ and __categorical__ data"
   ]
  },
  {
   "cell_type": "code",
   "execution_count": null,
   "metadata": {},
   "outputs": [],
   "source": [
    "gradebook = pd.read_excel(\"scores.xlsx\", index_col='Student')\n",
    "stInfo = pd.read_excel(\"ids.xlsx\", index_col='Student')\n",
    "data = pd.concat([stInfo, gradebook], axis=1)\n",
    "print(data)\n",
    "finals = data.groupby(\"year\").mean().final\n",
    "print(finals.values)\n",
    "print(finals.index.values)"
   ]
  },
  {
   "cell_type": "code",
   "execution_count": null,
   "metadata": {},
   "outputs": [],
   "source": [
    "# In a bar chart, the categories are along the x-axis, \n",
    "# and the count of data belong in each category is along the y-axis\n",
    "plt.bar(np.arange(len(finals)), finals, align=\"center\")\n",
    "plt.xticks(np.arange(len(finals)),finals.index.values) \n",
    "plt.xlabel(\"Year in School\")\n",
    "plt.ylabel(\"Mean Final Exam Score\")"
   ]
  },
  {
   "cell_type": "markdown",
   "metadata": {},
   "source": [
    "What conclusion can we draw from the bar chart?"
   ]
  },
  {
   "cell_type": "markdown",
   "metadata": {},
   "source": [
    "__Scatter Plot__: shows the relationship between 2 datasets.\n",
    "<br>Data values of each set are plotted and their locations on the plot can show any correlation between the two sets.\n",
    "<br>A scatter plot is used with __bivariate__ and __quantitative__ data"
   ]
  },
  {
   "cell_type": "code",
   "execution_count": null,
   "metadata": {},
   "outputs": [],
   "source": [
    "# scatter plot of unrelated data\n",
    "x = np.random.normal(5.0, 1.0, 200)   # center around 5, spread of 1\n",
    "y = np.random.normal(10.0, 2.0, 200)  # center around 10, spread of 2\n",
    "plt.scatter(x, y)\n",
    "plt.title(\"Normal distribution data\")"
   ]
  },
  {
   "cell_type": "code",
   "execution_count": null,
   "metadata": {},
   "outputs": [],
   "source": [
    "# scatter plot of correlated data\n",
    "temp = (14.2,16.4,11.9,15.2,18.5,22.1,19.4,25.1,23.4,18.1,22.6,17.2)\n",
    "sale = (215,325,185,332,406,522,412,614,544,421,445,408)\n",
    "plt.scatter(temp,sale)    \n",
    "plt.title(\"Ice Cream Sale\")\n",
    "plt.xlabel(\"Temp in Celsius\")\n",
    "plt.ylabel(\"Sale in Dollars\")"
   ]
  },
  {
   "cell_type": "code",
   "execution_count": null,
   "metadata": {},
   "outputs": [],
   "source": [
    "# Looking ahead:\n",
    "from scipy import stats\n",
    "\n",
    "(slope, intercept, r, *rest) = stats.linregress(temp, sale)\n",
    "print(r)\n",
    "\n",
    "def f(val):\n",
    "    return slope * val + intercept\n",
    "\n",
    "print(f(29))   # 29C = 85F\n",
    "\n",
    "line = [f(val) for val in temp]\n",
    "plt.scatter(temp,sale)\n",
    "plt.plot(temp, line, '-g')"
   ]
  },
  {
   "cell_type": "code",
   "execution_count": null,
   "metadata": {},
   "outputs": [],
   "source": []
  }
 ],
 "metadata": {
  "kernelspec": {
   "display_name": "Python 3",
   "language": "python",
   "name": "python3"
  },
  "language_info": {
   "codemirror_mode": {
    "name": "ipython",
    "version": 3
   },
   "file_extension": ".py",
   "mimetype": "text/x-python",
   "name": "python",
   "nbconvert_exporter": "python",
   "pygments_lexer": "ipython3",
   "version": "3.8.5"
  }
 },
 "nbformat": 4,
 "nbformat_minor": 2
}
