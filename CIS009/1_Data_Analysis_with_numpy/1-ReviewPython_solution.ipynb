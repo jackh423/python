{
 "cells": [
  {
   "cell_type": "markdown",
   "metadata": {},
   "source": [
    "### CIS 9 \n",
    "### Solution: Review Python Basics and Intro to Jupyter Notebook ###"
   ]
  },
  {
   "cell_type": "markdown",
   "metadata": {},
   "source": [
    "Optional Reading: Python Data Science Handbook, Ch. 1: IPython"
   ]
  },
  {
   "cell_type": "markdown",
   "metadata": {},
   "source": [
    "**1. Numbers and strings**"
   ]
  },
  {
   "cell_type": "code",
   "execution_count": null,
   "metadata": {},
   "outputs": [],
   "source": [
    "a = 10\n",
    "b = 3\n",
    "c = '5'\n",
    "# Add code to print the result of a multiply with b\n",
    "print(a*b)\n",
    "# Add code to print the result of c replicated b times\n",
    "print(c*b)\n",
    "# Add code to print the result of a added with b\n",
    "print(a+b)\n",
    "# Add code to print the result of c concatenate with b\n",
    "print(c+str(b))"
   ]
  },
  {
   "cell_type": "markdown",
   "metadata": {},
   "source": [
    "**2. Decisions and loops**"
   ]
  },
  {
   "cell_type": "code",
   "execution_count": null,
   "metadata": {},
   "outputs": [],
   "source": [
    "# Add code to create a loop to keep asking the user for a number until the user presses the Enter key only.\n",
    "# After the user enters 0, print number of positive numbers and number of negative numbers entered.\n",
    "# Note that 0 is neither positive nor negative\n",
    "\n",
    "num = input(\"Enter a number: \")\n",
    "pos = neg = 0\n",
    "while len(num) != 0 :\n",
    "    if float(num) < 0 :\n",
    "        neg += 1\n",
    "    elif float(num) > 0 :\n",
    "        pos += 1\n",
    "    num = input(\"Enter a number: \")\n",
    "print(\"Positive:\", pos, \" Negative:\", neg)"
   ]
  },
  {
   "cell_type": "markdown",
   "metadata": {},
   "source": [
    "**3. Functions**"
   ]
  },
  {
   "cell_type": "code",
   "execution_count": null,
   "metadata": {},
   "outputs": [],
   "source": [
    "# Write a function add, given the function calls below:\n",
    "def add(*args):     # * packs all input args into a tuple named args\n",
    "    return(sum(args))\n",
    "\n",
    "print(add(1, 2))   # print: 3\n",
    "print(add())       # print: 0\n",
    "print(add(1,2,3,4,5,6,7,8,9,10,11,12,13,14,15,16,17))   # print: 153\n",
    "\n",
    "# Can you write the function add such that: \n",
    "# - it has no loop\n",
    "# - you don't have to initialize all input parameters\n",
    "# - it can accept any number of input numbers, even more than 17 input arguments?"
   ]
  },
  {
   "cell_type": "markdown",
   "metadata": {},
   "source": [
    "**4. Containers or iterables**"
   ]
  },
  {
   "cell_type": "code",
   "execution_count": null,
   "metadata": {},
   "outputs": [],
   "source": [
    "# Use a container to store the characters of the string \"hello\"  \n",
    "# What type of container would you use? Why?\n",
    "t = tuple(\"hello\")    # tuple is immutable and faster to access than list\n",
    "print(t)"
   ]
  },
  {
   "cell_type": "code",
   "execution_count": null,
   "metadata": {},
   "outputs": [],
   "source": [
    "# Use a container to store the characters of the string \"hello\"\n",
    "# Then add an exclamation point to the container, after the letter 'o', and capitalize the 'h'\n",
    "L = list(\"hello\")   # need to use a list here because we need to change values\n",
    "L.append('!')\n",
    "L[0] = 'H'\n",
    "print(L)"
   ]
  },
  {
   "cell_type": "code",
   "execution_count": null,
   "metadata": {},
   "outputs": [],
   "source": [
    "# Use a container to store the unique characters of the string \"hello\" \n",
    "# unique characters means only h,e,l,o should be stored\n",
    "S = set(\"hello\")    # a set only contains unique elements, but there's no order\n",
    "print(S)"
   ]
  },
  {
   "cell_type": "code",
   "execution_count": null,
   "metadata": {},
   "outputs": [],
   "source": [
    "# Use a container to store the unique characters of the string \"hello\" \n",
    "# and its ascii value. Example: 'h' should be stored with the ascii value 104\n",
    "D = dict(zip('hello', [ord(c) for c in 'hello']))\n",
    "print(D)\n",
    "\n",
    "# another solution from several people in class:   \n",
    "dict_ = {char:ord(char) for char in 'hello'}\n"
   ]
  },
  {
   "cell_type": "markdown",
   "metadata": {},
   "source": [
    "**5. Accessing lists**"
   ]
  },
  {
   "cell_type": "code",
   "execution_count": null,
   "metadata": {},
   "outputs": [],
   "source": [
    "L = list(range(1,21))\n",
    "# Write code to print the first half of the list\n",
    "print(L[:10])\n",
    "# Write code to print the last 3 elements of the list\n",
    "print(L[-3:])\n",
    "# Write code to print every element of the list, all on one line, separated by space\n",
    "for num in L :\n",
    "    print(num, end=\" \")\n",
    "print()\n",
    "# Write code to negate every other element of the list \n",
    "for i in range(1,len(L),2) :\n",
    "    L[i] *= -1\n",
    "print(L)\n",
    "\n",
    "# from class discussion: negate all elements that are even in L\n",
    "list_neg =[-i if i%2==0 else i   for i in L]"
   ]
  },
  {
   "cell_type": "code",
   "execution_count": null,
   "metadata": {},
   "outputs": [],
   "source": [
    "# Write code to create a list of 20 elements and initialize it to 0\n",
    "L = [0]*20\n",
    "print(L)\n",
    "\n",
    "# Write code to create a list of 10 lists, each inner list contains 20 elements, initialized to 5.\n",
    "# print the list of lists as 10 rows of 20 columns\n",
    "L = [[5]*20 for i in range(10)]\n",
    "for r in L :\n",
    "    for c in r :\n",
    "        print(c, end=\" \")\n",
    "    print()\n",
    "    \n",
    "# from class discussion:\n",
    "L = [[5]*20] * 10\n",
    "# will not produce the same list of 10 inner lists.\n",
    "# Instead it will produce a list of 10 references, each reference\n",
    "# points to the same and only one inner list.\n"
   ]
  },
  {
   "cell_type": "code",
   "execution_count": null,
   "metadata": {},
   "outputs": [],
   "source": [
    "import random\n",
    "random.seed()\n",
    "L = [random.randint(1,10) for i in range(8)]\n",
    "print(L)\n",
    "# Write code to create a new list which is made of even values from L\n",
    "L2 = [n for n in L if n%2 == 0]\n",
    "# Write code to print the new list, with the elemens sorted in descending order\n",
    "print(sorted(L2,reverse=True))\n",
    "# Write code to print True or False, depending on whether the value 4 is in the new list\n",
    "print(4 in L2)"
   ]
  },
  {
   "cell_type": "markdown",
   "metadata": {},
   "source": [
    "**6. Accessing dictionaries and tuples**"
   ]
  },
  {
   "cell_type": "code",
   "execution_count": null,
   "metadata": {},
   "outputs": [],
   "source": [
    "# Write a dictionary comprehension to store the letters A,B,C as keys and their ascii numbers as values\n",
    "D = {c:ord(c) for c in \"ABC\"}\n",
    "print(D)\n",
    "# Write code to add D and its ascii value 68 to the dictionary\n",
    "D['D'] = 68\n",
    "print(D)\n",
    "# Write code to print a list of all keys\n",
    "print(list(D.keys()))\n",
    "# Write code to print a tuple of all values\n",
    "print(tuple(D.values()))\n",
    "# Write code to print the key and value pair, one per line\n",
    "for k,v in D.items() :\n",
    "    print(k,v)\n",
    "# Write code to store each value into a variable v1, v2, v3, v4\n",
    "(v1, v2, v3, v4) = D.values()\n",
    "print(v1, v2, v3, v4)"
   ]
  },
  {
   "cell_type": "markdown",
   "metadata": {},
   "source": [
    "**6. File IO**"
   ]
  },
  {
   "cell_type": "code",
   "execution_count": null,
   "metadata": {},
   "outputs": [],
   "source": [
    "import csv\n",
    "with open(\"sample.csv\", \"w\", newline='') as f :\n",
    "    writer = csv.writer(f)\n",
    "    for i in range(3) :\n",
    "        writer.writerow([random.randint(1,11) for i in range(4)])\n",
    "        \n",
    "# Write code to read in sample.csv and print all numbers in one line of output, separated by space\n",
    "with open(\"sample.csv\") as f :\n",
    "    reader = csv.reader(f)\n",
    "    for L in reader :\n",
    "        print(\" \".join(L), end=' ')\n",
    "    print()\n",
    "    \n",
    "# Write code to read in sample.csv as a text file (without using csv reader) \n",
    "# and print all numbers in one line of output, separated by space\n",
    "with open(\"sample.csv\") as f :\n",
    "    for line in f :\n",
    "        print(line.rstrip().replace(',',' '), end=' ')\n",
    "    print()"
   ]
  },
  {
   "cell_type": "code",
   "execution_count": null,
   "metadata": {},
   "outputs": [],
   "source": []
  }
 ],
 "metadata": {
  "kernelspec": {
   "display_name": "Python 3",
   "language": "python",
   "name": "python3"
  },
  "language_info": {
   "codemirror_mode": {
    "name": "ipython",
    "version": 3
   },
   "file_extension": ".py",
   "mimetype": "text/x-python",
   "name": "python",
   "nbconvert_exporter": "python",
   "pygments_lexer": "ipython3",
   "version": "3.8.5"
  }
 },
 "nbformat": 4,
 "nbformat_minor": 2
}
