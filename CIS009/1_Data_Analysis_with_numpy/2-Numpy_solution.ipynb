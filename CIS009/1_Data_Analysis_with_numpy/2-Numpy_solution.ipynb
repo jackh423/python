{
 "cells": [
  {
   "cell_type": "markdown",
   "metadata": {},
   "source": [
    "### CIS 9 ###\n",
    "### Numpy, Basic Statistics -- Solution ###"
   ]
  },
  {
   "cell_type": "markdown",
   "metadata": {},
   "source": [
    "Reading: \n",
    "<br>- Python Data Science Handbook: Ch 2 except Fancy Indexing, Structured Arrays sections\n",
    "<br>- Think Stats: Ch 1; Ch 2 up to and including Variance; Ch 3: Percentiles"
   ]
  },
  {
   "cell_type": "markdown",
   "metadata": {},
   "source": [
    "To use numpy, we first need to import the `numpy` module:"
   ]
  },
  {
   "cell_type": "code",
   "execution_count": 1,
   "metadata": {},
   "outputs": [],
   "source": [
    "import numpy as np"
   ]
  },
  {
   "cell_type": "markdown",
   "metadata": {},
   "source": [
    "**Initializing an array, size of an array**"
   ]
  },
  {
   "cell_type": "code",
   "execution_count": 2,
   "metadata": {},
   "outputs": [
    {
     "name": "stdout",
     "output_type": "stream",
     "text": [
      "[1 2 3 4]\n",
      "(4,)\n"
     ]
    }
   ],
   "source": [
    "# 1. 1D array from list\n",
    "oneD = np.array([1, 2, 3, 4])\n",
    "print(oneD)\n",
    "\n",
    "# print the size of the array?\n",
    "print(oneD.shape)"
   ]
  },
  {
   "cell_type": "code",
   "execution_count": 3,
   "metadata": {},
   "outputs": [
    {
     "name": "stdout",
     "output_type": "stream",
     "text": [
      "[[ 1.   2.   3. ]\n",
      " [ 4.   5.1  6. ]\n",
      " [ 7.   8.   9. ]\n",
      " [10.  11.  12. ]]\n",
      "(4, 3)\n"
     ]
    }
   ],
   "source": [
    "# 2. 2D array from list of lists\n",
    "twoD = np.array([[1,2,3],[4,5.1,6],[7,8,9],[10,11,12]])\n",
    "print(twoD)\n",
    "\n",
    "# print the size of the array?\n",
    "print(twoD.shape)\n",
    "\n",
    "# A 2D or higher dimension array must have the same number of elements across each dimension.\n",
    "# Example: for a 2D array, all rows must have the same number of elements and\n",
    "# all columns must have the same number of elements"
   ]
  },
  {
   "cell_type": "code",
   "execution_count": 4,
   "metadata": {},
   "outputs": [
    {
     "name": "stdout",
     "output_type": "stream",
     "text": [
      "[0 0 0 0 0 0 0 0]\n"
     ]
    }
   ],
   "source": [
    "# 3. array of int zeros\n",
    "zeros = np.zeros(8, dtype=int)   \n",
    "print(zeros)\n",
    "\n",
    "# what data type does the array store?  \n",
    "#  we give numpy the type Python int, which gets converted to np.int32\n",
    "# how to have the array store numpy's int?    \n",
    "#  put numpy type directly: dtype=np.int32   or  np.int8, np.int16, etc."
   ]
  },
  {
   "cell_type": "code",
   "execution_count": 5,
   "metadata": {},
   "outputs": [
    {
     "name": "stdout",
     "output_type": "stream",
     "text": [
      "[[0. 0.]\n",
      " [0. 0.]]\n",
      "<class 'numpy.ndarray'>\n",
      "<class 'numpy.ndarray'>\n",
      "<class 'numpy.float64'>\n"
     ]
    }
   ],
   "source": [
    "# 4. array of zeros\n",
    "floatZeros = np.zeros((2,2))\n",
    "print(floatZeros)\n",
    "\n",
    "# what's the default data type for numpy?  numpy's float64\n",
    "print(type(floatZeros))\n",
    "print(type(floatZeros[0]))\n",
    "print(type(floatZeros[0,0]))"
   ]
  },
  {
   "cell_type": "code",
   "execution_count": 6,
   "metadata": {},
   "outputs": [
    {
     "name": "stdout",
     "output_type": "stream",
     "text": [
      "[1. 1. 1.]\n"
     ]
    }
   ],
   "source": [
    "# 5. array of ones\n",
    "ones = np.ones(3)\n",
    "print(ones)"
   ]
  },
  {
   "cell_type": "code",
   "execution_count": 7,
   "metadata": {},
   "outputs": [
    {
     "name": "stdout",
     "output_type": "stream",
     "text": [
      "[[-2 -2 -2]\n",
      " [-2 -2 -2]]\n"
     ]
    }
   ],
   "source": [
    "# 6. array of same values\n",
    "filled = np.full((2,3),-2) \n",
    "print(filled)\n",
    "\n",
    "# what is (2,3)?  the shape of the array, 2 rows x 3 cols"
   ]
  },
  {
   "cell_type": "code",
   "execution_count": 8,
   "metadata": {},
   "outputs": [
    {
     "name": "stdout",
     "output_type": "stream",
     "text": [
      "[ 1  2  3  4  5  6  7  8  9 10]\n",
      "[10  8  6  4  2]\n"
     ]
    }
   ],
   "source": [
    "# 7. array of integers, in a range\n",
    "countingNums = np.arange(1,11)\n",
    "print(countingNums)\n",
    "every2 = np.arange(10,0,-2)\n",
    "print(every2)\n",
    "\n",
    "# are the upper and lower limits of np.arange() the same \n",
    "# as Python's range()?   yes"
   ]
  },
  {
   "cell_type": "code",
   "execution_count": 9,
   "metadata": {},
   "outputs": [
    {
     "name": "stdout",
     "output_type": "stream",
     "text": [
      "[[0.33049868 0.90281266]\n",
      " [0.4692696  0.66642654]\n",
      " [0.42381728 0.01135469]]\n"
     ]
    }
   ],
   "source": [
    "# 8. array of float random numbers, always between 0 and 1\n",
    "randNums = np.random.random((3,2))\n",
    "print(randNums)"
   ]
  },
  {
   "cell_type": "code",
   "execution_count": 10,
   "metadata": {},
   "outputs": [
    {
     "name": "stdout",
     "output_type": "stream",
     "text": [
      "[10 17 10 18 12 13 12 15 18 16 13 18 15 10 14 18 15 16 14 19 11 15 16 13\n",
      " 17 19 11 16 11 12 14 11 18 19 11 18 18 12 19 14 18 17 18 18 14 17 17 12\n",
      " 17 12 15 19 10 19 19 19 19 12 18 10 16 17 13 14 11 19 17 13 11 14 14 14\n",
      " 12 10 16 10 15 16 18 18]\n",
      "(80,) \n",
      "\n",
      "[[16 18 11 16]\n",
      " [10 18 19 18]\n",
      " [17 16 12 19]]\n",
      "(3, 4)\n"
     ]
    }
   ],
   "source": [
    "# 9. array of 80 int random numbers from 10 to 19\n",
    "intRandNums = np.random.randint(10, 20, 80)\n",
    "print(intRandNums)\n",
    "print(intRandNums.shape, '\\n')\n",
    "\n",
    "# create a 3 rows x 4 cols array of random integers from 10 to 19?\n",
    "# print the array and the shape?\n",
    "intRandNums2 = np.random.randint(10, 20, (3,4))\n",
    "print(intRandNums2)\n",
    "print(intRandNums2.shape)"
   ]
  },
  {
   "cell_type": "code",
   "execution_count": 11,
   "metadata": {},
   "outputs": [
    {
     "name": "stdout",
     "output_type": "stream",
     "text": [
      "(3, 4)\n",
      "[[8. 4. 1. 3.]\n",
      " [8. 5. 2. 8.]\n",
      " [7. 9. 8. 9.]] \n",
      "\n",
      "(3, 4)\n",
      "[[8 4 1 3]\n",
      " [8 5 2 8]\n",
      " [7 9 8 9]] \n",
      "\n",
      "['one' 'two' 'three']\n",
      "[1 2 3]\n"
     ]
    }
   ],
   "source": [
    "# 10. array from csv file\n",
    "import csv\n",
    "import random\n",
    "\n",
    "with open(\"sample.csv\", \"w\", newline='') as f :\n",
    "    writer = csv.writer(f)\n",
    "    for i in range(3) :\n",
    "        writer.writerow([random.randint(1,11) for i in range(4)])\n",
    "        \n",
    "data = np.loadtxt(\"sample.csv\", delimiter=\",\")\n",
    "print(data.shape)\n",
    "print(data,'\\n')\n",
    "\n",
    "data = np.loadtxt(\"sample.csv\", delimiter=\",\", dtype=np.int8)\n",
    "print(data.shape)\n",
    "print(data, '\\n')\n",
    "\n",
    "with open(\"sample.txt\", \"w\") as f :\n",
    "    f.write(\"one two three\")\n",
    "data = np.genfromtxt(\"sample.txt\", dtype=str)   # another way\n",
    "print(data)\n",
    "\n",
    "with open(\"sample.txt\", \"w\") as f :\n",
    "    f.write(\"1,2,3\")\n",
    "\n",
    "# read sample.txt into a numpy array with 3 integer elements and print the array?\n",
    "data = np.genfromtxt(\"sample.txt\", dtype=int, delimiter=',')\n",
    "print(data)\n"
   ]
  },
  {
   "cell_type": "markdown",
   "metadata": {},
   "source": [
    "**Array indexing**"
   ]
  },
  {
   "cell_type": "code",
   "execution_count": 12,
   "metadata": {},
   "outputs": [
    {
     "name": "stdout",
     "output_type": "stream",
     "text": [
      "[[ 1  2  3  4]\n",
      " [ 5  6  7  8]\n",
      " [ 9 10 11 12]] \n",
      "\n",
      "[ 9 10 11 12] \n",
      "\n",
      "12 \n",
      "\n",
      "[ 9 10 11 12] \n",
      "\n",
      "7\n"
     ]
    }
   ],
   "source": [
    "# 11. numeric indexing\n",
    "arr = np.array([[1,2,3,4], [5,6,7,8], [9,10,11,12]])\n",
    "print(arr, '\\n')\n",
    "print(arr[2], '\\n')\n",
    "print(arr[2,3], '\\n')\n",
    "print(arr[-1], '\\n')\n",
    "print(arr[-2,-2])"
   ]
  },
  {
   "cell_type": "code",
   "execution_count": 13,
   "metadata": {},
   "outputs": [
    {
     "name": "stdout",
     "output_type": "stream",
     "text": [
      "[[ 1  2  3  4]\n",
      " [ 5  6  7  8]\n",
      " [ 9 10 11 12]] \n",
      "\n",
      "[[1 2 3 4]\n",
      " [5 6 7 8]] \n",
      "\n",
      "[[ 6  7]\n",
      " [10 11]] \n",
      "\n",
      "[ 9 10 11] \n",
      "\n",
      "[[2 3]]\n"
     ]
    }
   ],
   "source": [
    "# 12. slice indexing\n",
    "arr = np.array([[1,2,3,4], [5,6,7,8], [9,10,11,12]])\n",
    "print(arr, '\\n')\n",
    "print(arr[:2], '\\n')\n",
    "print(arr[1:,1:3], '\\n')\n",
    "\n",
    "# we can also mix integer indexing with slice indexing,\n",
    "# however, this will yield an array of lower rank than the original array\n",
    "print(arr[-1,:3], '\\n')    # 1D, lower rank than original arr\n",
    "print(arr[:-2,1:-1])       # 2D, same rank as arr"
   ]
  },
  {
   "cell_type": "code",
   "execution_count": 14,
   "metadata": {},
   "outputs": [
    {
     "name": "stdout",
     "output_type": "stream",
     "text": [
      "[[ 1  2  3  4]\n",
      " [ 5  6  7  8]\n",
      " [ 9 10 11 12]]\n",
      "[[2 3]\n",
      " [6 7]]\n",
      "[[100   3]\n",
      " [  6   7]]\n",
      "[[  1 100   3   4]\n",
      " [  5   6   7   8]\n",
      " [  9  10  11  12]] \n",
      "\n",
      "[[-1  3]\n",
      " [ 6  7]]\n",
      "[[  1 100   3   4]\n",
      " [  5   6   7   8]\n",
      " [  9  10  11  12]]\n"
     ]
    }
   ],
   "source": [
    "# 13. Each time we create a slice of an array we get a view into the same array. \n",
    "# We're not creating a new array, so modifying it will modify the original array.\n",
    "arr = np.array([[1,2,3,4], [5,6,7,8], [9,10,11,12]])\n",
    "print(arr)\n",
    "view = arr[:2,1:3]\n",
    "print(view)\n",
    "view[0,0] = 100\n",
    "print(view)\n",
    "print(arr, '\\n')\n",
    "\n",
    "# to actually make a copy, use the copy() method:  \n",
    "copy = arr[:2,1:3].copy()\n",
    "copy[0,0] = -1\n",
    "print(copy)\n",
    "print(arr)\n",
    "\n",
    "# copying takes up memory so using a view is preferable if:\n",
    "#    a) data is for analysis only (no modification needed)\n",
    "# or b) if data need to be changed but the original array must remain the same"
   ]
  },
  {
   "cell_type": "code",
   "execution_count": 15,
   "metadata": {},
   "outputs": [
    {
     "name": "stdout",
     "output_type": "stream",
     "text": [
      "[ 1 12  3  4  8  5]\n",
      "[1 3 5]\n",
      "[ 1 12  3]\n"
     ]
    }
   ],
   "source": [
    "# 14. index with an array\n",
    "arr = np.array([1,12,3,4,8,5])\n",
    "print(arr)\n",
    "print(arr[[0,2,5]])\n",
    "index = [0,1,2]\n",
    "print(arr[index])"
   ]
  },
  {
   "cell_type": "code",
   "execution_count": 16,
   "metadata": {},
   "outputs": [
    {
     "name": "stdout",
     "output_type": "stream",
     "text": [
      "[[ 1 12  3  4]\n",
      " [15  6  7 10]\n",
      " [ 2 20  8  1]] \n",
      "\n",
      "[1 3 4 6 7 2 8 1] \n",
      "\n",
      "[ 1  3 15  7  1] \n",
      "\n"
     ]
    }
   ],
   "source": [
    "# 15. boolean indexing\n",
    "arr = np.array([[1,12,3,4], [15,6,7,10], [2,20,8,1]])\n",
    "print(arr, '\\n')\n",
    "print(arr[arr<10], '\\n')\n",
    "print(arr[arr%2==1], '\\n')\n",
    "\n",
    "# describe what the last print statement will print for any general array?\n",
    "# print all elements that are odd numbers"
   ]
  },
  {
   "cell_type": "markdown",
   "metadata": {},
   "source": [
    "**Changing array shape**"
   ]
  },
  {
   "cell_type": "code",
   "execution_count": 17,
   "metadata": {},
   "outputs": [
    {
     "name": "stdout",
     "output_type": "stream",
     "text": [
      "[[ 1  2  3  4]\n",
      " [ 5  6  7  8]\n",
      " [ 9 10 11 12]] \n",
      "\n",
      "[[ 1  2]\n",
      " [ 3  4]\n",
      " [ 5  6]\n",
      " [ 7  8]\n",
      " [ 9 10]\n",
      " [11 12]] \n",
      "\n",
      "[ 1  2  3  4  5  6  7  8  9 10 11 12]\n"
     ]
    }
   ],
   "source": [
    "# 16. change the shape of an array, as long as the new shape has the same number of elements\n",
    "arr = np.array([[1,2,3,4], [5,6,7,8], [9,10,11,12]])    # 12 elements\n",
    "newArr1 = arr.reshape((6,2))\n",
    "newArr2 = arr.reshape((12,))\n",
    "print(arr, '\\n')\n",
    "print(newArr1,'\\n')\n",
    "print(newArr2)\n",
    "\n",
    "# will the following will work? why or why not?\n",
    "# newArr3 = arr.reshape((1,))      no, only room for 1 value\n",
    "# newArr4 = arr.reshape((2,5))   no, only room for 10 values"
   ]
  },
  {
   "cell_type": "code",
   "execution_count": 18,
   "metadata": {},
   "outputs": [
    {
     "name": "stdout",
     "output_type": "stream",
     "text": [
      "[[ 1  2  3  4]\n",
      " [ 5  6  7  8]\n",
      " [ 9 10 11 12]]\n",
      "[[ 1  5  9]\n",
      " [ 2  6 10]\n",
      " [ 3  7 11]\n",
      " [ 4  8 12]] \n",
      "\n",
      "[[1 2 3]]\n",
      "[[1]\n",
      " [2]\n",
      " [3]]\n"
     ]
    }
   ],
   "source": [
    "# 17. transpose a 2D array (matrix)\n",
    "arr = np.array([[1,2,3,4], [5,6,7,8], [9,10,11,12]])    \n",
    "print(arr)\n",
    "print(arr.T, '\\n')\n",
    "arr = np.array([[1,2,3]])\n",
    "print(arr)\n",
    "print(arr.T)"
   ]
  },
  {
   "cell_type": "code",
   "execution_count": 19,
   "metadata": {},
   "outputs": [
    {
     "name": "stdout",
     "output_type": "stream",
     "text": [
      "[1 2 3 4 5]\n",
      "[5 4 3 2 1]\n"
     ]
    }
   ],
   "source": [
    "# 18. reverse a 1D array:\n",
    "arr = np.array([1,2,3,4,5])\n",
    "print(arr)\n",
    "print(arr[::-1])"
   ]
  },
  {
   "cell_type": "markdown",
   "metadata": {},
   "source": [
    "**Array math**\n",
    "<br>Take advantage of numpy's ufuncs below and do not loop. Do the reading so you can see the speed difference between unfuncs and loops."
   ]
  },
  {
   "cell_type": "code",
   "execution_count": 20,
   "metadata": {},
   "outputs": [
    {
     "name": "stdout",
     "output_type": "stream",
     "text": [
      "[[ 6.  8.]\n",
      " [10. 12.]]\n",
      "[[ 6.  8.]\n",
      " [10. 12.]]\n"
     ]
    }
   ],
   "source": [
    "# 19. basic math functions operate element-wise on arrays, and are available both as operator overloads \n",
    "# and as functions in the numpy module:\n",
    "\n",
    "x = np.array([[1,2],[3,4]], dtype=np.float)\n",
    "y = np.array([[5,6],[7,8]], dtype=np.float)\n",
    "\n",
    "print(x + y)\n",
    "print(np.add(x, y))"
   ]
  },
  {
   "cell_type": "code",
   "execution_count": 21,
   "metadata": {},
   "outputs": [
    {
     "name": "stdout",
     "output_type": "stream",
     "text": [
      "[[-4. -4.]\n",
      " [-4. -4.]]\n",
      "[[ 5. 12.]\n",
      " [21. 32.]]\n",
      "[[0.2        0.33333333]\n",
      " [0.42857143 0.5       ]]\n",
      "[[0. 0.]\n",
      " [0. 0.]]\n",
      "[[1. 2.]\n",
      " [3. 4.]]\n"
     ]
    }
   ],
   "source": [
    "# 20. other arithmetic operations between 2 arrays\n",
    "print(x - y)\n",
    "print(x * y)\n",
    "print(x / y)\n",
    "print(x // y)\n",
    "print(x % y)"
   ]
  },
  {
   "cell_type": "code",
   "execution_count": 22,
   "metadata": {},
   "outputs": [
    {
     "name": "stdout",
     "output_type": "stream",
     "text": [
      "[[0 1]\n",
      " [2 3]]\n",
      "[[2 4]\n",
      " [6 8]]\n",
      "[[0.33333333 0.66666667]\n",
      " [1.         1.33333333]]\n",
      "[[0 0]\n",
      " [0 1]]\n",
      "[[1 2]\n",
      " [0 1]]\n",
      "[[ 1  4]\n",
      " [ 9 16]]\n"
     ]
    }
   ],
   "source": [
    "# 21. arithmetic operations between an array and a scalar\n",
    "x = np.array([[1,2],[3,4]], dtype=int)\n",
    "print(x - 1)\n",
    "print(x * 2)\n",
    "print(x / 3)\n",
    "print(x // 4)\n",
    "print(x % 3)\n",
    "print(x ** 2)"
   ]
  },
  {
   "cell_type": "code",
   "execution_count": 23,
   "metadata": {},
   "outputs": [
    {
     "name": "stdout",
     "output_type": "stream",
     "text": [
      "[[1.         1.41421356]\n",
      " [1.73205081 2.        ]] \n",
      "\n",
      "[1 2] \n",
      "\n"
     ]
    }
   ],
   "source": [
    "# 22. square root\n",
    "print(np.sqrt(x), '\\n')\n",
    "\n",
    "# absolute value\n",
    "print(np.abs([-1,2]), '\\n')"
   ]
  },
  {
   "cell_type": "markdown",
   "metadata": {},
   "source": [
    "**Aggregate functions:**"
   ]
  },
  {
   "cell_type": "code",
   "execution_count": 22,
   "metadata": {},
   "outputs": [
    {
     "name": "stdout",
     "output_type": "stream",
     "text": [
      "10\n",
      "[4 6]\n",
      "[3 7] \n",
      "\n",
      "1\n",
      "[1 2]\n",
      "[1 3] \n",
      "\n",
      "4\n",
      "[3 4]\n",
      "[2 4] \n",
      "\n"
     ]
    }
   ],
   "source": [
    "# 23. Math\n",
    "#sum\n",
    "arr = np.array([[1,2],[3,4]])\n",
    "print(np.sum(arr))\n",
    "print(np.sum(arr, axis=0))          \n",
    "print(np.sum(arr, axis=1), '\\n')    \n",
    "\n",
    "# axis=0 means columns, axis=1 means rows\n",
    "\n",
    "# min\n",
    "print(arr.min())\n",
    "print(arr.min(0))\n",
    "print(arr.min(1), '\\n')\n",
    "\n",
    "# describe what the 3 statements above print? Don't copy the output, explain what the output is\n",
    "\n",
    "# max\n",
    "print(arr.max())\n",
    "print(arr.max(axis=0))\n",
    "print(arr.max(1), '\\n')"
   ]
  },
  {
   "cell_type": "code",
   "execution_count": 25,
   "metadata": {},
   "outputs": [
    {
     "name": "stdout",
     "output_type": "stream",
     "text": [
      "2.625\n",
      "[4.  1.5 0.  5. ]\n",
      "[1.   4.25] \n",
      "\n",
      "3.4977671449083054\n",
      "[3.  2.5 3.  3. ]\n",
      "[2.54950976 3.56195171] \n",
      "\n",
      "2.5\n",
      "[4.  1.5 0.  5. ]\n",
      "[1.5 5. ] \n",
      "\n",
      "4.75\n",
      "0.5\n"
     ]
    }
   ],
   "source": [
    "# 24. Statistics\n",
    "arr = np.array([[1,4,-3,2], [7,-1,3,8]])\n",
    "\n",
    "# mean: central tendency\n",
    "print(arr.mean())\n",
    "print(arr.mean(axis=0))\n",
    "print(arr.mean(1), '\\n')\n",
    "\n",
    "# variance: spread\n",
    "# standard devision: spread from the mean\n",
    "print(arr.std())\n",
    "print(arr.std(axis=0))\n",
    "print(arr.std(1), '\\n')\n",
    "\n",
    "# median: mid-point\n",
    "print(np.median(arr))\n",
    "print(np.median(arr, axis=0))\n",
    "print(np.median(arr,1), '\\n')\n",
    "\n",
    "# percentile rank: percentage of values that are less than or equal to a given value\n",
    "# percentile: value with a given percentile rank\n",
    "print(np.percentile(arr,75))\n",
    "print(np.percentile(arr,25))"
   ]
  },
  {
   "cell_type": "markdown",
   "metadata": {},
   "source": [
    "**Broadcasting**"
   ]
  },
  {
   "cell_type": "code",
   "execution_count": 26,
   "metadata": {},
   "outputs": [
    {
     "name": "stdout",
     "output_type": "stream",
     "text": [
      "[[3 4 5]\n",
      " [6 7 8]]\n"
     ]
    }
   ],
   "source": [
    "# 25. broadcasting or extending an array happens during computation between 2 arrays of \n",
    "# different sizes, as long as the 2 arrays have specific dimensions that can be matched\n",
    "\n",
    "arr = np.array([[1,2,3], [4,5,6]])\n",
    "print(arr + 2)    # the 2 is broadcasted to:  [ [2,2,2], [2,2,2]]  so it can be added to arr"
   ]
  },
  {
   "cell_type": "code",
   "execution_count": 27,
   "metadata": {},
   "outputs": [
    {
     "name": "stdout",
     "output_type": "stream",
     "text": [
      "(1, 3) (3, 1)\n",
      "[[2 3 4]\n",
      " [3 4 5]\n",
      " [4 5 6]] \n",
      "\n",
      "(3, 1) (2,)\n",
      "[[2 3]\n",
      " [3 4]\n",
      " [4 5]] \n",
      "\n",
      "(1, 3) (2,)\n",
      "[[2 3 4]\n",
      " [3 4 5]] \n",
      "\n",
      "(1, 3) (2, 2)\n",
      "[[[ 2  3  4]\n",
      "  [ 3  4  5]]\n",
      "\n",
      " [[ 0  1  2]\n",
      "  [-1  0  1]]] \n",
      "\n"
     ]
    }
   ],
   "source": [
    "arr1 = np.array([[1,2,3]])\n",
    "arr2 = np.array([[1], [2], [3]])\n",
    "print(arr1.shape, arr2.shape)   # (1,3)  (3,1)\n",
    "print(arr1 + arr2, '\\n')   # [[1,2,3],     [[1,1,1],\n",
    "                           #  [1,2,3],  +   [2,2,2],\n",
    "                           #  [1,2,3]]      [3,3,3]]  \n",
    "\n",
    "arr3 = np.array([1,2])   \n",
    "print(arr2.shape, arr3.shape)   #  (3,1) (2,)\n",
    "print(arr2 + arr3, '\\n')   # [[1,1],     [[1,2],\n",
    "                           #  [2,2],  +   [1,2],\n",
    "                           #  [3,3]]      [1,2]]\n",
    "\n",
    "print(arr1.shape, arr3.shape)   # (1,3)  (2,)\n",
    "print(arr1 + arr3[:,np.newaxis], '\\n')   # shape becomes: (1,3)  (2,1)\n",
    "           # [[1,2,3]]  + [[1],   =>  [[1,2,3],     [[1,1,1],\n",
    "           #               [2]]        [1,2,3]]  +   [2,2,2]]\n",
    "\n",
    "# FYI only: more advanced broadcasting \n",
    "arr4 = np.array([[1,2],[-1,-2]])\n",
    "print(arr1.shape, arr4.shape)   # (1,3)   (2,2)\n",
    "print(arr1[:,np.newaxis,:] + arr4[:,:,np.newaxis], '\\n')\n",
    "#   (1,3)  => (1,1,3)           (2,2) => (2,2,1)\n",
    "# or: print(arr1[...,np.newaxis,:] + arr4[...,np.newaxis])\n"
   ]
  },
  {
   "cell_type": "markdown",
   "metadata": {},
   "source": [
    "**Boolean operations**"
   ]
  },
  {
   "cell_type": "code",
   "execution_count": 20,
   "metadata": {},
   "outputs": [
    {
     "name": "stdout",
     "output_type": "stream",
     "text": [
      "[[ 1  2 -2]\n",
      " [-3  1  0]]\n",
      "---###1---\n",
      "[[False False  True]\n",
      " [ True False False]]\n",
      "---###2---\n",
      "2\n",
      "---###3---\n",
      "[1 0 1] \n",
      "\n",
      "---###4---\n",
      "True\n",
      "False \n",
      "\n",
      "[False False]\n",
      "[False False False]\n"
     ]
    }
   ],
   "source": [
    "# 26. checking data in an array\n",
    "arr = np.array([[1,2,-2],[-3,1,0]])\n",
    "print(arr)\n",
    "print(\"---###1---\")\n",
    "print(arr<0)\n",
    "print(\"---###2---\")\n",
    "print(np.sum(arr<0))\n",
    "print(\"---###3---\")\n",
    "print(np.sum(arr<0,axis=0), '\\n')\n",
    "print(\"---###4---\")\n",
    "# describe the output the last 2 print statements above? \n",
    "# don't just copy the output for your answer.\n",
    "# next to last statement: print number of elements that are less than 0\n",
    "# last statement: print number of elements that are less than 0, for\n",
    "#  each column\n",
    "\n",
    "print(np.any(arr<0))\n",
    "print(np.all(arr<0), '\\n')\n",
    "print(np.all(arr<0,axis=1))\n",
    "print(np.all(arr<0,axis=0))"
   ]
  },
  {
   "cell_type": "markdown",
   "metadata": {},
   "source": [
    "**Sorting**"
   ]
  },
  {
   "cell_type": "code",
   "execution_count": 29,
   "metadata": {},
   "outputs": [
    {
     "name": "stdout",
     "output_type": "stream",
     "text": [
      "[-2 -2 -1  0  2  4  5] \n",
      "\n",
      "[[-1  0  2]\n",
      " [ 1  3  8]\n",
      " [ 0  1  7]] \n",
      "\n",
      "[[ 1  0 -1]\n",
      " [ 2  1  0]\n",
      " [ 7  8  3]] \n",
      "\n",
      "[[-1  0  2]\n",
      " [ 1  3  8]\n",
      " [ 0  1  7]] \n",
      "\n"
     ]
    }
   ],
   "source": [
    "# 27. sort values in the array\n",
    "arr = np.array([5,-2,0,2,-1,-2,4])\n",
    "print(np.sort(arr),'\\n')\n",
    "\n",
    "arr = np.array([[2,0,-1],[1,8,3],[7,1,0]])\n",
    "print(np.sort(arr), '\\n')\n",
    "print(np.sort(arr, axis=0), '\\n')\n",
    "print(np.sort(arr, axis=1), '\\n')\n",
    "\n",
    "# which axis is the default when no axis is specified?   \n",
    "# axis=1, or by row"
   ]
  },
  {
   "cell_type": "markdown",
   "metadata": {},
   "source": [
    "**Get index values**"
   ]
  },
  {
   "cell_type": "code",
   "execution_count": 23,
   "metadata": {},
   "outputs": [
    {
     "name": "stdout",
     "output_type": "stream",
     "text": [
      "[1 5 4 2 3 6 0]\n",
      "[-2 -2 -1  0  2  4  5] \n",
      "\n",
      "[[2 1 0]\n",
      " [0 2 1]\n",
      " [2 1 0]] \n",
      "\n",
      "smallest value of each row: -1 1 0\n",
      "smallest value of each row: [-1  1  0]\n",
      "smallest value of each row: [-1  1  0]\n",
      "smallest value of each row: [-1  1  0]\n",
      "smallest value of each row: [-1, 1, 0]\n"
     ]
    }
   ],
   "source": [
    "# 28. get the index of the sorted values\n",
    "arr = np.array([5,-2,0,2,-1,-2,4])\n",
    "print(np.argsort(arr))\n",
    "ind = np.argsort(arr)\n",
    "# print(ind)\n",
    "print(arr[ind],'\\n')\n",
    "\n",
    "arr = np.array([[2,0,-1],[1,8,3],[7,1,0]])\n",
    "print(np.argsort(arr), '\\n')\n",
    "ind = np.argsort(arr)\n",
    "\n",
    "# print the smallest value of each row by using arr and ind?\n",
    "print(\"smallest value of each row:\", arr[0,ind[0,0]], arr[1,ind[1,0]], arr[2,ind[2,0]])\n",
    "# the answer above is the \"brute force\" approach, typing out each individual index\n",
    "# so that you can see which ones they are.\n",
    "\n",
    "# the following are good answers from the class, which are shorter and preferred:\n",
    "print(\"smallest value of each row:\", arr[np.arange(3),ind[:,0]]) \n",
    "print(\"smallest value of each row:\", arr[[0,1,2],ind[:,0]]) # similar to the one above\n",
    "print(\"smallest value of each row:\", arr[ind == 0])\n",
    "\n",
    "# there are a couple variations of this one, which is a little longer and\n",
    "# doesn't take full advantage of numpy's capability to access array elements\n",
    "print(\"smallest value of each row:\", [arr[i,ind[i,0]] for i in range(arr.shape[0])])"
   ]
  },
  {
   "cell_type": "code",
   "execution_count": 31,
   "metadata": {},
   "outputs": [
    {
     "name": "stdout",
     "output_type": "stream",
     "text": [
      "(array([0, 3, 6, 8], dtype=int64),)\n",
      "positive values: [5 2 4 1]\n"
     ]
    }
   ],
   "source": [
    "# 29. get the indices that match a boolean condition\n",
    "arr = np.array([5,-2,0,2,-1,-2,4, -3,1])\n",
    "print(np.where(arr>0))\n",
    "ind = np.where(arr>0)\n",
    "\n",
    "# print the positive values in arr by using ind?\n",
    "print(\"positive values:\", arr[ind])"
   ]
  },
  {
   "cell_type": "code",
   "execution_count": null,
   "metadata": {},
   "outputs": [],
   "source": []
  }
 ],
 "metadata": {
  "kernelspec": {
   "display_name": "Python 3",
   "language": "python",
   "name": "python3"
  },
  "language_info": {
   "codemirror_mode": {
    "name": "ipython",
    "version": 3
   },
   "file_extension": ".py",
   "mimetype": "text/x-python",
   "name": "python",
   "nbconvert_exporter": "python",
   "pygments_lexer": "ipython3",
   "version": "3.8.5"
  }
 },
 "nbformat": 4,
 "nbformat_minor": 2
}
