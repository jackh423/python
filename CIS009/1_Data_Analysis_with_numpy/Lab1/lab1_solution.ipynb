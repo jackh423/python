{
 "cells": [
  {
   "cell_type": "markdown",
   "metadata": {},
   "source": [
    "Lab 1: Data analysis with numpy"
   ]
  },
  {
   "cell_type": "code",
   "execution_count": 307,
   "metadata": {},
   "outputs": [],
   "source": [
    "# Name: Srinivas Jakkula\n",
    "# CIS D009 Winter\n",
    "# Assignment 1 Solutions"
   ]
  },
  {
   "cell_type": "markdown",
   "metadata": {},
   "source": [
    "Write code to investigate population data of countries of the world.\n",
    "<br>\n",
    "<br>Note:\n",
    "<br>- Do not use pandas for this lab\n",
    "<br>- Take advantage of numpy's functions instead of writing loops to access data\n",
    "<br>If your code doesn't contain any loop to access data in the population numpy array, you earn 1pt EC\n"
   ]
  },
  {
   "cell_type": "markdown",
   "metadata": {},
   "source": [
    "1. From `countryNames.csv` file, read and store all the country names.\n",
    "<br>From `years.txt` file, read and store all the years.\n",
    "<br>Print the number of countries and the number of years, with text explanation\n",
    "<br>\n",
    "<br>Example of print out, including text explanation:\n",
    "<br> Countries: 215\n",
    "<br> Years: 60"
   ]
  },
  {
   "cell_type": "code",
   "execution_count": 306,
   "metadata": {
    "scrolled": false
   },
   "outputs": [
    {
     "name": "stdout",
     "output_type": "stream",
     "text": [
      "Countries: 215\n",
      "Years: 60\n",
      "\n",
      "Countries: 215\n"
     ]
    }
   ],
   "source": [
    "import csv\n",
    "import random\n",
    "import numpy as np\n",
    " \n",
    "data = np.loadtxt(\"countryNames.csv\", delimiter =',', skiprows = 1, usecols=(0,), dtype=\"str\")\n",
    "print(f\"Countries: {len(data)}\")\n",
    "#print(data)\n",
    "\n",
    "data1 = np.loadtxt(\"years.txt\", delimiter=\",\", dtype=\"int\")\n",
    "print(f\"Years: {len(data1)}\")\n",
    "#print(data1)\n",
    "\n",
    "print()\n",
    "# SECOND METHOD to print the count of Countires. \n",
    "# This is just to test that we are getting the correct name of the Countries.\n",
    "# Ex: Line 21 in countryNames.csv file is as below line. In this country name is having comma in the name itself.\n",
    "# Bahamas, The\",BHS,Latin America & Caribbean\n",
    "with open('countryNames.csv') as csv_file:\n",
    "    csv_reader = csv.reader(csv_file, delimiter=',')\n",
    "    next(csv_reader)\n",
    "    d = [name[0] for name in csv_reader]\n",
    "    print(f\"Countries: {len(d)}\")\n",
    "\n"
   ]
  },
  {
   "cell_type": "markdown",
   "metadata": {},
   "source": [
    "2. From `population.csv` file, create a 2D numpy array of the population.\n",
    "<br>Each line of the file corresponds with one country in the `countryNames.csv` file.\n",
    "<br>Each column of the file corresponds with one year in the `years.txt` file.\n",
    "<br>Print the tuple of the number of rows and number of columns of the numpy array to show that the numbers match the number of countries and years above.\n",
    "<br>\n",
    "<br>Since the data values are large (in billions) make sure you use the numpy data type that can store large values"
   ]
  },
  {
   "cell_type": "code",
   "execution_count": 36,
   "metadata": {
    "scrolled": true
   },
   "outputs": [
    {
     "name": "stdout",
     "output_type": "stream",
     "text": [
      "(215, 60)\n"
     ]
    }
   ],
   "source": [
    "with open(\"population.csv\", \"r\") as file:\n",
    "    numpy_array = np.loadtxt(file, delimiter=\",\", dtype=\"uint64\")\n",
    "    print(numpy_array.shape)"
   ]
  },
  {
   "cell_type": "markdown",
   "metadata": {},
   "source": [
    "3. Print the total world population in 1960 (first year) and in 2019 (last year), with text explanation.\n",
    "<br>Then print the population growth (the difference) between 1960 and 2019, with text explanation.\n",
    "<br>To print a large number with commas, use:  `f'{largeNum:,}'`  where largeNum is the large value\n",
    "<br>\n",
    "<br>Example of output with large number and text explanation: 1960 population: 3,014,118,076"
   ]
  },
  {
   "cell_type": "code",
   "execution_count": 49,
   "metadata": {},
   "outputs": [
    {
     "name": "stdout",
     "output_type": "stream",
     "text": [
      "1960 population: 3,014,118,076\n",
      "2019 population: 7,641,703,304\n",
      "Population growth from 1960 to 2019 is: 4,627,585,228\n"
     ]
    }
   ],
   "source": [
    "with open(\"population.csv\", \"r\") as file:\n",
    "    numpy_array = np.loadtxt(file, delimiter=\",\", dtype=\"uint64\")\n",
    "    # print(numpy_array.shape)\n",
    "    column_sums = numpy_array.sum(axis=0)\n",
    "    print(f\"1960 population: {column_sums[0]:,}\")\n",
    "    print(f\"2019 population: {column_sums[-1]:,}\")\n",
    "    print(f\"Population growth from 1960 to 2019 is: {column_sums[-1] - column_sums[0]:,}\")"
   ]
  },
  {
   "cell_type": "markdown",
   "metadata": {},
   "source": [
    "4. Determine in which quartile the 2019 United States population belongs. Print whether it's in the 25, 50, 75, or higher percentile."
   ]
  },
  {
   "cell_type": "code",
   "execution_count": 97,
   "metadata": {},
   "outputs": [
    {
     "name": "stdout",
     "output_type": "stream",
     "text": [
      "772929.0 6777452.0 25515234.0\n",
      "US popuation is higher than 75 percentile\n"
     ]
    }
   ],
   "source": [
    "# Calculating 2019 Popuation\n",
    "numpy_array = np.loadtxt(\"population.csv\", delimiter=\",\", dtype=\"uint64\")\n",
    "pop_in_2019 = numpy_array[:, -1]\n",
    "# print(numpy_array[:, -1])\n",
    "\n",
    "# Calculating Country Names\n",
    "data = np.loadtxt(\"countryNames.csv\", delimiter =',', skiprows = 1, usecols=(0,), dtype=\"str\")\n",
    "\n",
    "# Calculating country wise population for year 2019\n",
    "country_wise_data = np.column_stack((data, pop_in_2019))\n",
    "# print(country_wise_data) \n",
    "\n",
    "# Cal 25, 50 and 75 percentile values\n",
    "per_25 = np.percentile(pop_in_2019, 25)\n",
    "per_50 = np.percentile(pop_in_2019, 50)\n",
    "per_75 = np.percentile(pop_in_2019, 75)\n",
    "print(per_25, per_50, per_75)\n",
    "\n",
    "# Getting US population\n",
    "us_pop = country_wise_data[np.where(country_wise_data[:,0] == \"United States\")].flat[1]\n",
    "\n",
    "# Getting Int value\n",
    "us_pop_int = int(us_pop)\n",
    "\n",
    "#Checking and printing US percentile values\n",
    "if us_pop_int <= per_25:\n",
    "    print(\"US popuation is less than 25 percentile\")\n",
    "elif us_pop_int <=50:\n",
    "    print(\"US popuation is less than 50 percentile\")\n",
    "elif us_pop_int <= 75:\n",
    "    print(\"US popuation is less than 75 percentile\")\n",
    "else:\n",
    "    print(\"US popuation is higher than 75 percentile\")\n",
    "\n",
    "# arr[arr[:, 1].argsort()]"
   ]
  },
  {
   "cell_type": "markdown",
   "metadata": {},
   "source": [
    "5. Print the median population of 2019. Then prove that it's the correct value by printing the number of countries with population below the median, and the number of countries with population above the median."
   ]
  },
  {
   "cell_type": "code",
   "execution_count": 305,
   "metadata": {},
   "outputs": [
    {
     "name": "stdout",
     "output_type": "stream",
     "text": [
      "6777452\n",
      "Number of countires with less than median population: 107\n",
      "Number of countires with more than median population: 107\n"
     ]
    }
   ],
   "source": [
    "with open(\"population.csv\", \"r\") as file:\n",
    "    numpy_array = np.loadtxt(file, delimiter=\",\", dtype=\"uint64\")\n",
    "    #print(numpy_array)\n",
    "    # print(type(numpy_array[:, -1]))\n",
    "    print(f\"{int(np.median(numpy_array[:, -1]))}\")\n",
    "    print(f\"Number of countires with less than median population: {len(numpy_array[:, -1][numpy_array[:, -1]<np.median(numpy_array[:, -1])])}\")\n",
    "    print(f\"Number of countires with more than median population: {len(numpy_array[:, -1][numpy_array[:, -1]>np.median(numpy_array[:, -1])])}\")\n",
    "    "
   ]
  },
  {
   "cell_type": "markdown",
   "metadata": {},
   "source": [
    "6. Find the top 10 countries with the largest population in 2019. Print the country names and population, sorted by highest to lowest population, and formatted as 2 columns.\n",
    "<br>You can use a loop if it's only to print and format the output in 2 columns. The loop won't count toward the 1pt EC of no loops."
   ]
  },
  {
   "cell_type": "code",
   "execution_count": 303,
   "metadata": {},
   "outputs": [
    {
     "name": "stdout",
     "output_type": "stream",
     "text": [
      "United Arab Emirates            9770529             \n",
      "Hungary                         9769949             \n",
      "Seychelles                      97625               \n",
      "Honduras                        9746117             \n",
      "Djibouti                        973560              \n",
      "Antigua and Barbuda             97118               \n",
      "Vietnam                         96462106            \n",
      "Belarus                         9466856             \n",
      "Tajikistan                      9321018             \n",
      "Israel                          9053300             \n",
      "\n",
      "United Arab Emirates           9770529             \n",
      "Hungary                        9769949             \n",
      "Seychelles                     97625               \n",
      "Honduras                       9746117             \n",
      "Djibouti                       973560              \n",
      "Antigua and Barbuda            97118               \n",
      "Vietnam                        96462106            \n",
      "Belarus                        9466856             \n",
      "Tajikistan                     9321018             \n",
      "Israel                         9053300             \n"
     ]
    }
   ],
   "source": [
    "# Calculating 2019 Popuation\n",
    "numpy_array = np.loadtxt(\"population.csv\", delimiter=\",\", dtype=\"uint64\")\n",
    "pop_in_2019 = numpy_array[:, -1]\n",
    "# print(numpy_array[:, -1])\n",
    "\n",
    "# Calculating Country Names\n",
    "data = np.loadtxt(\"countryNames.csv\", delimiter =',', skiprows = 1, usecols=(0,), dtype=\"str\")\n",
    "\n",
    "# Calculating country wise population for year 2019\n",
    "country_wise_data = np.column_stack((data, pop_in_2019))\n",
    "\n",
    "len(country_wise_data[country_wise_data[:, 1].argsort()])\n",
    "# Method 1 is using argsort\n",
    "top10_country_data = country_wise_data[country_wise_data[:, 1].argsort()][::-1][:10,:]\n",
    "# print(top10_country_data)\n",
    "\n",
    "for row in top10_country_data:\n",
    "    print(f\"{row[0]:<30}  {row[1]:20}\")\n",
    "\n",
    "print()\n",
    "# Method 2 is using sorted method\n",
    "top10_country_data_sorted = sorted(country_wise_data, key=lambda row: row[1], reverse=True)[:10]\n",
    "for row in top10_country_data_sorted:\n",
    "    print(f\"{row[0]:<30} {row[1]:20}\")"
   ]
  },
  {
   "cell_type": "markdown",
   "metadata": {},
   "source": [
    "7. A few countries do not have the population data for all years between 1960 and 2019. The missing data is indicated by a 0 in the population count.\n",
    "<br>Print the count of the rows (countries) that have missing data.\n",
    "<br>Print the index of the rows that have missing data."
   ]
  },
  {
   "cell_type": "code",
   "execution_count": 302,
   "metadata": {},
   "outputs": [
    {
     "name": "stdout",
     "output_type": "stream",
     "text": [
      "Count of the rows (countries) that have missing data is:  4\n",
      "\n",
      "Index of the rows that have missing data: \n",
      "[[ 58]\n",
      " [106]\n",
      " [174]\n",
      " [182]]\n"
     ]
    }
   ],
   "source": [
    "numpy_array = np.loadtxt(\"population.csv\", delimiter=\",\", dtype=\"uint64\")\n",
    "indices = np.argwhere(np.any(numpy_array == 0, axis=1))\n",
    "print(f\"Count of the rows (countries) that have missing data is: {len(indices):>2}\")\n",
    "print()\n",
    "print(f\"Index of the rows that have missing data: \\n{indices}\")\n"
   ]
  },
  {
   "cell_type": "markdown",
   "metadata": {},
   "source": [
    "8. Print the country with the smallest population growth between 1960 and 2019,\n",
    "<br>and print the country with the largest population growth between 1960 and 2019.\n",
    "<br>The result should not show countries where the population count is 0 in 2019, resulting in a false smallest growth (a negative value), or where the population count is 0 in 1960, resulting in a false largest growth."
   ]
  },
  {
   "cell_type": "code",
   "execution_count": 274,
   "metadata": {},
   "outputs": [
    {
     "name": "stdout",
     "output_type": "stream",
     "text": [
      "India has larget population growth of 915870075\n",
      "Bulgaria has smallest population growth of -891613\n"
     ]
    }
   ],
   "source": [
    "#Getting the 2019 and 1960 population data\n",
    "numpy_array = np.loadtxt(\"population.csv\", delimiter=\",\", dtype=\"uint64\")\n",
    "pop_in_2019 = numpy_array[:, -1]\n",
    "pop_in_1960 = numpy_array[:, 0]\n",
    "\n",
    "# Getting Country Names\n",
    "data = np.loadtxt(\"countryNames.csv\", delimiter =',', skiprows = 1, usecols=(0,), dtype=\"str\")\n",
    "\n",
    "# Creating a 2D string array with country name, 2019 population and 1960 populatio\n",
    "country_wise_data = np.column_stack((data, pop_in_2019, pop_in_1960 ))\n",
    "# print(len(country_wise_data))\n",
    "\n",
    "# Creating the 2D array with 2019 and 1960 population\n",
    "country_wise_data_new = np.column_stack((pop_in_2019, pop_in_1960 ))\n",
    "\n",
    "# Finding the row indexes if any column is 0 \n",
    "d1 = country_wise_data_new[np.any(country_wise_data_new == 0, axis=1)]\n",
    "rows, cols = np.where(country_wise_data_new == 0)\n",
    "\n",
    "#Deleting the countries who has either 0 population in 1960 or 2019 to satisfy below condition\n",
    "## The result should not show countries where the population count is 0 in 2019, resulting in a false smallest \n",
    "## growth (a negative value), or where the population count is 0 in 1960, resulting in a false largest growth.\n",
    "new_country_wise_data = np.delete(country_wise_data, rows, axis=0)\n",
    "\n",
    "# Sorting the data based on the population growth from 1960 t0 2020\n",
    "sorted_country_po_growth_data = sorted(new_country_wise_data, key=lambda row: int(row[1])-int(row[2]), reverse=True)\n",
    "\n",
    "# print the country with the largest population growth between 1960 and 2019.\n",
    "print(f\"{sorted_country_po_growth_data[0][0]} has larget population growth of {int(sorted_country_po_growth_data[0][1]) - int(sorted_country_po_growth_data[0][2])}\")\n",
    "\n",
    "# Print the country with the smallest population growth between 1960 and 2019\n",
    "# print(sorted_country_po_growth_data[-1])\n",
    "print(f\"{sorted_country_po_growth_data[-1][0]} has smallest population growth of {int(sorted_country_po_growth_data[-1][1]) - int(sorted_country_po_growth_data[-1][2])}\")\n"
   ]
  },
  {
   "cell_type": "code",
   "execution_count": null,
   "metadata": {},
   "outputs": [],
   "source": []
  }
 ],
 "metadata": {
  "kernelspec": {
   "display_name": "Python 3",
   "language": "python",
   "name": "python3"
  },
  "language_info": {
   "codemirror_mode": {
    "name": "ipython",
    "version": 3
   },
   "file_extension": ".py",
   "mimetype": "text/x-python",
   "name": "python",
   "nbconvert_exporter": "python",
   "pygments_lexer": "ipython3",
   "version": "3.8.5"
  }
 },
 "nbformat": 4,
 "nbformat_minor": 4
}
