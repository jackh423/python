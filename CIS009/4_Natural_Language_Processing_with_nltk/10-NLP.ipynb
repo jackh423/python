{
 "cells": [
  {
   "cell_type": "markdown",
   "metadata": {},
   "source": [
    "## CIS 9\n",
    "## Natural Language Processing with NLTK\n",
    "\n"
   ]
  },
  {
   "cell_type": "markdown",
   "metadata": {},
   "source": [
    "Reading\n",
    "<br>Natural Language Processing with Python: Learning to classify text, up to section 1.3"
   ]
  },
  {
   "cell_type": "markdown",
   "metadata": {},
   "source": [
    "_Natural language_ is the language that humans use to communicate with each other. It's the language we use in our conversation or when we read and write texts, as opposed to computer languages.\n",
    "\n",
    "_Natural Language Processing (NLP)_ or _Computational Linguistics_ is a field that uses computers to analyze, understand, and generate natural human language. NLP is used for tasks from counting word frequencies to allowing computers to interpret human commands to translating languages. NLP uses machine learning algorithms to build probabilistic model about a language."
   ]
  },
  {
   "cell_type": "markdown",
   "metadata": {},
   "source": [
    "Import libraries"
   ]
  },
  {
   "cell_type": "code",
   "execution_count": 71,
   "metadata": {},
   "outputs": [],
   "source": [
    "import pandas as pd\n",
    "import matplotlib.pyplot as plt\n",
    "%matplotlib inline\n",
    "import random\n",
    "from sklearn.model_selection import train_test_split\n",
    "from sklearn.naive_bayes import MultinomialNB\n",
    "from sklearn import metrics\n",
    "import nltk"
   ]
  },
  {
   "cell_type": "markdown",
   "metadata": {},
   "source": [
    "### A. Common NLTK tools for pre-processing text\n",
    "<br>Since texts are human readable words while machines only work with numbers, often in NLP we need to transform the text into meaningful numbers and possibly reduce the number of words in the text before we can use machine learning algorithms with the text. This is called pre-processing the text, and it's similar to the step in clasic machine learning where we change a feature description (with words) into a corresponding sequence of numbers, or when we use dimensional reduction to remove the number of irrelevant or duplicate features. "
   ]
  },
  {
   "cell_type": "markdown",
   "metadata": {},
   "source": [
    "1. __Tokenize__: separate the text into words or sentences. A sentence, paragraph, or an entire essay or writing is  made of words that give meaning to the text, so the dataset in NLP is generally the words in the text. A _tokenizer_ makes it simple to separate the text into words.\n",
    "\n",
    "NTLK has many packages and not all available packages are downloaded by default, so we need to download and install the tokenizer the first time we use it. \n",
    "<br>(If you forget to comment out the download line of code after the first time, don't worry, the package manager is smart enough to figure out that you've downloaded it already.)"
   ]
  },
  {
   "cell_type": "code",
   "execution_count": 72,
   "metadata": {},
   "outputs": [],
   "source": [
    "#nltk.download('punkt')     # only need to run this one time to download and install the package"
   ]
  },
  {
   "cell_type": "code",
   "execution_count": 73,
   "metadata": {},
   "outputs": [],
   "source": [
    "# Sample line of text from python.org\n",
    "s = '''Python is a programming language that lets you work quickly and integrate systems more effectively.\n",
    "It's a programmer friendly language.'''  # adding a second line of text"
   ]
  },
  {
   "cell_type": "code",
   "execution_count": 98,
   "metadata": {},
   "outputs": [
    {
     "name": "stdout",
     "output_type": "stream",
     "text": [
      "['Python', 'is', 'a', 'programming', 'language', 'that', 'lets', 'you', 'work', 'quickly', 'and', 'integrate', 'systems', 'more', 'effectively', '.', 'It', \"'s\", 'a', '1', 'programmer', 'friendly', 'language', '.']\n"
     ]
    }
   ],
   "source": [
    "from nltk.tokenize import word_tokenize   # separate text into words\n",
    "\n",
    "words = word_tokenize(s)\n",
    "print(words)\n",
    "\n",
    "# a. How does this compare with Python string split() method?"
   ]
  },
  {
   "cell_type": "code",
   "execution_count": 99,
   "metadata": {},
   "outputs": [
    {
     "name": "stdout",
     "output_type": "stream",
     "text": [
      "['Python', 'is', 'a', 'programming', 'language', 'that', 'lets', 'you', 'work', 'quickly', 'and', 'integrate', 'systems', 'more', 'effectively', 'It', 's', 'a', '1', 'programmer', 'friendly', 'language']\n"
     ]
    }
   ],
   "source": [
    "from nltk.tokenize import RegexpTokenizer\n",
    "\n",
    "tokenizer = RegexpTokenizer('\\w+')\n",
    "only_words = tokenizer.tokenize(s)\n",
    "print(only_words)\n",
    "\n",
    "# b. How is this list of words diferent from the previous list?"
   ]
  },
  {
   "cell_type": "markdown",
   "metadata": {},
   "source": [
    "2. __Frequency distribution__: count of occurrences of words. Sometimes looking at the words that are most common in the text can give us some general idea about the text: is it casual or formal, what could be the main topics, etc."
   ]
  },
  {
   "cell_type": "code",
   "execution_count": 76,
   "metadata": {},
   "outputs": [
    {
     "name": "stdout",
     "output_type": "stream",
     "text": [
      "Python:1\n",
      "is:1\n",
      "a:2\n",
      "programming:1\n",
      "language:2\n",
      "that:1\n",
      "lets:1\n",
      "you:1\n",
      "work:1\n",
      "quickly:1\n",
      "and:1\n",
      "integrate:1\n",
      "systems:1\n",
      "more:1\n",
      "effectively:1\n",
      "It:1\n",
      "s:1\n",
      "programmer:1\n",
      "friendly:1\n",
      "19\n"
     ]
    }
   ],
   "source": [
    "freqD = nltk.FreqDist(only_words)\n",
    "for key,val in freqD.items():\n",
    "    print(str(key) + ':' + str(val))\n",
    "print(len(freqD))\n",
    "\n",
    "# We know enough Python to easily write the code for FreqDist, but it's nice to just call it"
   ]
  },
  {
   "cell_type": "code",
   "execution_count": 77,
   "metadata": {},
   "outputs": [
    {
     "data": {
      "image/png": "[encoded data removed]",
      "text/plain": [
       "<Figure size 432x288 with 1 Axes>"
      ]
     },
     "metadata": {
      "needs_background": "light"
     },
     "output_type": "display_data"
    },
    {
     "data": {
      "text/plain": [
       "<AxesSubplot:xlabel='Samples', ylabel='Counts'>"
      ]
     },
     "execution_count": 77,
     "metadata": {},
     "output_type": "execute_result"
    }
   ],
   "source": [
    "freqD.plot(20)    \n",
    "\n",
    "# What happens when the input argument is 10?"
   ]
  },
  {
   "cell_type": "markdown",
   "metadata": {},
   "source": [
    "3. __Stop words__: words that appear often in the text but don't necessarily help us find the meaning of the text. Example stop words are 'an', 'the', 'to', 'that'.\n",
    "<br>Sometimes it's useful to remove the stop words because it can reduce the size of the datasets, making it faster to train the algorithm. But sometimes it's a bad idea to remove stop words if they actually have meaning in the text. For classification problems it's generally fine to remove the stop words.\n",
    "<br>The list of stop words are different for different NLP tools, NLTK has different stop words than other tools."
   ]
  },
  {
   "cell_type": "markdown",
   "metadata": {},
   "source": [
    "We need to download and install the NLTK package for stopwords"
   ]
  },
  {
   "cell_type": "code",
   "execution_count": 78,
   "metadata": {},
   "outputs": [],
   "source": [
    "# nltk.download('stopwords')      # only need to run this one time to download and install the package"
   ]
  },
  {
   "cell_type": "code",
   "execution_count": 79,
   "metadata": {},
   "outputs": [
    {
     "name": "stdout",
     "output_type": "stream",
     "text": [
      "{'been', \"she's\", 'himself', 'does', 'there', 'by', 'under', 'than', \"that'll\", 'didn', 'of', 'only', \"it's\", 'off', 'shouldn', 'yourself', \"hasn't\", 'my', 'because', 'very', \"couldn't\", 'wouldn', 'further', 'yourselves', 'we', 'all', 'it', 'had', 'when', \"didn't\", 'was', 'myself', 'themselves', 'won', 'his', 'him', 'be', 'hers', 'for', 'her', 'yours', \"mustn't\", 'into', 'this', 'its', 'll', 'needn', 'through', 'such', 'no', \"wasn't\", 'which', \"you've\", 'in', 'and', 'who', \"shan't\", 'she', 'mustn', 'has', 'weren', 'aren', 'to', 'but', 'between', 'that', 'itself', 'now', 'other', 'i', 'doesn', 'herself', 'couldn', 'will', 'at', \"aren't\", 'isn', \"you're\", 'have', 'your', 'do', 'until', 'm', 've', 'am', 'you', 'against', 'those', 'above', 'theirs', 'any', 'what', 'from', 'before', 'the', 'these', 'too', 'hadn', 'ain', 'same', 'how', \"isn't\", 're', \"haven't\", 'ours', 'so', 'should', \"needn't\", \"should've\", 'where', 's', \"won't\", 'after', 'o', 'just', 'he', 'a', 'on', 'more', 't', 'or', 'over', 'were', \"don't\", 'me', 'them', 'while', 'having', 'again', 'during', 'down', 'up', 'd', 'here', 'once', 'most', 'why', 'an', 'about', \"you'd\", 'did', 'as', 'y', 'mightn', \"weren't\", \"mightn't\", 'both', 'are', 'whom', 'being', 'some', 'own', 'is', 'can', 'then', 'each', 'their', \"hadn't\", 'our', 'with', 'out', 'wasn', 'nor', 'if', \"shouldn't\", \"wouldn't\", 'few', 'hasn', 'not', 'below', \"you'll\", 'ma', 'haven', 'doing', 'don', 'they', 'shan', 'ourselves', \"doesn't\"}\n"
     ]
    }
   ],
   "source": [
    "from nltk.corpus import stopwords\n",
    "stop_words=set(stopwords.words(\"english\"))\n",
    "print(stop_words)"
   ]
  },
  {
   "cell_type": "code",
   "execution_count": 80,
   "metadata": {},
   "outputs": [
    {
     "name": "stdout",
     "output_type": "stream",
     "text": [
      "Words: ['Python', 'is', 'a', 'programming', 'language', 'that', 'lets', 'you', 'work', 'quickly', 'and', 'integrate', 'systems', 'more', 'effectively', 'It', 's', 'a', 'programmer', 'friendly', 'language']\n",
      "\n",
      "Without stop words: ['Python', 'programming', 'language', 'lets', 'work', 'quickly', 'integrate', 'systems', 'effectively', 'It', 'programmer', 'friendly', 'language']\n"
     ]
    }
   ],
   "source": [
    "# Create a list of words from only_words above, but with no stop words\n",
    "noStopWords = [word for word in only_words if word not in stop_words ]\n",
    "print(\"Words:\",only_words)\n",
    "print()\n",
    "print(\"Without stop words:\", noStopWords)"
   ]
  },
  {
   "cell_type": "markdown",
   "metadata": {},
   "source": [
    "4. __Stemming__: removing parts of a word to get to its _stem_ or root. This can be useful to reduce the number of words we need to analyze. For example: 'talk', 'talking', 'talked', 'talks' all have the same stem 'talk' and perhaps can be grouped together. That way they are only counted once, or that way we can count their frequency as a group."
   ]
  },
  {
   "cell_type": "code",
   "execution_count": 81,
   "metadata": {},
   "outputs": [
    {
     "name": "stdout",
     "output_type": "stream",
     "text": [
      "Words ['Python', 'is', 'a', 'programming', 'language', 'that', 'lets', 'you', 'work', 'quickly', 'and', 'integrate', 'systems', 'more', 'effectively', 'It', 's', 'a', 'programmer', 'friendly', 'language']\n",
      "\n",
      "Stems: ['python', 'is', 'a', 'program', 'languag', 'that', 'let', 'you', 'work', 'quickli', 'and', 'integr', 'system', 'more', 'effect', 'It', 's', 'a', 'programm', 'friendli', 'languag']\n"
     ]
    }
   ],
   "source": [
    "from nltk.stem import PorterStemmer\n",
    "\n",
    "stemmer = PorterStemmer()\n",
    "stemmed=[stemmer.stem(w) for w in only_words]\n",
    "print(\"Words\",only_words)\n",
    "print()\n",
    "print(\"Stems:\",stemmed)"
   ]
  },
  {
   "cell_type": "markdown",
   "metadata": {},
   "source": [
    "5. __Part of speech (POS) tagging__: find the part of speech for each word. Sometime it's important to identify the part of speech of a word because it can make a difference in the meaning of a word. For example, 'drive' can be a verb in 'They drive fast', or 'drive' can be a noun in 'The drive was long and hot'."
   ]
  },
  {
   "cell_type": "markdown",
   "metadata": {},
   "source": [
    "We need to download and install the NLTK package for tagging POS"
   ]
  },
  {
   "cell_type": "code",
   "execution_count": 82,
   "metadata": {},
   "outputs": [],
   "source": [
    "#nltk.download('averaged_perceptron_tagger')    # only need to run this one time to download and install the package\n",
    "# The name perceptron hints at the fact that the tagger is done with a neural network. More on this later."
   ]
  },
  {
   "cell_type": "code",
   "execution_count": 83,
   "metadata": {},
   "outputs": [
    {
     "ename": "LookupError",
     "evalue": "\n**********************************************************************\n  Resource \u001b[93maveraged_perceptron_tagger\u001b[0m not found.\n  Please use the NLTK Downloader to obtain the resource:\n\n  \u001b[31m>>> import nltk\n  >>> nltk.download('averaged_perceptron_tagger')\n  \u001b[0m\n  For more information see: https://www.nltk.org/data.html\n\n  Attempted to load \u001b[93mtaggers/averaged_perceptron_tagger/averaged_perceptron_tagger.pickle\u001b[0m\n\n  Searched in:\n    - '/Users/jakkus/nltk_data'\n    - '/opt/anaconda3/nltk_data'\n    - '/opt/anaconda3/share/nltk_data'\n    - '/opt/anaconda3/lib/nltk_data'\n    - '/usr/share/nltk_data'\n    - '/usr/local/share/nltk_data'\n    - '/usr/lib/nltk_data'\n    - '/usr/local/lib/nltk_data'\n**********************************************************************\n",
     "output_type": "error",
     "traceback": [
      "\u001b[0;31m---------------------------------------------------------------------------\u001b[0m",
      "\u001b[0;31mLookupError\u001b[0m                               Traceback (most recent call last)",
      "\u001b[0;32m<ipython-input-83-a877bc70aaa5>\u001b[0m in \u001b[0;36m<module>\u001b[0;34m\u001b[0m\n\u001b[0;32m----> 1\u001b[0;31m \u001b[0mwordTags\u001b[0m \u001b[0;34m=\u001b[0m \u001b[0mnltk\u001b[0m\u001b[0;34m.\u001b[0m\u001b[0mpos_tag\u001b[0m\u001b[0;34m(\u001b[0m\u001b[0monly_words\u001b[0m\u001b[0;34m)\u001b[0m\u001b[0;34m\u001b[0m\u001b[0;34m\u001b[0m\u001b[0m\n\u001b[0m\u001b[1;32m      2\u001b[0m \u001b[0mprint\u001b[0m\u001b[0;34m(\u001b[0m\u001b[0mwordTags\u001b[0m\u001b[0;34m)\u001b[0m\u001b[0;34m\u001b[0m\u001b[0;34m\u001b[0m\u001b[0m\n",
      "\u001b[0;32m/opt/anaconda3/lib/python3.8/site-packages/nltk/tag/__init__.py\u001b[0m in \u001b[0;36mpos_tag\u001b[0;34m(tokens, tagset, lang)\u001b[0m\n\u001b[1;32m    158\u001b[0m     \u001b[0;34m:\u001b[0m\u001b[0mrtype\u001b[0m\u001b[0;34m:\u001b[0m \u001b[0mlist\u001b[0m\u001b[0;34m(\u001b[0m\u001b[0mtuple\u001b[0m\u001b[0;34m(\u001b[0m\u001b[0mstr\u001b[0m\u001b[0;34m,\u001b[0m \u001b[0mstr\u001b[0m\u001b[0;34m)\u001b[0m\u001b[0;34m)\u001b[0m\u001b[0;34m\u001b[0m\u001b[0;34m\u001b[0m\u001b[0m\n\u001b[1;32m    159\u001b[0m     \"\"\"\n\u001b[0;32m--> 160\u001b[0;31m     \u001b[0mtagger\u001b[0m \u001b[0;34m=\u001b[0m \u001b[0m_get_tagger\u001b[0m\u001b[0;34m(\u001b[0m\u001b[0mlang\u001b[0m\u001b[0;34m)\u001b[0m\u001b[0;34m\u001b[0m\u001b[0;34m\u001b[0m\u001b[0m\n\u001b[0m\u001b[1;32m    161\u001b[0m     \u001b[0;32mreturn\u001b[0m \u001b[0m_pos_tag\u001b[0m\u001b[0;34m(\u001b[0m\u001b[0mtokens\u001b[0m\u001b[0;34m,\u001b[0m \u001b[0mtagset\u001b[0m\u001b[0;34m,\u001b[0m \u001b[0mtagger\u001b[0m\u001b[0;34m,\u001b[0m \u001b[0mlang\u001b[0m\u001b[0;34m)\u001b[0m\u001b[0;34m\u001b[0m\u001b[0;34m\u001b[0m\u001b[0m\n\u001b[1;32m    162\u001b[0m \u001b[0;34m\u001b[0m\u001b[0m\n",
      "\u001b[0;32m/opt/anaconda3/lib/python3.8/site-packages/nltk/tag/__init__.py\u001b[0m in \u001b[0;36m_get_tagger\u001b[0;34m(lang)\u001b[0m\n\u001b[1;32m    104\u001b[0m         \u001b[0mtagger\u001b[0m\u001b[0;34m.\u001b[0m\u001b[0mload\u001b[0m\u001b[0;34m(\u001b[0m\u001b[0map_russian_model_loc\u001b[0m\u001b[0;34m)\u001b[0m\u001b[0;34m\u001b[0m\u001b[0;34m\u001b[0m\u001b[0m\n\u001b[1;32m    105\u001b[0m     \u001b[0;32melse\u001b[0m\u001b[0;34m:\u001b[0m\u001b[0;34m\u001b[0m\u001b[0;34m\u001b[0m\u001b[0m\n\u001b[0;32m--> 106\u001b[0;31m         \u001b[0mtagger\u001b[0m \u001b[0;34m=\u001b[0m \u001b[0mPerceptronTagger\u001b[0m\u001b[0;34m(\u001b[0m\u001b[0;34m)\u001b[0m\u001b[0;34m\u001b[0m\u001b[0;34m\u001b[0m\u001b[0m\n\u001b[0m\u001b[1;32m    107\u001b[0m     \u001b[0;32mreturn\u001b[0m \u001b[0mtagger\u001b[0m\u001b[0;34m\u001b[0m\u001b[0;34m\u001b[0m\u001b[0m\n\u001b[1;32m    108\u001b[0m \u001b[0;34m\u001b[0m\u001b[0m\n",
      "\u001b[0;32m/opt/anaconda3/lib/python3.8/site-packages/nltk/tag/perceptron.py\u001b[0m in \u001b[0;36m__init__\u001b[0;34m(self, load)\u001b[0m\n\u001b[1;32m    166\u001b[0m         \u001b[0;32mif\u001b[0m \u001b[0mload\u001b[0m\u001b[0;34m:\u001b[0m\u001b[0;34m\u001b[0m\u001b[0;34m\u001b[0m\u001b[0m\n\u001b[1;32m    167\u001b[0m             AP_MODEL_LOC = \"file:\" + str(\n\u001b[0;32m--> 168\u001b[0;31m                 \u001b[0mfind\u001b[0m\u001b[0;34m(\u001b[0m\u001b[0;34m\"taggers/averaged_perceptron_tagger/\"\u001b[0m \u001b[0;34m+\u001b[0m \u001b[0mPICKLE\u001b[0m\u001b[0;34m)\u001b[0m\u001b[0;34m\u001b[0m\u001b[0;34m\u001b[0m\u001b[0m\n\u001b[0m\u001b[1;32m    169\u001b[0m             )\n\u001b[1;32m    170\u001b[0m             \u001b[0mself\u001b[0m\u001b[0;34m.\u001b[0m\u001b[0mload\u001b[0m\u001b[0;34m(\u001b[0m\u001b[0mAP_MODEL_LOC\u001b[0m\u001b[0;34m)\u001b[0m\u001b[0;34m\u001b[0m\u001b[0;34m\u001b[0m\u001b[0m\n",
      "\u001b[0;32m/opt/anaconda3/lib/python3.8/site-packages/nltk/data.py\u001b[0m in \u001b[0;36mfind\u001b[0;34m(resource_name, paths)\u001b[0m\n\u001b[1;32m    583\u001b[0m     \u001b[0msep\u001b[0m \u001b[0;34m=\u001b[0m \u001b[0;34m\"*\"\u001b[0m \u001b[0;34m*\u001b[0m \u001b[0;36m70\u001b[0m\u001b[0;34m\u001b[0m\u001b[0;34m\u001b[0m\u001b[0m\n\u001b[1;32m    584\u001b[0m     \u001b[0mresource_not_found\u001b[0m \u001b[0;34m=\u001b[0m \u001b[0;34m\"\\n%s\\n%s\\n%s\\n\"\u001b[0m \u001b[0;34m%\u001b[0m \u001b[0;34m(\u001b[0m\u001b[0msep\u001b[0m\u001b[0;34m,\u001b[0m \u001b[0mmsg\u001b[0m\u001b[0;34m,\u001b[0m \u001b[0msep\u001b[0m\u001b[0;34m)\u001b[0m\u001b[0;34m\u001b[0m\u001b[0;34m\u001b[0m\u001b[0m\n\u001b[0;32m--> 585\u001b[0;31m     \u001b[0;32mraise\u001b[0m \u001b[0mLookupError\u001b[0m\u001b[0;34m(\u001b[0m\u001b[0mresource_not_found\u001b[0m\u001b[0;34m)\u001b[0m\u001b[0;34m\u001b[0m\u001b[0;34m\u001b[0m\u001b[0m\n\u001b[0m\u001b[1;32m    586\u001b[0m \u001b[0;34m\u001b[0m\u001b[0m\n\u001b[1;32m    587\u001b[0m \u001b[0;34m\u001b[0m\u001b[0m\n",
      "\u001b[0;31mLookupError\u001b[0m: \n**********************************************************************\n  Resource \u001b[93maveraged_perceptron_tagger\u001b[0m not found.\n  Please use the NLTK Downloader to obtain the resource:\n\n  \u001b[31m>>> import nltk\n  >>> nltk.download('averaged_perceptron_tagger')\n  \u001b[0m\n  For more information see: https://www.nltk.org/data.html\n\n  Attempted to load \u001b[93mtaggers/averaged_perceptron_tagger/averaged_perceptron_tagger.pickle\u001b[0m\n\n  Searched in:\n    - '/Users/jakkus/nltk_data'\n    - '/opt/anaconda3/nltk_data'\n    - '/opt/anaconda3/share/nltk_data'\n    - '/opt/anaconda3/lib/nltk_data'\n    - '/usr/share/nltk_data'\n    - '/usr/local/share/nltk_data'\n    - '/usr/lib/nltk_data'\n    - '/usr/local/lib/nltk_data'\n**********************************************************************\n"
     ]
    }
   ],
   "source": [
    "wordTags = nltk.pos_tag(only_words)   \n",
    "print(wordTags)"
   ]
  },
  {
   "cell_type": "markdown",
   "metadata": {},
   "source": [
    "The list of tags and their meanings are [here](https://www.ling.upenn.edu/courses/Fall_2003/ling001/penn_treebank_pos.html)"
   ]
  },
  {
   "cell_type": "code",
   "execution_count": null,
   "metadata": {},
   "outputs": [],
   "source": [
    "# From wordTags above, find all the verbs\n"
   ]
  },
  {
   "cell_type": "markdown",
   "metadata": {},
   "source": [
    "### B. Text classification"
   ]
  },
  {
   "cell_type": "markdown",
   "metadata": {},
   "source": [
    "We first explore NLTK's own machine learning algorithm, the Naive Bayes model, for text classification. Naive Bayes is one of the most common algorithm to use with text because it can be fairly accurate with the prediction without needing a large dataset. It was initially introduced for text classification tasks and is still used as a benchmark."
   ]
  },
  {
   "cell_type": "markdown",
   "metadata": {},
   "source": [
    "__Predicting names__\n",
    "<br>We start with a simple learning algorithm that works with a list of people's first names and genders, then we train the algorithm to predict the gender of a person, given the person's name. In this simple case the names are one-word features and capitalized correctly, so we don't need to do any pre-processing of data. We don't need to:\n",
    "- make the name case insensitive by converting them to lowercase\n",
    "- tokenize the names since they are already single words\n",
    "- the names are proper nouns so no need to remove stop words or reduce them to stems or determine the part of speech\n",
    "\n",
    "In the English language, male first names and female first names tend to have different endings or different last letters. Names ending in a, e and i are likely to be female, while names ending in k, o, r, s and t are likely to be male. We will build a classifier to check the accuracy of predicting whether a name is male or female based on the last letter of the name."
   ]
  },
  {
   "cell_type": "markdown",
   "metadata": {},
   "source": [
    "6. Download and install the names library from NLTK "
   ]
  },
  {
   "cell_type": "code",
   "execution_count": null,
   "metadata": {},
   "outputs": [],
   "source": [
    "#nltk.download('names')    # (only need to run this one time to download and install"
   ]
  },
  {
   "cell_type": "markdown",
   "metadata": {},
   "source": [
    "7. Get a list of male and female names from the NLTK library, assign labels to them, and randomize the order"
   ]
  },
  {
   "cell_type": "code",
   "execution_count": null,
   "metadata": {},
   "outputs": [],
   "source": [
    "from nltk.corpus import names\n",
    " \n",
    "names = ([(name, 'male') for name in names.words('male.txt')] +\n",
    "         [(name, 'female') for name in names.words('female.txt')])\n",
    "print(len(names))\n",
    "print(names[:2], names[-2:])   # alphabetical order\n",
    "random.shuffle(names)          # random order\n",
    "print(names[:2], names[-2:])"
   ]
  },
  {
   "cell_type": "markdown",
   "metadata": {},
   "source": [
    "8. The ntlk Naive Bayes model is trained with a _feature set_, which is a list of tuples, where each tuple is the input feature and corresponding output label.\n",
    "<br>An input feature is a dictionary where the key is a short text description, and the value is a single boolean or integer (character). The labels can be text strings."
   ]
  },
  {
   "cell_type": "code",
   "execution_count": null,
   "metadata": {},
   "outputs": [],
   "source": [
    "def getFeature(word): \n",
    "    return {'lett': word[-1]}  # use last letter as feature\n",
    "\n",
    "# Using the function getFeature above, create the list which is the feature set.\n",
    "# The feature set is descrived in the previous cell\n"
   ]
  },
  {
   "cell_type": "markdown",
   "metadata": {},
   "source": [
    "9. Split the dataset into a training and testing set, then use the training set to train the classifer"
   ]
  },
  {
   "cell_type": "code",
   "execution_count": null,
   "metadata": {},
   "outputs": [],
   "source": [
    "from nltk.classify import NaiveBayesClassifier\n",
    "\n",
    "train_set, test_set = train_test_split(featureSet,test_size=0.2)\n",
    "print(len(train_set), len(test_set))\n",
    "classifier = nltk.NaiveBayesClassifier.train(train_set)"
   ]
  },
  {
   "cell_type": "markdown",
   "metadata": {},
   "source": [
    "10. Check the classifier accuracy"
   ]
  },
  {
   "cell_type": "code",
   "execution_count": null,
   "metadata": {},
   "outputs": [],
   "source": [
    "nltk.classify.accuracy(classifier, test_set)"
   ]
  },
  {
   "cell_type": "code",
   "execution_count": null,
   "metadata": {},
   "outputs": [],
   "source": [
    "classifier.show_most_informative_features(10)"
   ]
  },
  {
   "cell_type": "markdown",
   "metadata": {},
   "source": [
    "__Bag of Words model__\n",
    "<br>In this next example we work with a larger problem where we train a model to predict whether SMS messages are spam or not. Even though SMS messages are generally short, they are sentences with multiple words. This means the dataset is large and will need to be pre-processed before they are converted to numbers to work with a ML model.\n",
    "\n",
    "A bag of words model is the simplest way to analyze data. It reduces the text to a container of words, without considering the order of the words or how the words are put together in a sentence (such as, is it part of a question or a statement or an exclamation). Only the number of occurrences or frequency of each word is counted.\n",
    "\n",
    "Bag of words model is useful in classification to determine whether the text is a particular type of text."
   ]
  },
  {
   "cell_type": "markdown",
   "metadata": {},
   "source": [
    "11. Just like \"Hello world\" is the intro to programming, and \"Ice cream sales\" is the intro to machine learning, \"Ham vs. spam\" is the intro to NLP.\n",
    "<br>We will try to classify whether an SMS is spam or ham (not spam). We use the input file _spam_short.csv_ from [source](https://www.kaggle.com/uciml/sms-spam-collection-dataset) that has been shortened to the first 1000 entries."
   ]
  },
  {
   "cell_type": "code",
   "execution_count": 86,
   "metadata": {},
   "outputs": [
    {
     "data": {
      "text/html": [
       "<div>\n",
       "<style scoped>\n",
       "    .dataframe tbody tr th:only-of-type {\n",
       "        vertical-align: middle;\n",
       "    }\n",
       "\n",
       "    .dataframe tbody tr th {\n",
       "        vertical-align: top;\n",
       "    }\n",
       "\n",
       "    .dataframe thead th {\n",
       "        text-align: right;\n",
       "    }\n",
       "</style>\n",
       "<table border=\"1\" class=\"dataframe\">\n",
       "  <thead>\n",
       "    <tr style=\"text-align: right;\">\n",
       "      <th></th>\n",
       "      <th>v1</th>\n",
       "      <th>v2</th>\n",
       "      <th>Unnamed: 2</th>\n",
       "      <th>Unnamed: 3</th>\n",
       "      <th>Unnamed: 4</th>\n",
       "    </tr>\n",
       "  </thead>\n",
       "  <tbody>\n",
       "    <tr>\n",
       "      <th>0</th>\n",
       "      <td>ham</td>\n",
       "      <td>Go until jurong point, crazy.. Available only ...</td>\n",
       "      <td>NaN</td>\n",
       "      <td>NaN</td>\n",
       "      <td>NaN</td>\n",
       "    </tr>\n",
       "    <tr>\n",
       "      <th>1</th>\n",
       "      <td>ham</td>\n",
       "      <td>Ok lar... Joking wif u oni...</td>\n",
       "      <td>NaN</td>\n",
       "      <td>NaN</td>\n",
       "      <td>NaN</td>\n",
       "    </tr>\n",
       "    <tr>\n",
       "      <th>2</th>\n",
       "      <td>spam</td>\n",
       "      <td>Free entry in 2 a wkly comp to win FA Cup fina...</td>\n",
       "      <td>NaN</td>\n",
       "      <td>NaN</td>\n",
       "      <td>NaN</td>\n",
       "    </tr>\n",
       "    <tr>\n",
       "      <th>3</th>\n",
       "      <td>ham</td>\n",
       "      <td>U dun say so early hor... U c already then say...</td>\n",
       "      <td>NaN</td>\n",
       "      <td>NaN</td>\n",
       "      <td>NaN</td>\n",
       "    </tr>\n",
       "    <tr>\n",
       "      <th>4</th>\n",
       "      <td>ham</td>\n",
       "      <td>Nah I don't think he goes to usf, he lives aro...</td>\n",
       "      <td>NaN</td>\n",
       "      <td>NaN</td>\n",
       "      <td>NaN</td>\n",
       "    </tr>\n",
       "  </tbody>\n",
       "</table>\n",
       "</div>"
      ],
      "text/plain": [
       "     v1                                                 v2 Unnamed: 2  \\\n",
       "0   ham  Go until jurong point, crazy.. Available only ...        NaN   \n",
       "1   ham                      Ok lar... Joking wif u oni...        NaN   \n",
       "2  spam  Free entry in 2 a wkly comp to win FA Cup fina...        NaN   \n",
       "3   ham  U dun say so early hor... U c already then say...        NaN   \n",
       "4   ham  Nah I don't think he goes to usf, he lives aro...        NaN   \n",
       "\n",
       "  Unnamed: 3 Unnamed: 4  \n",
       "0        NaN        NaN  \n",
       "1        NaN        NaN  \n",
       "2        NaN        NaN  \n",
       "3        NaN        NaN  \n",
       "4        NaN        NaN  "
      ]
     },
     "execution_count": 86,
     "metadata": {},
     "output_type": "execute_result"
    }
   ],
   "source": [
    "inputData = pd.read_csv('spam_short.csv', encoding='ISO-8859-1')   # Unicode characters\n",
    "inputData.head()"
   ]
  },
  {
   "cell_type": "markdown",
   "metadata": {},
   "source": [
    "12. Remove the extra columns with NaN and change the column labels from 'v1' and 'v2' to 'label' and 'text'.\n",
    "<br>Print the DataFrame"
   ]
  },
  {
   "cell_type": "code",
   "execution_count": 87,
   "metadata": {},
   "outputs": [
    {
     "name": "stdout",
     "output_type": "stream",
     "text": [
      "    label                                               text\n",
      "0     ham  Go until jurong point, crazy.. Available only ...\n",
      "1     ham                      Ok lar... Joking wif u oni...\n",
      "2    spam  Free entry in 2 a wkly comp to win FA Cup fina...\n",
      "3     ham  U dun say so early hor... U c already then say...\n",
      "4     ham  Nah I don't think he goes to usf, he lives aro...\n",
      "..    ...                                                ...\n",
      "994   ham                  I can't, I don't have her number!\n",
      "995   ham    Change again... It's e one next to escalator...\n",
      "996   ham  Yetunde i'm in class can you not run water on ...\n",
      "997   ham  Not a lot has happened here. Feels very quiet....\n",
      "998   ham  Then Ì_ wait 4 me at bus stop aft ur lect lar....\n",
      "\n",
      "[999 rows x 2 columns]\n"
     ]
    },
    {
     "data": {
      "text/plain": [
       "(999, 2)"
      ]
     },
     "execution_count": 87,
     "metadata": {},
     "output_type": "execute_result"
    }
   ],
   "source": [
    "inputData.drop(columns=[\"Unnamed: 2\", \"Unnamed: 3\", \"Unnamed: 4\"], inplace=True)\n",
    "inputData.rename(columns = {\"v1\": \"label\", \"v2\": \"text\"}, inplace=True)\n",
    "print(inputData)\n",
    "inputData.shape"
   ]
  },
  {
   "cell_type": "markdown",
   "metadata": {},
   "source": [
    "13. Create the y labels from the 'label' column and convert 'ham' to 0 and 'spam' to 1\n",
    "<br>Show the size of y and the first few lines of y."
   ]
  },
  {
   "cell_type": "code",
   "execution_count": 88,
   "metadata": {},
   "outputs": [
    {
     "name": "stdout",
     "output_type": "stream",
     "text": [
      "0    0\n",
      "1    0\n",
      "2    1\n",
      "3    0\n",
      "4    0\n",
      "Name: label, dtype: int64\n",
      "<class 'pandas.core.series.Series'>\n"
     ]
    },
    {
     "data": {
      "text/plain": [
       "(999,)"
      ]
     },
     "execution_count": 88,
     "metadata": {},
     "output_type": "execute_result"
    }
   ],
   "source": [
    "y = inputData.label\n",
    "label={\"ham\":0, \"spam\":1}\n",
    "y.replace(label, inplace=True)\n",
    "print(y.head())\n",
    "print(type(y))\n",
    "y.shape"
   ]
  },
  {
   "cell_type": "markdown",
   "metadata": {},
   "source": [
    "14. Create the X Dataframe from the 'text' column.\n",
    "<br>Print the size of X and the first few lines of X"
   ]
  },
  {
   "cell_type": "code",
   "execution_count": 174,
   "metadata": {},
   "outputs": [
    {
     "name": "stdout",
     "output_type": "stream",
     "text": [
      "                                                text\n",
      "0  Go until jurong point, crazy.. Available only ...\n",
      "1                      Ok lar... Joking wif u oni...\n",
      "2  Free entry in 2 a wkly comp to win FA Cup fina...\n",
      "3  U dun say so early hor... U c already then say...\n",
      "4  Nah I don't think he goes to usf, he lives aro...\n",
      "(999, 1)\n"
     ]
    }
   ],
   "source": [
    "X = inputData.drop(columns=[\"label\"])\n",
    "print(X.head())\n",
    "print(X.shape)"
   ]
  },
  {
   "cell_type": "markdown",
   "metadata": {},
   "source": [
    "15. USe the pre-processing techniques in part A to reduce the X dataset:\n",
    "- remove all numbers and punctuations (ony words with letters should remain)\n",
    "- change all words to lowercase\n",
    "- remove all stop words\n",
    "- stem all words"
   ]
  },
  {
   "cell_type": "code",
   "execution_count": 184,
   "metadata": {},
   "outputs": [
    {
     "name": "stdout",
     "output_type": "stream",
     "text": [
      "                                                text\n",
      "0  Go until jurong point crazy Available only in ...\n",
      "1                            Ok lar Joking wif u oni\n",
      "2  Free entry in 2 a wkly comp to win FA Cup fina...\n",
      "3        U dun say so early hor U c already then say\n",
      "4  Nah I dont think he goes to usf he lives aroun...\n",
      "(999, 1)\n",
      "\n",
      "\n",
      "                                                text\n",
      "0  Go until jurong point crazy Available only in ...\n",
      "1                            Ok lar Joking wif u oni\n",
      "2  Free entry in  a wkly comp to win FA Cup final...\n",
      "3        U dun say so early hor U c already then say\n",
      "4  Nah I dont think he goes to usf he lives aroun...\n",
      "(999, 1)\n",
      "\n",
      "\n",
      "                                                text\n",
      "0  go until jurong point crazy available only in ...\n",
      "1                            ok lar joking wif u oni\n",
      "2  free entry in  a wkly comp to win fa cup final...\n",
      "3        u dun say so early hor u c already then say\n",
      "4  nah i dont think he goes to usf he lives aroun...\n",
      "(999, 1)\n",
      "\n",
      "\n",
      "--------------\n",
      "                                                  text\n",
      "0    [go, until, jurong, point, crazy, available, o...\n",
      "1                       [ok, lar, joking, wif, u, oni]\n",
      "2    [free, entry, in, a, wkly, comp, to, win, fa, ...\n",
      "3    [u, dun, say, so, early, hor, u, c, already, t...\n",
      "4    [nah, i, dont, think, he, goes, to, usf, he, l...\n",
      "..                                                 ...\n",
      "994              [i, cant, i, dont, have, her, number]\n",
      "995  [change, again, its, e, one, next, to, escalator]\n",
      "996  [yetunde, im, in, class, can, you, not, run, w...\n",
      "997  [not, a, lot, has, happened, here, feels, very...\n",
      "998  [then, ì, wait, me, at, bus, stop, aft, ur, le...\n",
      "\n",
      "[999 rows x 1 columns]\n",
      "(999, 1)\n",
      "--------------\n",
      "\n",
      "{'been', \"she's\", 'himself', 'does', 'there', 'by', 'under', 'than', \"that'll\", 'didn', 'of', 'only', \"it's\", 'off', 'shouldn', 'yourself', \"hasn't\", 'my', 'because', 'very', \"couldn't\", 'wouldn', 'further', 'yourselves', 'we', 'all', 'it', 'had', 'when', \"didn't\", 'was', 'myself', 'themselves', 'won', 'his', 'him', 'be', 'hers', 'for', 'her', 'yours', \"mustn't\", 'into', 'this', 'its', 'll', 'needn', 'through', 'such', 'no', \"wasn't\", 'which', \"you've\", 'in', 'and', 'who', \"shan't\", 'she', 'mustn', 'has', 'weren', 'aren', 'to', 'but', 'between', 'that', 'itself', 'now', 'other', 'i', 'doesn', 'herself', 'couldn', 'will', 'at', \"aren't\", 'isn', \"you're\", 'have', 'your', 'do', 'until', 'm', 've', 'am', 'you', 'against', 'those', 'above', 'theirs', 'any', 'what', 'from', 'before', 'the', 'these', 'too', 'hadn', 'ain', 'same', 'how', \"isn't\", 're', \"haven't\", 'ours', 'so', 'should', \"needn't\", \"should've\", 'where', 's', \"won't\", 'after', 'o', 'just', 'he', 'a', 'on', 'more', 't', 'or', 'over', 'were', \"don't\", 'me', 'them', 'while', 'having', 'again', 'during', 'down', 'up', 'd', 'here', 'once', 'most', 'why', 'an', 'about', \"you'd\", 'did', 'as', 'y', 'mightn', \"weren't\", \"mightn't\", 'both', 'are', 'whom', 'being', 'some', 'own', 'is', 'can', 'then', 'each', 'their', \"hadn't\", 'our', 'with', 'out', 'wasn', 'nor', 'if', \"shouldn't\", \"wouldn't\", 'few', 'hasn', 'not', 'below', \"you'll\", 'ma', 'haven', 'doing', 'don', 'they', 'shan', 'ourselves', \"doesn't\"}\n",
      "####--------------###\n",
      "                                                text\n",
      "0  [go, jurong, point, crazy, available, bugis, n...\n",
      "1                     [ok, lar, joking, wif, u, oni]\n",
      "2  [free, entry, wkly, comp, win, fa, cup, final,...\n",
      "3      [u, dun, say, early, hor, u, c, already, say]\n",
      "4  [nah, dont, think, goes, usf, lives, around, t...\n",
      "(999, 1)\n",
      "\n",
      "\n",
      "####--------------###\n",
      "!!!--------------!!!\n",
      "                                                text\n",
      "0  [go, jurong, point, crazi, avail, bugi, n, gre...\n",
      "1                       [ok, lar, joke, wif, u, oni]\n",
      "2  [free, entri, wkli, comp, win, fa, cup, final,...\n",
      "3      [u, dun, say, earli, hor, u, c, alreadi, say]\n",
      "4  [nah, dont, think, goe, usf, live, around, tho...\n",
      "(999, 1)\n",
      "\n",
      "\n",
      "!!!--------------!!!\n"
     ]
    }
   ],
   "source": [
    "# EC: write code to do the steps in Q15. \n",
    "# You should end up with an X DataFrame, name it X_processed\n",
    "#X_processed = X[\"text\"].str.split(\" \", expand=True)\n",
    "\n",
    "# from nltk.tokenize import RegexpTokenizer\n",
    "\n",
    "# tokenizer = RegexpTokenizer('\\w+')\n",
    "# only_words = tokenizer.tokenize(s)\n",
    "\n",
    "# X_processed = X[\"text\"].apply(nltk.word_tokenize)\n",
    "# X_processed\n",
    "# X_processed = X[\"text\"].apply(tokenizer.tokenize)\n",
    "# X_processed[\"text\"] = X[\"text\"]\n",
    "# print(X_processed.head())\n",
    "# print(rem_num(\"abc123xyz\"))\n",
    "# print(X.head())\n",
    "# print()\n",
    "\n",
    "\n",
    "\n",
    "import string\n",
    "def rem_punc(text):\n",
    "    no_punc = \"\".join([c for c in text if c not in string.punctuation])\n",
    "    return no_punc\n",
    "\n",
    "def rem_num(text):\n",
    "    no_punc = \"\".join([c for c in text if c not in string.digits])\n",
    "    return no_punc\n",
    "    \n",
    "\n",
    "X_p = X[\"text\"].apply(lambda x: rem_punc(x)).to_frame()\n",
    "print(X_p.head())\n",
    "print(X_p.shape)\n",
    "print()\n",
    "print()\n",
    "\n",
    "X_proc = X_p[\"text\"].apply(lambda x: rem_num(x)).to_frame()\n",
    "print(X_proc.head())\n",
    "print(X_proc.shape)\n",
    "print()\n",
    "print()\n",
    "\n",
    "X_processed = X_proc[\"text\"].apply(lambda x: x.lower()).to_frame()\n",
    "print(X_processed.head())\n",
    "print(X_processed.shape)\n",
    "print()\n",
    "print()\n",
    "\n",
    "from nltk.tokenize import RegexpTokenizer\n",
    "\n",
    "tokenizer = RegexpTokenizer('\\w+')\n",
    "only_words = tokenizer.tokenize(s)\n",
    "X_processed = X_processed[\"text\"].apply(nltk.word_tokenize).to_frame()\n",
    "print(\"--------------\")\n",
    "print(X_processed)\n",
    "print(X_processed.shape)\n",
    "print(\"--------------\")\n",
    "print()\n",
    "\n",
    "from nltk.corpus import stopwords\n",
    "stop_words=set(stopwords.words(\"english\"))\n",
    "print(stop_words)\n",
    "\n",
    "def without_stop_words(l1):\n",
    "    nostopwords = [word for word in l1 if word not in stop_words]\n",
    "    return nostopwords\n",
    "\n",
    "X_processed = X_processed[\"text\"].apply(lambda x: without_stop_words(x)).to_frame()\n",
    "print(\"####--------------###\")\n",
    "print(X_processed.head())\n",
    "print(X_processed.shape)\n",
    "print()\n",
    "print()    \n",
    "print(\"####--------------###\")\n",
    "\n",
    "\n",
    "from nltk.stem import PorterStemmer\n",
    "\n",
    "stemmer = PorterStemmer()\n",
    "\n",
    "def ret_stemmed(s1):\n",
    "    stemmed=[stemmer.stem(w) for w in s1]\n",
    "    return stemmed\n",
    "\n",
    "X_processed = X_processed[\"text\"].apply(lambda x: ret_stemmed(x)).to_frame()\n",
    "print(\"!!!--------------!!!\")\n",
    "print(X_processed.head())\n",
    "print(X_processed.shape)\n",
    "print()\n",
    "print()    \n",
    "print(\"!!!--------------!!!\")\n",
    "\n",
    "\n",
    "# A = df = X_processed.to_frame()\n",
    "# A.shape\n",
    "# X_processed[\"text\"] = X_processed[\"text\"].apply(lambda x: rem_num(x))\n",
    "# print(X_processed.head())\n",
    "# print(X_processed.shape)\n",
    "\n",
    "# X_processed = X[\"text\"].apply(lambda x: x.lower())\n",
    "# print(X_processed)\n",
    "# X_xyx = X_processed.apply()\n",
    "# # Working for lowering\n",
    "# X_processed = X[\"text\"].apply(lambda x: x.lower())\n",
    "# print(X_processed)"
   ]
  },
  {
   "cell_type": "markdown",
   "metadata": {},
   "source": [
    "16. Transform each word into a document vector, which is a way to give a score to each word, by using the _CountVectorizer_\n",
    "<br>The CountVectorizer counts the frequency of each word, and returns a vector of numbers (features) that can be used by a machine learning model"
   ]
  },
  {
   "cell_type": "code",
   "execution_count": null,
   "metadata": {},
   "outputs": [],
   "source": [
    "# Example of how a CountVectorizer works\n",
    "\n",
    "from sklearn.feature_extraction.text import CountVectorizer\n",
    "\n",
    "text = [\"The quick brown fox jumps over the lazy dog\"]  # classic typing exercise\n",
    "vectorizer = CountVectorizer()\n",
    "vectorizer.fit(text)      \n",
    "print(\"Frequency count:\", vectorizer.vocabulary_)\n",
    "\n",
    "vector = vectorizer.transform(text)   # output vector to be used by ML algorithms\n",
    "print(vector.shape)\n",
    "print(vector)\n",
    "print(vectorizer.get_feature_names())"
   ]
  },
  {
   "cell_type": "markdown",
   "metadata": {},
   "source": [
    "17. Now we apply CountVectorizer to our X_processed dataset"
   ]
  },
  {
   "cell_type": "code",
   "execution_count": null,
   "metadata": {},
   "outputs": [],
   "source": [
    "vect = CountVectorizer()\n",
    "vect.fit(X_processed[0])\n",
    "X_vectors = vect.transform(X_processed[0])\n",
    "print(X_vectors[0])\n",
    "X_vectors.shape"
   ]
  },
  {
   "cell_type": "markdown",
   "metadata": {},
   "source": [
    "18. Split the X_vectors and y datasets into training and testing sets and print the size of the sets."
   ]
  },
  {
   "cell_type": "code",
   "execution_count": null,
   "metadata": {},
   "outputs": [],
   "source": [
    "\n",
    "print(X_train.shape, y_train.shape, X_test.shape, y_test.shape)"
   ]
  },
  {
   "cell_type": "markdown",
   "metadata": {},
   "source": [
    "19. Recall that Multinomial Naive Bayes take each feature and its frequency into account to do output prediction, so it fits very well with the X_vectors. We train the classifier and test it."
   ]
  },
  {
   "cell_type": "code",
   "execution_count": null,
   "metadata": {},
   "outputs": [],
   "source": []
  },
  {
   "cell_type": "markdown",
   "metadata": {},
   "source": [
    "20. Check the accuracy of the model and show the confusion matrix."
   ]
  },
  {
   "cell_type": "code",
   "execution_count": null,
   "metadata": {},
   "outputs": [],
   "source": [
    "# accuracy\n",
    "print(metrics.accuracy_score(y_test, y_pred))\n",
    "metrics.confusion_matrix(y_test, y_pred, labels=[0,1])"
   ]
  },
  {
   "cell_type": "code",
   "execution_count": null,
   "metadata": {},
   "outputs": [],
   "source": []
  },
  {
   "cell_type": "markdown",
   "metadata": {},
   "source": [
    "NLP is a big and challenging field because natural languages are messy, there are as many exceptions as there are rules in human languages, and languages evolve quickly. But it's also a field that is growing in importance with the pervasive role of social media and the advances of smart devices that interact us by using our human languages. "
   ]
  },
  {
   "cell_type": "markdown",
   "metadata": {},
   "source": [
    "_Optional_ note: We saw that the POS tagger is created from a neural network or perceptron. For those who are interested in reading an example of creating a neural network to do POS tagging, see this [article](https://becominghuman.ai/part-of-speech-tagging-tutorial-with-the-keras-deep-learning-library-d7f93fa05537)\n",
    "<br>You'll recognize the same steps of: cleaning / pre-processing data, splitting the data into training and testing sets, creating a neural network, training the model, and evaluate the accuracy."
   ]
  },
  {
   "cell_type": "code",
   "execution_count": null,
   "metadata": {},
   "outputs": [],
   "source": []
  }
 ],
 "metadata": {
  "kernelspec": {
   "display_name": "Python 3",
   "language": "python",
   "name": "python3"
  },
  "language_info": {
   "codemirror_mode": {
    "name": "ipython",
    "version": 3
   },
   "file_extension": ".py",
   "mimetype": "text/x-python",
   "name": "python",
   "nbconvert_exporter": "python",
   "pygments_lexer": "ipython3",
   "version": "3.8.5"
  }
 },
 "nbformat": 4,
 "nbformat_minor": 2
}
