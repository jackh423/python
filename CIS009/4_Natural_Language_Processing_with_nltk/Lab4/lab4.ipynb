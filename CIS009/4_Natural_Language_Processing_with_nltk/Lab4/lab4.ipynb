{
 "cells": [
  {
   "cell_type": "markdown",
   "metadata": {},
   "source": [
    "CIS 9 - Lab 4: NLP"
   ]
  },
  {
   "cell_type": "code",
   "execution_count": 635,
   "metadata": {},
   "outputs": [],
   "source": [
    "# Name: Srinivas Jakkula"
   ]
  },
  {
   "cell_type": "markdown",
   "metadata": {},
   "source": [
    "There are 2 different NLP tasks in this lab. They are in cells numbered 1a - 1m, and 2a - 2h\n",
    "<br>There are more steps in question 1 because each step is one logical block of code to guide you. For task 2, you answer the question by creating the steps on your own."
   ]
  },
  {
   "cell_type": "markdown",
   "metadata": {},
   "source": [
    "1. Use NLTK to build a model that analyzes tweets and determine if they're racist/sexist or not. There are 2 input files _train.csv_ and _test.csv_ from [source](https://www.kaggle.com/arkhoshghalb/twitter-sentiment-analysis-hatred-speech).\n",
    "<br>In the train.csv file the label 0 means the tweet is not racist/sexist, and the label 1 means the tweet is racist/sexist. In test.csv there are only the tweets."
   ]
  },
  {
   "cell_type": "markdown",
   "metadata": {},
   "source": [
    "1a. Read data from train.csv into a DataFrame, print the size of the DataFrame and the first few lines of data.\n",
    "<br>This data will be used to train the model, as its name implies."
   ]
  },
  {
   "cell_type": "code",
   "execution_count": 636,
   "metadata": {},
   "outputs": [
    {
     "name": "stdout",
     "output_type": "stream",
     "text": [
      "(31962, 3) \n",
      "\n",
      "   id  label                                              tweet\n",
      "0   1      0   @user when a father is dysfunctional and is s...\n",
      "1   2      0  @user @user thanks for #lyft credit i can't us...\n",
      "2   3      0                                bihday your majesty\n",
      "3   4      0  #model   i love u take with u all the time in ...\n",
      "4   5      0             factsguide: society now    #motivation\n"
     ]
    }
   ],
   "source": [
    "import pandas as pd\n",
    "import matplotlib.pyplot as plt\n",
    "%matplotlib inline\n",
    "import random\n",
    "from sklearn.model_selection import train_test_split\n",
    "from sklearn.naive_bayes import MultinomialNB\n",
    "from sklearn import metrics\n",
    "import nltk\n",
    "from sklearn.metrics import f1_score\n",
    "\n",
    "data = pd.read_csv(\"train.csv\")\n",
    "#print(data, '\\n')\n",
    "print(data.shape, \"\\n\")\n",
    "print(data.head())\n"
   ]
  },
  {
   "cell_type": "markdown",
   "metadata": {},
   "source": [
    "1b. First get an overview of the data by finding the percentage of _'good'_ tweets (not racist/sexist) and the percentage of _'bad'_ tweets (racist/sexist). This helps us determine if there is enough representation of both types in the dataset.\n",
    "<br>Print the percentages."
   ]
  },
  {
   "cell_type": "code",
   "execution_count": 637,
   "metadata": {},
   "outputs": [
    {
     "name": "stdout",
     "output_type": "stream",
     "text": [
      "31962\n",
      "29720\n",
      "2242\n",
      "Good tweets 92.99%\n",
      "Bad tweets 7.01%\n",
      "(29720, 3)\n",
      "(2242, 3)\n",
      "29720\n",
      "Good tweets 92.99%\n",
      "Bad tweets 7.01%\n",
      "          id  label                                              tweet\n",
      "0          1      0   @user when a father is dysfunctional and is s...\n",
      "1          2      0  @user @user thanks for #lyft credit i can't us...\n",
      "2          3      0                                bihday your majesty\n",
      "3          4      0  #model   i love u take with u all the time in ...\n",
      "4          5      0             factsguide: society now    #motivation\n",
      "...      ...    ...                                                ...\n",
      "31956  31957      0  off fishing tomorrow @user carnt wait first ti...\n",
      "31957  31958      0  ate @user isz that youuu?ðððððð...\n",
      "31958  31959      0    to see nina turner on the airwaves trying to...\n",
      "31959  31960      0  listening to sad songs on a monday morning otw...\n",
      "31961  31962      0                   thank you @user for you follow  \n",
      "\n",
      "[29720 rows x 3 columns]\n"
     ]
    }
   ],
   "source": [
    "#data.describe()\n",
    "# Method 1\n",
    "print(data.count().label)\n",
    "print(data.groupby(by='label').agg('count').id[0])\n",
    "print(data.groupby(by='label').agg('count').id[1])\n",
    "print(f\"Good tweets {(data.groupby(by='label').agg('count').id[0]/data.count().label):.2%}\")\n",
    "print(f\"Bad tweets {(data.groupby(by='label').agg('count').id[1]/data.count().label):.2%}\")\n",
    "\n",
    "# good_t = data.groupby(by='label')\n",
    "# Method 2\n",
    "good_t = data[data['label'] == 0] \n",
    "bad_t = data[data['label'] == 1]\n",
    "print(good_t.shape)\n",
    "print(bad_t.shape)\n",
    "print(len(good_t))\n",
    "print(f\"Good tweets {len(good_t)/len(data):.2%}\")\n",
    "print(f\"Bad tweets {len(bad_t)/len(data):.2%}\")\n",
    "print(good_t)\n",
    "\n",
    "# badfreqD = nltk.FreqDist(badHashtags)"
   ]
  },
  {
   "cell_type": "markdown",
   "metadata": {},
   "source": [
    "1c. The hashtag denotes special meaning or theme in the tweet, so you'll use them to do a quick check of the labeling of the training data. Find and plot the 10 most used hashtags for the good tweets. The plot should show the hashtags and their counts.\n",
    "<br>In case anyone needs a refresher, a hashtag is a word that begins with '#' followed by letters. In line 4 of the DataFrame is the hashtag #model"
   ]
  },
  {
   "cell_type": "code",
   "execution_count": 638,
   "metadata": {},
   "outputs": [
    {
     "name": "stdout",
     "output_type": "stream",
     "text": [
      "#love           1531\n",
      "#positive        874\n",
      "#healthy         570\n",
      "#smile           548\n",
      "#thankful        491\n",
      "#fun             434\n",
      "#life            405\n",
      "#summer          367\n",
      "#model           364\n",
      "#affirmation     363\n",
      "Name: 0, dtype: int64\n"
     ]
    },
    {
     "data": {
      "text/plain": [
       "0                                    [#run]\n",
       "1        [#lyft, #disapointed, #getthanked]\n",
       "2                                        []\n",
       "3                                  [#model]\n",
       "4                             [#motivation]\n",
       "                        ...                \n",
       "31956                                    []\n",
       "31957                                    []\n",
       "31958                  [#shame, #imwithher]\n",
       "31959                                    []\n",
       "31961                                    []\n",
       "Name: tweet, Length: 29720, dtype: object"
      ]
     },
     "execution_count": 638,
     "metadata": {},
     "output_type": "execute_result"
    },
    {
     "data": {
      "image/png": "[encoded data removed]",
      "text/plain": [
       "<Figure size 432x288 with 1 Axes>"
      ]
     },
     "metadata": {
      "needs_background": "light"
     },
     "output_type": "display_data"
    }
   ],
   "source": [
    "# Working\n",
    "good_t10 = good_t.tweet.str.extractall(r'(\\#\\w+)')[0].value_counts()[:10]\n",
    "print(good_t10)\n",
    "good_t10.plot()\n",
    "\n",
    "g = good_t.tweet.str.findall(r'(\\#\\w+)')\n",
    "g\n",
    "#print(good_t)\n",
    "#print(good_t.tweet.str.extractall(r'(\\#\\w+)')[0].value_counts())\n",
    "\n",
    "# badfreqD = nltk.FreqDist(good_t.tweet.str.extractall(r'(\\#\\w+)')[0].value_counts())\n",
    "# print(badfreqD)\n",
    "# badfreqD.plot(10)\n",
    "#from nltk.tokenize import word_tokenize   # separate text into words\n",
    "\n",
    "# words = word_tokenize(data)\n",
    "# print(words)\n",
    "\n",
    "# from nltk.tokenize import RegexpTokenizer\n",
    "#data['tweet'].str.extractall(r'(\\#\\w+)')[0].value_counts()\n",
    "# data.tweet\n",
    "#print(data.tweet)\n",
    "# WORKING\n",
    "# X = data.drop(columns=['id', 'label'])\n",
    "\n",
    "# #A = X.tweet.str.extractall(r'(\\#\\w+)')[0].value_counts()[:10]\n",
    "# A = X.tweet.str.extractall(r'(\\#\\w+)')[0].value_counts()[:10]\n",
    "# print(A)\n",
    "# A.plot()\n",
    "\n",
    "# good_tweet = data[data.label == 0]\n",
    "# print(good_tweet)\n",
    "# bad_tweet = data[data.label == 1]\n",
    "# print(good_tweet)\n",
    "# print(bad_tweet)\n",
    "\n",
    "\n",
    "# freqD = nltk.FreqDist(A)\n",
    "# freqD.plot(10)\n",
    "\n",
    "# Y = data.drop(columns=['id', 'label'])\n",
    "# tokenizer = RegexpTokenizer(r'(\\#\\w+)')\n",
    "\n",
    "# def preprocess(s) :\n",
    "#     w = tokenizer.tokenize(s)\n",
    "#     #w = [word for word in w if word not in stop_words]\n",
    "#     #w = [stemmer.stem(word) for word in w]\n",
    "#     return ' '.join(w)\n",
    "\n",
    "# X_processed = pd.Series([preprocess(X.loc[i,'tweet']) for i in range(len(X))]).to_frame()\n",
    "# X_processed.head()# from nltk.tokenize import RegexpTokenizer\n",
    "\n",
    "# freqD = nltk.FreqDist(X_processed)\n",
    "# print(freqD)\n",
    "# print(len(freqD))\n",
    "# freqD.plot(10)\n",
    "# tokenizer = RegexpTokenizer(r'(\\#\\w+)')   \n",
    "# only_words = tokenizer.tokenize(X)\n",
    "# print(only_words)\n",
    "\n",
    "#freqD = nltk.FreqDist(only_words)"
   ]
  },
  {
   "cell_type": "markdown",
   "metadata": {},
   "source": [
    "Then find and plot the 10 most used hashtags for the bad tweets.\n",
    "<br>In addition to all the math, statistics, and programming knowledge, a good data scientist has expertise in the field that they investigate. As someone with knowlege on racism/sexism terms, do the tags seem to agree with the labeling?\n",
    "<br>Note: if you get a warning about certain characters not being displayed properly, you can ignore the warning. The result of the warning will show in the output but it's okay."
   ]
  },
  {
   "cell_type": "code",
   "execution_count": 639,
   "metadata": {},
   "outputs": [
    {
     "name": "stdout",
     "output_type": "stream",
     "text": [
      "#trump        133\n",
      "#politics      94\n",
      "#allahsoil     92\n",
      "#libtard       76\n",
      "#liberal       75\n",
      "#sjw           74\n",
      "#retweet       57\n",
      "#black         44\n",
      "#miamiâ        38\n",
      "#tampa         32\n",
      "Name: 0, dtype: int64\n",
      "13                                [#cnn, #michigan, #tcot]\n",
      "14       [#australia, #opkillingbay, #seashepherd, #hel...\n",
      "17                                                      []\n",
      "23                                                      []\n",
      "34                                [#neverump, #xenophobia]\n",
      "                               ...                        \n",
      "31934                                [#jcpenny, #kentucky]\n",
      "31946                        [#mailboxpride, #liberalisme]\n",
      "31947                                                   []\n",
      "31948                                                   []\n",
      "31960                     [#sikh, #temple, #calgary, #wso]\n",
      "Name: tweet, Length: 2242, dtype: object\n"
     ]
    },
    {
     "data": {
      "image/png": "[encoded data removed]",
      "text/plain": [
       "<Figure size 432x288 with 1 Axes>"
      ]
     },
     "metadata": {
      "needs_background": "light"
     },
     "output_type": "display_data"
    }
   ],
   "source": [
    "bad_t10 = bad_t.tweet.str.extractall(r'(\\#\\w+)')[0].value_counts()[:10]\n",
    "print(bad_t10)\n",
    "bad_t10.plot()\n",
    "# bad_t_ten = bad_t.tweet.str.findall(r'(\\#\\w+)')[0]\n",
    "\n",
    "b = bad_t.tweet.str.findall(r'(\\#\\w+)')\n",
    "print(b)\n"
   ]
  },
  {
   "cell_type": "markdown",
   "metadata": {},
   "source": [
    "1d. Create the y variable from the DataFrame.\n",
    "<br>Print the size of y."
   ]
  },
  {
   "cell_type": "code",
   "execution_count": 640,
   "metadata": {},
   "outputs": [
    {
     "name": "stdout",
     "output_type": "stream",
     "text": [
      "(31962,)\n",
      "31962\n"
     ]
    }
   ],
   "source": [
    "y = data.label\n",
    "print(y.shape)\n",
    "print(y.size)"
   ]
  },
  {
   "cell_type": "markdown",
   "metadata": {},
   "source": [
    "Create the X variable from the DataFrame.\n",
    "<br>Print the size of X and the first few lines of x."
   ]
  },
  {
   "cell_type": "code",
   "execution_count": 641,
   "metadata": {},
   "outputs": [
    {
     "name": "stdout",
     "output_type": "stream",
     "text": [
      "(31962,)\n",
      "0     @user when a father is dysfunctional and is s...\n",
      "1    @user @user thanks for #lyft credit i can't us...\n",
      "2                                  bihday your majesty\n",
      "3    #model   i love u take with u all the time in ...\n",
      "4               factsguide: society now    #motivation\n",
      "Name: tweet, dtype: object\n",
      "<class 'pandas.core.series.Series'>\n"
     ]
    }
   ],
   "source": [
    "X = data.tweet\n",
    "print(X.shape)\n",
    "print(X.head())\n",
    "print(type(X))\n",
    "# replace()"
   ]
  },
  {
   "cell_type": "markdown",
   "metadata": {},
   "source": [
    "1e. To start pre-processing the data, observe that the user names in the tweet start with '@'. A user name in the lines of X above is @user. These user names don't correlate with the labeling so you can remove them from the data.\n",
    "<br>Remove all @names from the data and show the first few lines of X to see that they're gone.\n",
    "<br>Hint: vectorized strings can make the job easier."
   ]
  },
  {
   "cell_type": "code",
   "execution_count": 642,
   "metadata": {},
   "outputs": [
    {
     "name": "stdout",
     "output_type": "stream",
     "text": [
      "<class 'pandas.core.series.Series'>\n"
     ]
    },
    {
     "data": {
      "text/plain": [
       "0          when a father is dysfunctional and is so sel...\n",
       "1          thanks for #lyft credit i can't use cause th...\n",
       "2                                      bihday your majesty\n",
       "3        #model   i love u take with u all the time in ...\n",
       "4                   factsguide: society now    #motivation\n",
       "                               ...                        \n",
       "31957    ate  isz that youuu?ððððððð...\n",
       "31958      to see nina turner on the airwaves trying to...\n",
       "31959    listening to sad songs on a monday morning otw...\n",
       "31960     #sikh #temple vandalised in in #calgary, #wso...\n",
       "31961                          thank you  for you follow  \n",
       "Name: tweet, Length: 31962, dtype: object"
      ]
     },
     "execution_count": 642,
     "metadata": {},
     "output_type": "execute_result"
    }
   ],
   "source": [
    "# tokenizer = RegexpTokenizer(r'(\\@\\w+)')\n",
    "\n",
    "# def preprocess(s) :\n",
    "#     w = tokenizer.tokenize(s)\n",
    "    \n",
    "#     w = [word for word in w if word not in stop_words]\n",
    "#     w = [stemmer.stem(word) for word in w]\n",
    "#     return ' '.join(w)\n",
    "\n",
    "# X_processed = pd.Series([preprocess(data.loc[i,'tweet']) for i in range(len(data))]).to_frame()\n",
    "# print(X_processed.head())\n",
    "# print(\"-----\")\n",
    "# print(X_processed[0])\n",
    "# X_wo_user = data.tweet.str.replace(\"\")\n",
    "X_m = X.replace(to_replace=r'(\\@\\w+)', value='',regex=True)\n",
    "print(type(X_m))\n",
    "X_m"
   ]
  },
  {
   "cell_type": "markdown",
   "metadata": {},
   "source": [
    "1f. Continue the pre-processing step by removing non-words, lowercase all words, removing stop words, and stemming the words. Print the resulting X variable. (You can change the variable name X if you want.)"
   ]
  },
  {
   "cell_type": "code",
   "execution_count": 643,
   "metadata": {},
   "outputs": [
    {
     "data": {
      "text/html": [
       "<div>\n",
       "<style scoped>\n",
       "    .dataframe tbody tr th:only-of-type {\n",
       "        vertical-align: middle;\n",
       "    }\n",
       "\n",
       "    .dataframe tbody tr th {\n",
       "        vertical-align: top;\n",
       "    }\n",
       "\n",
       "    .dataframe thead th {\n",
       "        text-align: right;\n",
       "    }\n",
       "</style>\n",
       "<table border=\"1\" class=\"dataframe\">\n",
       "  <thead>\n",
       "    <tr style=\"text-align: right;\">\n",
       "      <th></th>\n",
       "      <th>0</th>\n",
       "    </tr>\n",
       "  </thead>\n",
       "  <tbody>\n",
       "    <tr>\n",
       "      <th>0</th>\n",
       "      <td>father dysfunct selfish drag kid dysfunct run</td>\n",
       "    </tr>\n",
       "    <tr>\n",
       "      <th>1</th>\n",
       "      <td>thank lyft credit use caus offer wheelchair va...</td>\n",
       "    </tr>\n",
       "    <tr>\n",
       "      <th>2</th>\n",
       "      <td>bihday majesti</td>\n",
       "    </tr>\n",
       "    <tr>\n",
       "      <th>3</th>\n",
       "      <td>model love u take u time ur</td>\n",
       "    </tr>\n",
       "    <tr>\n",
       "      <th>4</th>\n",
       "      <td>factsguid societi motiv</td>\n",
       "    </tr>\n",
       "    <tr>\n",
       "      <th>...</th>\n",
       "      <td>...</td>\n",
       "    </tr>\n",
       "    <tr>\n",
       "      <th>31957</th>\n",
       "      <td>ate isz youuu</td>\n",
       "    </tr>\n",
       "    <tr>\n",
       "      <th>31958</th>\n",
       "      <td>see nina turner airwav tri wrap mantl genuin h...</td>\n",
       "    </tr>\n",
       "    <tr>\n",
       "      <th>31959</th>\n",
       "      <td>listen sad song monday morn otw work sad</td>\n",
       "    </tr>\n",
       "    <tr>\n",
       "      <th>31960</th>\n",
       "      <td>sikh templ vandalis calgari wso condemn act</td>\n",
       "    </tr>\n",
       "    <tr>\n",
       "      <th>31961</th>\n",
       "      <td>thank follow</td>\n",
       "    </tr>\n",
       "  </tbody>\n",
       "</table>\n",
       "<p>31962 rows × 1 columns</p>\n",
       "</div>"
      ],
      "text/plain": [
       "                                                       0\n",
       "0          father dysfunct selfish drag kid dysfunct run\n",
       "1      thank lyft credit use caus offer wheelchair va...\n",
       "2                                         bihday majesti\n",
       "3                            model love u take u time ur\n",
       "4                                factsguid societi motiv\n",
       "...                                                  ...\n",
       "31957                                      ate isz youuu\n",
       "31958  see nina turner airwav tri wrap mantl genuin h...\n",
       "31959           listen sad song monday morn otw work sad\n",
       "31960        sikh templ vandalis calgari wso condemn act\n",
       "31961                                       thank follow\n",
       "\n",
       "[31962 rows x 1 columns]"
      ]
     },
     "execution_count": 643,
     "metadata": {},
     "output_type": "execute_result"
    }
   ],
   "source": [
    "from nltk.corpus import stopwords\n",
    "from nltk.stem import PorterStemmer\n",
    "\n",
    "stop_words=set(stopwords.words(\"english\"))\n",
    "# print(stop_words)\n",
    "\n",
    "\n",
    "stemmer = PorterStemmer()\n",
    "\n",
    "# X_m = X.replace(to_replace=r'(\\@\\w+)', value='new',regex=True)\n",
    "# X_m\n",
    "# tokenizer = RegexpTokenizer(r'[^\\w]')\n",
    "#tokenizer = RegexpTokenizer(r'\\w+')\n",
    "tokenizer = RegexpTokenizer(r'[a-zA-Z]+')\n",
    "\n",
    "\n",
    "def preprocess(s):\n",
    "    w = tokenizer.tokenize(s.lower())\n",
    "    w = [word for word in w if word not in stop_words]\n",
    "    w = [stemmer.stem(word) for word in w]\n",
    "    return ' '.join(w)\n",
    "\n",
    "# X_processed = pd.Series([preprocess(data.loc[i,'tweet']) for i in range(len(data))]).to_frame()\n",
    "X_processed = pd.Series([preprocess(X_m.loc[i]) for i in range(len(X_m))]).to_frame()\n",
    "X_processed"
   ]
  },
  {
   "cell_type": "markdown",
   "metadata": {},
   "source": [
    "1g. Convert the strings in X to vectors of numbers. Show the size of the vectors."
   ]
  },
  {
   "cell_type": "code",
   "execution_count": 644,
   "metadata": {},
   "outputs": [
    {
     "name": "stdout",
     "output_type": "stream",
     "text": [
      "  (0, 7558)\t1\n",
      "  (0, 7824)\t2\n",
      "  (0, 9012)\t1\n",
      "  (0, 14711)\t1\n",
      "  (0, 23484)\t1\n",
      "  (0, 24159)\t1\n",
      "(31962, 31307)\n"
     ]
    }
   ],
   "source": [
    "from sklearn.feature_extraction.text import CountVectorizer\n",
    "\n",
    "vect = CountVectorizer()\n",
    "vect.fit(X_processed[0])\n",
    "X_vectors = vect.transform(X_processed[0])\n",
    "print(X_vectors[0])\n",
    "print(X_vectors.shape)\n",
    "# print(X_processed[0])"
   ]
  },
  {
   "cell_type": "markdown",
   "metadata": {},
   "source": [
    "1h. Split the dataset into training and testing sets and Show the size of the sets."
   ]
  },
  {
   "cell_type": "code",
   "execution_count": 645,
   "metadata": {},
   "outputs": [
    {
     "name": "stdout",
     "output_type": "stream",
     "text": [
      "(25569, 31307) (25569,) (6393, 31307) (6393,)\n"
     ]
    }
   ],
   "source": [
    "X_train, X_test, y_train, y_test = train_test_split(X_vectors,y,test_size=0.2)\n",
    "print(X_train.shape, y_train.shape, X_test.shape, y_test.shape)"
   ]
  },
  {
   "cell_type": "markdown",
   "metadata": {},
   "source": [
    "1i. Use the Multinomial Naive Bayes model to train, then test the model."
   ]
  },
  {
   "cell_type": "code",
   "execution_count": 646,
   "metadata": {},
   "outputs": [],
   "source": [
    "classifier = MultinomialNB()\n",
    "classifier.fit(X_train, y_train)\n",
    "y_pred = classifier.predict(X_test)\n",
    "\n",
    "# f1_score\n",
    "# score = f1_score(y_pred, y_test)\n"
   ]
  },
  {
   "cell_type": "markdown",
   "metadata": {},
   "source": [
    "1j. Show the accuracy of the model by displaying the accuracy score, confusion matrix, and F1 score."
   ]
  },
  {
   "cell_type": "code",
   "execution_count": 647,
   "metadata": {},
   "outputs": [
    {
     "name": "stdout",
     "output_type": "stream",
     "text": [
      "0.9490067261066791\n",
      "[[5805  145]\n",
      " [ 181  262]]\n",
      "0.9500096836270687\n",
      "<class 'pandas.core.series.Series'>\n",
      "<class 'numpy.ndarray'>\n"
     ]
    }
   ],
   "source": [
    "print(metrics.accuracy_score(y_test, y_pred))\n",
    "print(metrics.confusion_matrix(y_test, y_pred, labels=[0,1]))\n",
    "print(f1_score(y_pred, y_test, average='weighted'))\n",
    "print(type(y_test))\n",
    "print(type(y_pred))"
   ]
  },
  {
   "cell_type": "markdown",
   "metadata": {},
   "source": [
    "1k. In your own words:\n",
    "<br>a. Analyze the accuracy, explaining what each of the 3 values mean.\n",
    "<br>b. Between the accuracy score and the F1 score, which one should be used, and why? (Hint: this was discussed in the class notes)"
   ]
  },
  {
   "cell_type": "code",
   "execution_count": 648,
   "metadata": {},
   "outputs": [],
   "source": [
    "# Accuracy score indicates how accuratly it is predicting test data. Here based on the trained data, this model is prediction 94.9% correctly for the test data\n",
    "\n",
    "# Based on the confusion matrix, this model predicated (True Positives) 5772 value correct when the tweet is related to racist and 189 times detected incorrectly\n",
    "# Similarly 251 times detected (True negatives) corrected when the tweet is not racist of nature\n",
    "\n",
    "# Accuracy can be used when the class distribution is similar while F1-score is a better metric when there are imbalanced classes as in the above case.\n",
    "\n",
    "# Accuracy is used when the True Positives and True negatives are more important while F1-score is used when the False Negatives and False Positives are crucial\n"
   ]
  },
  {
   "cell_type": "markdown",
   "metadata": {},
   "source": [
    "1l. Prepare the data in _test.csv_ to test the model. This will take several steps so feel free to create multiple cells as needed. You'll find that separating the steps into different cells help during debugging since you only need to re-run part of the code."
   ]
  },
  {
   "cell_type": "code",
   "execution_count": 649,
   "metadata": {},
   "outputs": [
    {
     "name": "stdout",
     "output_type": "stream",
     "text": [
      "(17197, 2) \n",
      "\n",
      "      id                                              tweet\n",
      "0  31963  #studiolife #aislife #requires #passion #dedic...\n",
      "1  31964   @user #white #supremacists want everyone to s...\n",
      "2  31965  safe ways to heal your #acne!!    #altwaystohe...\n",
      "3  31966  is the hp and the cursed child book up for res...\n",
      "4  31967    3rd #bihday to my amazing, hilarious #nephew...\n"
     ]
    }
   ],
   "source": [
    "test_data = pd.read_csv(\"test.csv\")\n",
    "#print(data, '\\n')\n",
    "print(test_data.shape, \"\\n\")\n",
    "print(test_data.head())"
   ]
  },
  {
   "cell_type": "code",
   "execution_count": 650,
   "metadata": {},
   "outputs": [
    {
     "name": "stdout",
     "output_type": "stream",
     "text": [
      "<class 'pandas.core.frame.DataFrame'>\n"
     ]
    },
    {
     "data": {
      "text/html": [
       "<div>\n",
       "<style scoped>\n",
       "    .dataframe tbody tr th:only-of-type {\n",
       "        vertical-align: middle;\n",
       "    }\n",
       "\n",
       "    .dataframe tbody tr th {\n",
       "        vertical-align: top;\n",
       "    }\n",
       "\n",
       "    .dataframe thead th {\n",
       "        text-align: right;\n",
       "    }\n",
       "</style>\n",
       "<table border=\"1\" class=\"dataframe\">\n",
       "  <thead>\n",
       "    <tr style=\"text-align: right;\">\n",
       "      <th></th>\n",
       "      <th>id</th>\n",
       "      <th>tweet</th>\n",
       "    </tr>\n",
       "  </thead>\n",
       "  <tbody>\n",
       "    <tr>\n",
       "      <th>0</th>\n",
       "      <td>31963</td>\n",
       "      <td>#studiolife #aislife #requires #passion #dedic...</td>\n",
       "    </tr>\n",
       "    <tr>\n",
       "      <th>1</th>\n",
       "      <td>31964</td>\n",
       "      <td>#white #supremacists want everyone to see th...</td>\n",
       "    </tr>\n",
       "    <tr>\n",
       "      <th>2</th>\n",
       "      <td>31965</td>\n",
       "      <td>safe ways to heal your #acne!!    #altwaystohe...</td>\n",
       "    </tr>\n",
       "    <tr>\n",
       "      <th>3</th>\n",
       "      <td>31966</td>\n",
       "      <td>is the hp and the cursed child book up for res...</td>\n",
       "    </tr>\n",
       "    <tr>\n",
       "      <th>4</th>\n",
       "      <td>31967</td>\n",
       "      <td>3rd #bihday to my amazing, hilarious #nephew...</td>\n",
       "    </tr>\n",
       "    <tr>\n",
       "      <th>...</th>\n",
       "      <td>...</td>\n",
       "      <td>...</td>\n",
       "    </tr>\n",
       "    <tr>\n",
       "      <th>17192</th>\n",
       "      <td>49155</td>\n",
       "      <td>thought factory: left-right polarisation! #tru...</td>\n",
       "    </tr>\n",
       "    <tr>\n",
       "      <th>17193</th>\n",
       "      <td>49156</td>\n",
       "      <td>feeling like a mermaid ð #hairflip #neverre...</td>\n",
       "    </tr>\n",
       "    <tr>\n",
       "      <th>17194</th>\n",
       "      <td>49157</td>\n",
       "      <td>#hillary #campaigned today in #ohio((omg)) &amp;am...</td>\n",
       "    </tr>\n",
       "    <tr>\n",
       "      <th>17195</th>\n",
       "      <td>49158</td>\n",
       "      <td>happy, at work conference: right mindset leads...</td>\n",
       "    </tr>\n",
       "    <tr>\n",
       "      <th>17196</th>\n",
       "      <td>49159</td>\n",
       "      <td>my   song \"so glad\" free download!  #shoegaze ...</td>\n",
       "    </tr>\n",
       "  </tbody>\n",
       "</table>\n",
       "<p>17197 rows × 2 columns</p>\n",
       "</div>"
      ],
      "text/plain": [
       "          id                                              tweet\n",
       "0      31963  #studiolife #aislife #requires #passion #dedic...\n",
       "1      31964    #white #supremacists want everyone to see th...\n",
       "2      31965  safe ways to heal your #acne!!    #altwaystohe...\n",
       "3      31966  is the hp and the cursed child book up for res...\n",
       "4      31967    3rd #bihday to my amazing, hilarious #nephew...\n",
       "...      ...                                                ...\n",
       "17192  49155  thought factory: left-right polarisation! #tru...\n",
       "17193  49156  feeling like a mermaid ð #hairflip #neverre...\n",
       "17194  49157  #hillary #campaigned today in #ohio((omg)) &am...\n",
       "17195  49158  happy, at work conference: right mindset leads...\n",
       "17196  49159  my   song \"so glad\" free download!  #shoegaze ...\n",
       "\n",
       "[17197 rows x 2 columns]"
      ]
     },
     "execution_count": 650,
     "metadata": {},
     "output_type": "execute_result"
    }
   ],
   "source": [
    "X_test = test_data.replace(to_replace=r'(\\@\\w+)', value='',regex=True)\n",
    "print(type(X_test))\n",
    "X_test"
   ]
  },
  {
   "cell_type": "code",
   "execution_count": 651,
   "metadata": {},
   "outputs": [
    {
     "data": {
      "text/html": [
       "<div>\n",
       "<style scoped>\n",
       "    .dataframe tbody tr th:only-of-type {\n",
       "        vertical-align: middle;\n",
       "    }\n",
       "\n",
       "    .dataframe tbody tr th {\n",
       "        vertical-align: top;\n",
       "    }\n",
       "\n",
       "    .dataframe thead th {\n",
       "        text-align: right;\n",
       "    }\n",
       "</style>\n",
       "<table border=\"1\" class=\"dataframe\">\n",
       "  <thead>\n",
       "    <tr style=\"text-align: right;\">\n",
       "      <th></th>\n",
       "      <th>0</th>\n",
       "    </tr>\n",
       "  </thead>\n",
       "  <tbody>\n",
       "    <tr>\n",
       "      <th>0</th>\n",
       "      <td>studiolif aislif requir passion dedic willpow ...</td>\n",
       "    </tr>\n",
       "    <tr>\n",
       "      <th>1</th>\n",
       "      <td>white supremacist want everyon see new bird movi</td>\n",
       "    </tr>\n",
       "    <tr>\n",
       "      <th>2</th>\n",
       "      <td>safe way heal acn altwaystoh healthi heal</td>\n",
       "    </tr>\n",
       "    <tr>\n",
       "      <th>3</th>\n",
       "      <td>hp curs child book reserv alreadi ye harrypott...</td>\n",
       "    </tr>\n",
       "    <tr>\n",
       "      <th>4</th>\n",
       "      <td>rd bihday amaz hilari nephew eli ahmir uncl da...</td>\n",
       "    </tr>\n",
       "    <tr>\n",
       "      <th>...</th>\n",
       "      <td>...</td>\n",
       "    </tr>\n",
       "    <tr>\n",
       "      <th>17192</th>\n",
       "      <td>thought factori left right polaris trump usele...</td>\n",
       "    </tr>\n",
       "    <tr>\n",
       "      <th>17193</th>\n",
       "      <td>feel like mermaid hairflip neverreadi formal w...</td>\n",
       "    </tr>\n",
       "    <tr>\n",
       "      <th>17194</th>\n",
       "      <td>hillari campaign today ohio omg amp use word l...</td>\n",
       "    </tr>\n",
       "    <tr>\n",
       "      <th>17195</th>\n",
       "      <td>happi work confer right mindset lead cultur de...</td>\n",
       "    </tr>\n",
       "    <tr>\n",
       "      <th>17196</th>\n",
       "      <td>song glad free download shoegaz newmus newsong</td>\n",
       "    </tr>\n",
       "  </tbody>\n",
       "</table>\n",
       "<p>17197 rows × 1 columns</p>\n",
       "</div>"
      ],
      "text/plain": [
       "                                                       0\n",
       "0      studiolif aislif requir passion dedic willpow ...\n",
       "1       white supremacist want everyon see new bird movi\n",
       "2              safe way heal acn altwaystoh healthi heal\n",
       "3      hp curs child book reserv alreadi ye harrypott...\n",
       "4      rd bihday amaz hilari nephew eli ahmir uncl da...\n",
       "...                                                  ...\n",
       "17192  thought factori left right polaris trump usele...\n",
       "17193  feel like mermaid hairflip neverreadi formal w...\n",
       "17194  hillari campaign today ohio omg amp use word l...\n",
       "17195  happi work confer right mindset lead cultur de...\n",
       "17196     song glad free download shoegaz newmus newsong\n",
       "\n",
       "[17197 rows x 1 columns]"
      ]
     },
     "execution_count": 651,
     "metadata": {},
     "output_type": "execute_result"
    }
   ],
   "source": [
    "X_test_processed = pd.Series([preprocess(X_test.loc[i, 'tweet']) for i in range(len(X_test))]).to_frame()\n",
    "X_test_processed"
   ]
  },
  {
   "cell_type": "code",
   "execution_count": 652,
   "metadata": {},
   "outputs": [
    {
     "name": "stdout",
     "output_type": "stream",
     "text": [
      "  (0, 6670)\t1\n",
      "  (0, 9327)\t1\n",
      "  (0, 20514)\t1\n",
      "  (0, 22892)\t1\n",
      "  (0, 26193)\t1\n",
      "(17197, 31307)\n"
     ]
    }
   ],
   "source": [
    "vect = CountVectorizer(vocabulary=vect.vocabulary_)\n",
    "vect.fit(X_test_processed[0])\n",
    "X_test_vectors = vect.transform(X_test_processed[0])\n",
    "print(X_test_vectors[0])\n",
    "print(X_test_vectors.shape)\n",
    "# print(X_test_processed[0])"
   ]
  },
  {
   "cell_type": "code",
   "execution_count": 653,
   "metadata": {},
   "outputs": [],
   "source": [
    "# X_test_train, X_test_test, y_test_train, y_test_test = train_test_split(X_test_vectors,y,test_size=0.2)\n",
    "# print(X_test_train.shape, y_test_train.shape, X_test_test.shape, y_test_test.shape)\n",
    "# Xa_train, Xa_test, ya_train, ya_test = train_test_split(X_test_vectors,y,test_size=0)\n",
    "# print(Xa_train.shape, ya_train.shape, Xa_test.shape, ya_test.shape)"
   ]
  },
  {
   "cell_type": "code",
   "execution_count": 654,
   "metadata": {},
   "outputs": [
    {
     "name": "stdout",
     "output_type": "stream",
     "text": [
      "<class 'numpy.ndarray'>\n",
      "6393\n",
      "6393\n",
      "[0 0 0 ... 0 0 0]\n",
      "<class 'pandas.core.series.Series'>\n",
      "<class 'numpy.ndarray'>\n"
     ]
    },
    {
     "data": {
      "text/plain": [
       "(array([0, 1]), array([16460,   737]))"
      ]
     },
     "execution_count": 654,
     "metadata": {},
     "output_type": "execute_result"
    }
   ],
   "source": [
    "import numpy as np \n",
    "#classifier = MultinomialNB()\n",
    "#classifier.fit(X_train, y_train)\n",
    "y_test_pred = classifier.predict(X_test_vectors)\n",
    "print(type(y_test_pred))\n",
    "print(len(y_test))\n",
    "print(len(y_pred))\n",
    "print(y_test_pred)\n",
    "print(type(y_test))\n",
    "print(type(y_pred))\n",
    "np.unique(y_test_pred, return_counts = True)"
   ]
  },
  {
   "cell_type": "code",
   "execution_count": 655,
   "metadata": {},
   "outputs": [],
   "source": [
    "# print(metrics.accuracy_score(y_test, y_pred))\n",
    "# print(metrics.confusion_matrix(y_test, y_pred, labels=[0,1]))\n",
    "# print(f1_score(y_pred, y_test, average='weighted'))"
   ]
  },
  {
   "cell_type": "markdown",
   "metadata": {},
   "source": [
    "1m. After you have the outcome of the test data, print the number of good tweets and the number of bad tweets that the model determined from the test data.\n",
    "<br>Based on the accuracy measurement of the model, answer these questions in your own words:\n",
    "- how confident are you with the 2 numbers?\n",
    "- is the model more likely to predict the wrong way for a good tweet? how about for a bad tweet?"
   ]
  },
  {
   "cell_type": "code",
   "execution_count": 656,
   "metadata": {},
   "outputs": [
    {
     "data": {
      "text/plain": [
       "(array([0, 1]), array([16460,   737]))"
      ]
     },
     "execution_count": 656,
     "metadata": {},
     "output_type": "execute_result"
    }
   ],
   "source": [
    "# print(y_test)\n",
    "# print(type(X_test_processed))\n",
    "# print(type(y_test))\n",
    "# # print(data.groupby(by='label').agg('count').id[0])\n",
    "# y_test\n",
    "# y_test.value_counts()\n",
    "\n",
    "np.unique(y_test_pred, return_counts = True)"
   ]
  },
  {
   "cell_type": "code",
   "execution_count": 657,
   "metadata": {},
   "outputs": [],
   "source": [
    "# Based on the accuracy measurment of the model, I am confident of more correct results as accuracy is around 94% which is high number\n",
    "# This model is less likely to predict wrong way based on the above results from the test data.\n",
    "# Based on confusion matrix data, there is bit more possiblity of bad tweet predicted as good.\n"
   ]
  },
  {
   "cell_type": "markdown",
   "metadata": {},
   "source": [
    "---"
   ]
  },
  {
   "cell_type": "markdown",
   "metadata": {},
   "source": [
    "2. Use NLTK to build a model to analyze yelp reviews and predict whether the review would have a 1 star or 5 star rating.\n",
    "<br>The input file is _yelp.csv_ from [source](https://raw.githubusercontent.com/justmarkham/DAT8/master/data/yelp.csv)"
   ]
  },
  {
   "cell_type": "markdown",
   "metadata": {},
   "source": [
    "2a. Read data from yelp.csv, print the size of the DataFrame and the first few lines of data."
   ]
  },
  {
   "cell_type": "markdown",
   "metadata": {},
   "source": [
    "Reading the data from yelp.csv file"
   ]
  },
  {
   "cell_type": "code",
   "execution_count": 658,
   "metadata": {},
   "outputs": [
    {
     "name": "stdout",
     "output_type": "stream",
     "text": [
      "(10000, 10) \n",
      "\n",
      "100000 \n",
      "\n",
      "              business_id        date               review_id  stars  \\\n",
      "0  9yKzy9PApeiPPOUJEtnvkg  2011-01-26  fWKvX83p0-ka4JS3dc6E5A      5   \n",
      "1  ZRJwVLyzEJq1VAihDhYiow  2011-07-27  IjZ33sJrzXqU-0X6U8NwyA      5   \n",
      "2  6oRAC4uyJCsJl1X0WZpVSA  2012-06-14  IESLBzqUCLdSzSqm0eCSxQ      4   \n",
      "3  _1QQZuf4zZOyFCvXc0o6Vg  2010-05-27  G-WvGaISbqqaMHlNnByodA      5   \n",
      "4  6ozycU1RpktNG2-1BroVtw  2012-01-05  1uJFq2r5QfJG_6ExMRCaGw      5   \n",
      "\n",
      "                                                text    type  \\\n",
      "0  My wife took me here on my birthday for breakf...  review   \n",
      "1  I have no idea why some people give bad review...  review   \n",
      "2  love the gyro plate. Rice is so good and I als...  review   \n",
      "3  Rosie, Dakota, and I LOVE Chaparral Dog Park!!...  review   \n",
      "4  General Manager Scott Petello is a good egg!!!...  review   \n",
      "\n",
      "                  user_id  cool  useful  funny  \n",
      "0  rLtl8ZkDX5vH5nAx9C3q5Q     2       5      0  \n",
      "1  0a2KyEL0d3Yb1V6aivbIuQ     0       0      0  \n",
      "2  0hT2KtfLiobPvh6cDC8JQg     0       1      0  \n",
      "3  uZetl9T0NcROGOyFfughhg     1       2      0  \n",
      "4  vYmM4KTsC8ZfQBg-j5MWkw     0       0      0  \n"
     ]
    }
   ],
   "source": [
    "y_data = pd.read_csv(\"yelp.csv\")\n",
    "#print(data, '\\n')\n",
    "print(y_data.shape, \"\\n\")\n",
    "print(y_data.size, \"\\n\")\n",
    "print(y_data.head())"
   ]
  },
  {
   "cell_type": "markdown",
   "metadata": {},
   "source": [
    "The model needs to \"read\" the 'text' column and determine what the number in the 'stars' column would be. The star values are 1 to 5. For this model, we only need to consider the 1-star (worst) and the 5-star (best) reviews."
   ]
  },
  {
   "cell_type": "markdown",
   "metadata": {},
   "source": [
    "2b. To prepare you to working independently in the final project, it's up to you to pre-process the data, build the model, and show the accuracy of the model.\n",
    "\n",
    "Generally the class notes have the material that you need to do the work. If you need to look up and use a new function, you can look up online or ask me. But you should not use a completely different way to build the model than what's discussed in class.\n",
    "\n",
    "For each logical step (block of code to do a task), create 2 cells: \n",
    "- a Markdown cell to explain what the step does\n",
    "- a Code cell to run the code\n",
    "\n",
    "To create a new cell:  use Insert -> Cell Above or Cell Below, or click on the '+' icon to create a cell below the current cell.\n",
    "<br>Use the last pull down menu (default at Code) to select whether a cell is Markdown or Code\n",
    "<br>Then run the cell"
   ]
  },
  {
   "cell_type": "markdown",
   "metadata": {},
   "source": [
    "Get only text and stars data as that is only needed for this analysis"
   ]
  },
  {
   "cell_type": "code",
   "execution_count": 659,
   "metadata": {},
   "outputs": [
    {
     "data": {
      "text/html": [
       "<div>\n",
       "<style scoped>\n",
       "    .dataframe tbody tr th:only-of-type {\n",
       "        vertical-align: middle;\n",
       "    }\n",
       "\n",
       "    .dataframe tbody tr th {\n",
       "        vertical-align: top;\n",
       "    }\n",
       "\n",
       "    .dataframe thead th {\n",
       "        text-align: right;\n",
       "    }\n",
       "</style>\n",
       "<table border=\"1\" class=\"dataframe\">\n",
       "  <thead>\n",
       "    <tr style=\"text-align: right;\">\n",
       "      <th></th>\n",
       "      <th>text</th>\n",
       "      <th>stars</th>\n",
       "    </tr>\n",
       "  </thead>\n",
       "  <tbody>\n",
       "    <tr>\n",
       "      <th>0</th>\n",
       "      <td>My wife took me here on my birthday for breakf...</td>\n",
       "      <td>5</td>\n",
       "    </tr>\n",
       "    <tr>\n",
       "      <th>1</th>\n",
       "      <td>I have no idea why some people give bad review...</td>\n",
       "      <td>5</td>\n",
       "    </tr>\n",
       "    <tr>\n",
       "      <th>2</th>\n",
       "      <td>love the gyro plate. Rice is so good and I als...</td>\n",
       "      <td>4</td>\n",
       "    </tr>\n",
       "    <tr>\n",
       "      <th>3</th>\n",
       "      <td>Rosie, Dakota, and I LOVE Chaparral Dog Park!!...</td>\n",
       "      <td>5</td>\n",
       "    </tr>\n",
       "    <tr>\n",
       "      <th>4</th>\n",
       "      <td>General Manager Scott Petello is a good egg!!!...</td>\n",
       "      <td>5</td>\n",
       "    </tr>\n",
       "    <tr>\n",
       "      <th>...</th>\n",
       "      <td>...</td>\n",
       "      <td>...</td>\n",
       "    </tr>\n",
       "    <tr>\n",
       "      <th>9995</th>\n",
       "      <td>First visit...Had lunch here today - used my G...</td>\n",
       "      <td>3</td>\n",
       "    </tr>\n",
       "    <tr>\n",
       "      <th>9996</th>\n",
       "      <td>Should be called house of deliciousness!\\n\\nI ...</td>\n",
       "      <td>4</td>\n",
       "    </tr>\n",
       "    <tr>\n",
       "      <th>9997</th>\n",
       "      <td>I recently visited Olive and Ivy for business ...</td>\n",
       "      <td>4</td>\n",
       "    </tr>\n",
       "    <tr>\n",
       "      <th>9998</th>\n",
       "      <td>My nephew just moved to Scottsdale recently so...</td>\n",
       "      <td>2</td>\n",
       "    </tr>\n",
       "    <tr>\n",
       "      <th>9999</th>\n",
       "      <td>4-5 locations.. all 4.5 star average.. I think...</td>\n",
       "      <td>5</td>\n",
       "    </tr>\n",
       "  </tbody>\n",
       "</table>\n",
       "<p>10000 rows × 2 columns</p>\n",
       "</div>"
      ],
      "text/plain": [
       "                                                   text  stars\n",
       "0     My wife took me here on my birthday for breakf...      5\n",
       "1     I have no idea why some people give bad review...      5\n",
       "2     love the gyro plate. Rice is so good and I als...      4\n",
       "3     Rosie, Dakota, and I LOVE Chaparral Dog Park!!...      5\n",
       "4     General Manager Scott Petello is a good egg!!!...      5\n",
       "...                                                 ...    ...\n",
       "9995  First visit...Had lunch here today - used my G...      3\n",
       "9996  Should be called house of deliciousness!\\n\\nI ...      4\n",
       "9997  I recently visited Olive and Ivy for business ...      4\n",
       "9998  My nephew just moved to Scottsdale recently so...      2\n",
       "9999  4-5 locations.. all 4.5 star average.. I think...      5\n",
       "\n",
       "[10000 rows x 2 columns]"
      ]
     },
     "execution_count": 659,
     "metadata": {},
     "output_type": "execute_result"
    }
   ],
   "source": [
    "df = y_data[['text','stars']]\n",
    "df"
   ]
  },
  {
   "cell_type": "markdown",
   "metadata": {},
   "source": [
    "Filter that data to have only star values as 5 and 1 for our analysis"
   ]
  },
  {
   "cell_type": "code",
   "execution_count": 660,
   "metadata": {},
   "outputs": [
    {
     "data": {
      "text/html": [
       "<div>\n",
       "<style scoped>\n",
       "    .dataframe tbody tr th:only-of-type {\n",
       "        vertical-align: middle;\n",
       "    }\n",
       "\n",
       "    .dataframe tbody tr th {\n",
       "        vertical-align: top;\n",
       "    }\n",
       "\n",
       "    .dataframe thead th {\n",
       "        text-align: right;\n",
       "    }\n",
       "</style>\n",
       "<table border=\"1\" class=\"dataframe\">\n",
       "  <thead>\n",
       "    <tr style=\"text-align: right;\">\n",
       "      <th></th>\n",
       "      <th>text</th>\n",
       "      <th>stars</th>\n",
       "    </tr>\n",
       "  </thead>\n",
       "  <tbody>\n",
       "    <tr>\n",
       "      <th>0</th>\n",
       "      <td>My wife took me here on my birthday for breakf...</td>\n",
       "      <td>5</td>\n",
       "    </tr>\n",
       "    <tr>\n",
       "      <th>1</th>\n",
       "      <td>I have no idea why some people give bad review...</td>\n",
       "      <td>5</td>\n",
       "    </tr>\n",
       "    <tr>\n",
       "      <th>2</th>\n",
       "      <td>Rosie, Dakota, and I LOVE Chaparral Dog Park!!...</td>\n",
       "      <td>5</td>\n",
       "    </tr>\n",
       "    <tr>\n",
       "      <th>3</th>\n",
       "      <td>General Manager Scott Petello is a good egg!!!...</td>\n",
       "      <td>5</td>\n",
       "    </tr>\n",
       "    <tr>\n",
       "      <th>4</th>\n",
       "      <td>Drop what you're doing and drive here. After I...</td>\n",
       "      <td>5</td>\n",
       "    </tr>\n",
       "  </tbody>\n",
       "</table>\n",
       "</div>"
      ],
      "text/plain": [
       "                                                text  stars\n",
       "0  My wife took me here on my birthday for breakf...      5\n",
       "1  I have no idea why some people give bad review...      5\n",
       "2  Rosie, Dakota, and I LOVE Chaparral Dog Park!!...      5\n",
       "3  General Manager Scott Petello is a good egg!!!...      5\n",
       "4  Drop what you're doing and drive here. After I...      5"
      ]
     },
     "execution_count": 660,
     "metadata": {},
     "output_type": "execute_result"
    }
   ],
   "source": [
    "cond1 = df.stars == 5\n",
    "cond2 = df.stars == 1\n",
    "\n",
    "new_df = df[cond1 | cond2]\n",
    "# print(new_df.head(5))\n",
    "new_df.reset_index(drop=True,inplace=True)\n",
    "new_df.head()"
   ]
  },
  {
   "cell_type": "markdown",
   "metadata": {},
   "source": [
    "Creating y value from the stars. As we have only 2 values no need to replace the values"
   ]
  },
  {
   "cell_type": "code",
   "execution_count": 661,
   "metadata": {},
   "outputs": [
    {
     "name": "stdout",
     "output_type": "stream",
     "text": [
      "(4086,)\n"
     ]
    },
    {
     "data": {
      "text/plain": [
       "4081    5\n",
       "4082    5\n",
       "4083    5\n",
       "4084    5\n",
       "4085    5\n",
       "Name: stars, dtype: int64"
      ]
     },
     "execution_count": 661,
     "metadata": {},
     "output_type": "execute_result"
    }
   ],
   "source": [
    "y = new_df.stars\n",
    "# label = {5:0,1:1}\n",
    "# y = y.replace(label)\n",
    "# y = df.stars\n",
    "print(y.shape)\n",
    "y.tail()"
   ]
  },
  {
   "cell_type": "markdown",
   "metadata": {},
   "source": [
    "Creating the X dataframe by dropping the stars cloumn and reindex to ensure that dataframe is ready for processing"
   ]
  },
  {
   "cell_type": "code",
   "execution_count": 662,
   "metadata": {},
   "outputs": [
    {
     "name": "stdout",
     "output_type": "stream",
     "text": [
      "(4086, 1)\n",
      "<class 'pandas.core.frame.DataFrame'>\n"
     ]
    },
    {
     "data": {
      "text/html": [
       "<div>\n",
       "<style scoped>\n",
       "    .dataframe tbody tr th:only-of-type {\n",
       "        vertical-align: middle;\n",
       "    }\n",
       "\n",
       "    .dataframe tbody tr th {\n",
       "        vertical-align: top;\n",
       "    }\n",
       "\n",
       "    .dataframe thead th {\n",
       "        text-align: right;\n",
       "    }\n",
       "</style>\n",
       "<table border=\"1\" class=\"dataframe\">\n",
       "  <thead>\n",
       "    <tr style=\"text-align: right;\">\n",
       "      <th></th>\n",
       "      <th>text</th>\n",
       "    </tr>\n",
       "  </thead>\n",
       "  <tbody>\n",
       "    <tr>\n",
       "      <th>0</th>\n",
       "      <td>My wife took me here on my birthday for breakf...</td>\n",
       "    </tr>\n",
       "    <tr>\n",
       "      <th>1</th>\n",
       "      <td>I have no idea why some people give bad review...</td>\n",
       "    </tr>\n",
       "    <tr>\n",
       "      <th>2</th>\n",
       "      <td>Rosie, Dakota, and I LOVE Chaparral Dog Park!!...</td>\n",
       "    </tr>\n",
       "    <tr>\n",
       "      <th>3</th>\n",
       "      <td>General Manager Scott Petello is a good egg!!!...</td>\n",
       "    </tr>\n",
       "    <tr>\n",
       "      <th>4</th>\n",
       "      <td>Drop what you're doing and drive here. After I...</td>\n",
       "    </tr>\n",
       "  </tbody>\n",
       "</table>\n",
       "</div>"
      ],
      "text/plain": [
       "                                                text\n",
       "0  My wife took me here on my birthday for breakf...\n",
       "1  I have no idea why some people give bad review...\n",
       "2  Rosie, Dakota, and I LOVE Chaparral Dog Park!!...\n",
       "3  General Manager Scott Petello is a good egg!!!...\n",
       "4  Drop what you're doing and drive here. After I..."
      ]
     },
     "execution_count": 662,
     "metadata": {},
     "output_type": "execute_result"
    }
   ],
   "source": [
    "# X_a = new_df.drop(columns=['stars'])\n",
    "# print(X_a.shape)\n",
    "# print(type(X_a))\n",
    "# X_a.head()\n",
    "\n",
    "\n",
    "# X_a = new_df.text\n",
    "# print(X_a.shape)\n",
    "# print(type(X_a))\n",
    "# X_a.tail()\n",
    "\n",
    "\n",
    "X_a = new_df.drop(columns=['stars'])\n",
    "print(X_a.shape)\n",
    "print(type(X_a))\n",
    "# print(X_a.head())\n",
    "X_a.reset_index()\n",
    "X_a.head()"
   ]
  },
  {
   "cell_type": "markdown",
   "metadata": {},
   "source": [
    "Preprocessing the data for model train and test by applying the tokenization and stemming"
   ]
  },
  {
   "cell_type": "code",
   "execution_count": 663,
   "metadata": {},
   "outputs": [
    {
     "data": {
      "text/html": [
       "<div>\n",
       "<style scoped>\n",
       "    .dataframe tbody tr th:only-of-type {\n",
       "        vertical-align: middle;\n",
       "    }\n",
       "\n",
       "    .dataframe tbody tr th {\n",
       "        vertical-align: top;\n",
       "    }\n",
       "\n",
       "    .dataframe thead th {\n",
       "        text-align: right;\n",
       "    }\n",
       "</style>\n",
       "<table border=\"1\" class=\"dataframe\">\n",
       "  <thead>\n",
       "    <tr style=\"text-align: right;\">\n",
       "      <th></th>\n",
       "      <th>0</th>\n",
       "    </tr>\n",
       "  </thead>\n",
       "  <tbody>\n",
       "    <tr>\n",
       "      <th>0</th>\n",
       "      <td>wife took birthday breakfast excel weather per...</td>\n",
       "    </tr>\n",
       "    <tr>\n",
       "      <th>1</th>\n",
       "      <td>idea peopl give bad review place goe show plea...</td>\n",
       "    </tr>\n",
       "    <tr>\n",
       "      <th>2</th>\n",
       "      <td>love gyro plate rice good also dig candi select</td>\n",
       "    </tr>\n",
       "    <tr>\n",
       "      <th>3</th>\n",
       "      <td>rosi dakota love chaparr dog park conveni surr...</td>\n",
       "    </tr>\n",
       "    <tr>\n",
       "      <th>4</th>\n",
       "      <td>gener manag scott petello good egg go detail l...</td>\n",
       "    </tr>\n",
       "    <tr>\n",
       "      <th>...</th>\n",
       "      <td>...</td>\n",
       "    </tr>\n",
       "    <tr>\n",
       "      <th>4081</th>\n",
       "      <td>bicycl ride orang tabl point friend lulu cupca...</td>\n",
       "    </tr>\n",
       "    <tr>\n",
       "      <th>4082</th>\n",
       "      <td>truli great owner care custom highli recommend...</td>\n",
       "    </tr>\n",
       "    <tr>\n",
       "      <th>4083</th>\n",
       "      <td>second time chandler work four time basic come...</td>\n",
       "    </tr>\n",
       "    <tr>\n",
       "      <th>4084</th>\n",
       "      <td>love place tri pepperoni pizza amaz love fresh...</td>\n",
       "    </tr>\n",
       "    <tr>\n",
       "      <th>4085</th>\n",
       "      <td>place okay first like say bridal consult remem...</td>\n",
       "    </tr>\n",
       "  </tbody>\n",
       "</table>\n",
       "<p>4086 rows × 1 columns</p>\n",
       "</div>"
      ],
      "text/plain": [
       "                                                      0\n",
       "0     wife took birthday breakfast excel weather per...\n",
       "1     idea peopl give bad review place goe show plea...\n",
       "2       love gyro plate rice good also dig candi select\n",
       "3     rosi dakota love chaparr dog park conveni surr...\n",
       "4     gener manag scott petello good egg go detail l...\n",
       "...                                                 ...\n",
       "4081  bicycl ride orang tabl point friend lulu cupca...\n",
       "4082  truli great owner care custom highli recommend...\n",
       "4083  second time chandler work four time basic come...\n",
       "4084  love place tri pepperoni pizza amaz love fresh...\n",
       "4085  place okay first like say bridal consult remem...\n",
       "\n",
       "[4086 rows x 1 columns]"
      ]
     },
     "execution_count": 663,
     "metadata": {},
     "output_type": "execute_result"
    }
   ],
   "source": [
    "\n",
    "X_a_processed = pd.Series([preprocess(df.loc[i, 'text']) for i in range(len(X_a))]).to_frame()\n",
    "X_a_processed"
   ]
  },
  {
   "cell_type": "markdown",
   "metadata": {},
   "source": [
    "Creating X_vectors "
   ]
  },
  {
   "cell_type": "code",
   "execution_count": 664,
   "metadata": {},
   "outputs": [
    {
     "name": "stdout",
     "output_type": "stream",
     "text": [
      "  (0, 26)\t2\n",
      "  (0, 309)\t2\n",
      "  (0, 432)\t1\n",
      "  (0, 540)\t1\n",
      "  (0, 752)\t1\n",
      "  (0, 1024)\t2\n",
      "  (0, 1035)\t1\n",
      "  (0, 1102)\t1\n",
      "  (0, 1166)\t1\n",
      "  (0, 1189)\t1\n",
      "  (0, 1380)\t1\n",
      "  (0, 1390)\t1\n",
      "  (0, 1584)\t1\n",
      "  (0, 1683)\t1\n",
      "  (0, 2425)\t1\n",
      "  (0, 3049)\t1\n",
      "  (0, 3581)\t1\n",
      "  (0, 3658)\t1\n",
      "  (0, 3891)\t2\n",
      "  (0, 3897)\t1\n",
      "  (0, 3919)\t3\n",
      "  (0, 4097)\t1\n",
      "  (0, 4192)\t1\n",
      "  (0, 4365)\t1\n",
      "  (0, 4493)\t1\n",
      "  :\t:\n",
      "  (0, 8512)\t1\n",
      "  (0, 8573)\t1\n",
      "  (0, 8627)\t1\n",
      "  (0, 8693)\t1\n",
      "  (0, 8732)\t1\n",
      "  (0, 8953)\t2\n",
      "  (0, 9192)\t2\n",
      "  (0, 9970)\t1\n",
      "  (0, 10074)\t1\n",
      "  (0, 10155)\t1\n",
      "  (0, 10406)\t1\n",
      "  (0, 10440)\t1\n",
      "  (0, 10467)\t1\n",
      "  (0, 11268)\t1\n",
      "  (0, 11472)\t1\n",
      "  (0, 11787)\t1\n",
      "  (0, 11833)\t1\n",
      "  (0, 12001)\t1\n",
      "  (0, 12362)\t1\n",
      "  (0, 12439)\t1\n",
      "  (0, 12609)\t1\n",
      "  (0, 12612)\t1\n",
      "  (0, 12693)\t1\n",
      "  (0, 12783)\t1\n",
      "  (0, 12814)\t1\n",
      "(4086, 13152)\n",
      "0       wife took birthday breakfast excel weather per...\n",
      "1       idea peopl give bad review place goe show plea...\n",
      "2         love gyro plate rice good also dig candi select\n",
      "3       rosi dakota love chaparr dog park conveni surr...\n",
      "4       gener manag scott petello good egg go detail l...\n",
      "                              ...                        \n",
      "4081    bicycl ride orang tabl point friend lulu cupca...\n",
      "4082    truli great owner care custom highli recommend...\n",
      "4083    second time chandler work four time basic come...\n",
      "4084    love place tri pepperoni pizza amaz love fresh...\n",
      "4085    place okay first like say bridal consult remem...\n",
      "Name: 0, Length: 4086, dtype: object\n"
     ]
    }
   ],
   "source": [
    "vect = CountVectorizer()\n",
    "vect.fit(X_a_processed[0])\n",
    "X_vectors = vect.transform(X_a_processed[0])\n",
    "print(X_vectors[0])\n",
    "print(X_vectors.shape)\n",
    "print(X_a_processed[0])"
   ]
  },
  {
   "cell_type": "markdown",
   "metadata": {},
   "source": [
    "SPlitting the data to get train and test data from the data"
   ]
  },
  {
   "cell_type": "code",
   "execution_count": 665,
   "metadata": {},
   "outputs": [
    {
     "name": "stdout",
     "output_type": "stream",
     "text": [
      "(3268, 13152) (3268,) (818, 13152) (818,)\n"
     ]
    }
   ],
   "source": [
    "X_train, X_test, y_train, y_test = train_test_split(X_vectors,y,test_size=0.2)\n",
    "print(X_train.shape, y_train.shape, X_test.shape, y_test.shape)"
   ]
  },
  {
   "cell_type": "markdown",
   "metadata": {},
   "source": [
    "Applying the Naive NB classifier and train the model"
   ]
  },
  {
   "cell_type": "code",
   "execution_count": 666,
   "metadata": {},
   "outputs": [],
   "source": [
    "classifier = MultinomialNB()\n",
    "classifier.fit(X_train, y_train)\n",
    "y_pred = classifier.predict(X_test)"
   ]
  },
  {
   "cell_type": "markdown",
   "metadata": {},
   "source": [
    "Finding the accuracy, confusion matrix and f1_score"
   ]
  },
  {
   "cell_type": "code",
   "execution_count": 667,
   "metadata": {},
   "outputs": [
    {
     "name": "stdout",
     "output_type": "stream",
     "text": [
      "0.7799511002444988\n",
      "[[ 0  0]\n",
      " [ 0 13]]\n",
      "0.8265813280886749\n"
     ]
    }
   ],
   "source": [
    "# accuracy\n",
    "print(metrics.accuracy_score(y_test, y_pred))\n",
    "print(metrics.confusion_matrix(y_test, y_pred, labels=[0,1]))\n",
    "print(f1_score(y_pred, y_test, average='weighted'))"
   ]
  },
  {
   "cell_type": "code",
   "execution_count": null,
   "metadata": {},
   "outputs": [],
   "source": []
  },
  {
   "cell_type": "code",
   "execution_count": null,
   "metadata": {},
   "outputs": [],
   "source": []
  }
 ],
 "metadata": {
  "kernelspec": {
   "display_name": "Python 3",
   "language": "python",
   "name": "python3"
  },
  "language_info": {
   "codemirror_mode": {
    "name": "ipython",
    "version": 3
   },
   "file_extension": ".py",
   "mimetype": "text/x-python",
   "name": "python",
   "nbconvert_exporter": "python",
   "pygments_lexer": "ipython3",
   "version": "3.8.5"
  }
 },
 "nbformat": 4,
 "nbformat_minor": 1
}
